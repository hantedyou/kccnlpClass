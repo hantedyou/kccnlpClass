{
  "nbformat": 4,
  "nbformat_minor": 0,
  "metadata": {
    "colab": {
      "private_outputs": true,
      "provenance": [],
      "collapsed_sections": [],
      "include_colab_link": true
    },
    "kernelspec": {
      "name": "python3",
      "display_name": "Python 3"
    },
    "language_info": {
      "name": "python"
    },
    "gpuClass": "standard"
  },
  "cells": [
    {
      "cell_type": "markdown",
      "metadata": {
        "id": "view-in-github",
        "colab_type": "text"
      },
      "source": [
        "<a href=\"https://colab.research.google.com/github/hantedyou/kccnlpClass/blob/main/DATA_EDA_2022.ipynb\" target=\"_parent\"><img src=\"https://colab.research.google.com/assets/colab-badge.svg\" alt=\"Open In Colab\"/></a>"
      ]
    },
    {
      "cell_type": "code",
      "execution_count": null,
      "metadata": {
        "id": "gL1I7I6EElJb"
      },
      "outputs": [],
      "source": [
        "import numpy as np \n",
        "import pandas as pd\n",
        "import matplotlib.pyplot as plt\n",
        "import seaborn as sns\n",
        "import os, sys\n",
        "from google.colab import drive"
      ]
    },
    {
      "cell_type": "code",
      "source": [
        "ROOT = '/content/drive'     # default for the drive\n",
        "# PROJ = 'My Drive/kcc/KCCNLP2022'       # path to your project on Drive\n",
        "PROJ = 'My Drive//KCCNLP2022_shared'\n",
        "\n",
        "\n",
        "drive.mount(ROOT)           \n",
        "PROJECT_PATH = os.path.join(ROOT, PROJ)  \n",
        "print(PROJECT_PATH)\n",
        "os.chdir(PROJECT_PATH)\n",
        "os.listdir()[:10]"
      ],
      "metadata": {
        "id": "xiFNrxOiGU_4"
      },
      "execution_count": null,
      "outputs": []
    },
    {
      "cell_type": "code",
      "source": [
        "dict_map_classes = {14:0, 33:0, 62:0, 7:1, 18:1, 8:2, 63:2,\n",
        "          0:3, 39:3, 10:3, 37:4, 40:4, 49:4, 52:4,\n",
        "          16:5, 27:5, 29:5, 35:5, 64:5, 20:6, 47:6,\n",
        "          38:7, 68:8, 50:9, 51:10, 60:10, 61:10, 71:10,\n",
        "          57:11, 12:12, 4:13, 31:14, 66:14, 9:14, 56:15, 48:16,\n",
        "          45:17, 55:17, 65:17, 43:18, 3:19, 5:19, 32:19, 54:19,\n",
        "          26:20, 34:20, 36:21, 59:21, 21:22, 24:22, 53:22,\n",
        "          15:23, 23:23, 67:23, 11:24, 30:24, 72:24, 58:25,\n",
        "          17:26, 13:26, 2:27, 19:27, 22:27, 46:27, 41:28, 42:28,\n",
        "          6:29, 25:29, 28:29, 44:29, 70:29, 1:30, 69:31}\n",
        "len(dict_map_classes)"
      ],
      "metadata": {
        "id": "bJXuBEmSH8i7"
      },
      "execution_count": null,
      "outputs": []
    },
    {
      "cell_type": "code",
      "source": [
        "df_old = pd.read_csv(\"data/2020CisDep-10501.csv\")\n",
        "print(df_old.columns)\n",
        "df_old.head(3)"
      ],
      "metadata": {
        "id": "LTA6ZZB6GVqG"
      },
      "execution_count": null,
      "outputs": []
    },
    {
      "cell_type": "markdown",
      "source": [
        "## 取出需要用的columns，刪除沒有分類的資料"
      ],
      "metadata": {
        "id": "RUeGbMUDKuNL"
      }
    },
    {
      "cell_type": "code",
      "source": [
        "df_old = df_old[['編號', '類別', '分類', '內容']]\n",
        "print(len(df_old))\n",
        "# 移除分類是NAN的資料\n",
        "df_old=df_old.dropna(subset=['分類'])\n",
        "print(len(df_old))\n",
        "df_old['分類'] = df_old['分類'].astype('int64')"
      ],
      "metadata": {
        "id": "5UibHR7RGiiW"
      },
      "execution_count": null,
      "outputs": []
    },
    {
      "cell_type": "markdown",
      "source": [
        "## 將舊分類轉換為新分類"
      ],
      "metadata": {
        "id": "H9TWWR7OLPVq"
      }
    },
    {
      "cell_type": "code",
      "source": [
        "df_old['舊分類'] = df_old['分類']\n",
        "df_old.replace({\"分類\": dict_map_classes},inplace = True)\n",
        "print(df_old.columns)\n",
        "df_old.head(3)"
      ],
      "metadata": {
        "id": "GDCinX9pHTKd"
      },
      "execution_count": null,
      "outputs": []
    },
    {
      "cell_type": "markdown",
      "source": [
        "### 檢查分類"
      ],
      "metadata": {
        "id": "VbPbi1kGPqk4"
      }
    },
    {
      "cell_type": "code",
      "source": [
        "old_classes = set(df_old['舊分類'])\n",
        "new_classes = set(df_old['分類'])"
      ],
      "metadata": {
        "id": "nq_eLe_QLeDG"
      },
      "execution_count": null,
      "outputs": []
    },
    {
      "cell_type": "code",
      "source": [
        "len(old_classes),len(new_classes)"
      ],
      "metadata": {
        "id": "bqk8tsAhKKRx"
      },
      "execution_count": null,
      "outputs": []
    },
    {
      "cell_type": "code",
      "source": [
        "df_old.to_csv(\"data/2020CisDep-10501-類別轉換.csv\")"
      ],
      "metadata": {
        "id": "iOjHVn1FLvaZ"
      },
      "execution_count": null,
      "outputs": []
    },
    {
      "cell_type": "markdown",
      "source": [
        "## 檢視資料分布"
      ],
      "metadata": {
        "id": "RZPsZNIcQYrk"
      }
    },
    {
      "cell_type": "code",
      "source": [
        "def getFreqPair(df, classes, class_len=32):\n",
        "  \"\"\"\n",
        "  功能：回傳紀錄每個class出現次數的字典，\n",
        "  key是類別，values是該類別的出現次數。\n",
        "  classes ：類別欄位名稱\n",
        "  class_len：有幾種類別\n",
        "  \"\"\"\n",
        "  class_len = len(set(df[classes]))\n",
        "  res = dict()\n",
        "  # 計算類別出現次數\n",
        "  df['freq'] = df.groupby(classes)[classes].transform('count')\n",
        "  for i in range(len(df)):\n",
        "    if(len(res) > class_len):\n",
        "      break;\n",
        "    key = df[classes].iloc[i]\n",
        "    if(key not in res):\n",
        "      res[key] = df['freq'].iloc[i]\n",
        "  dict(sorted(res.items()))\n",
        "  return res"
      ],
      "metadata": {
        "id": "FFu4HdMyQSYJ"
      },
      "execution_count": null,
      "outputs": []
    },
    {
      "cell_type": "code",
      "source": [
        "df_data3k = pd.read_csv(\"data/data_3000.csv\")\n",
        "print(df_data3k.columns)\n",
        "df_data3k.head(3)"
      ],
      "metadata": {
        "id": "mLJZyRNnPwus"
      },
      "execution_count": null,
      "outputs": []
    },
    {
      "cell_type": "code",
      "source": [
        "dict_freq_pair = getFreqPair(df_data3k, 'reCheckedsubject')\n",
        "names = list(dict_freq_pair.keys())\n",
        "values = list(dict_freq_pair.values())\n",
        "\n",
        "plt.figure(figsize=(12,4),dpi=100,linewidth = 2)\n",
        "plt.xlabel(\"Classes\", fontsize=15, labelpad = 15)\n",
        "plt.ylabel(\"Counts\", fontsize=15, labelpad = 20)\n",
        "plt.bar(names, values, tick_label=names)"
      ],
      "metadata": {
        "id": "W2Bc2t42P9BQ"
      },
      "execution_count": null,
      "outputs": []
    },
    {
      "cell_type": "code",
      "source": [
        "df_data3k = pd.read_csv(\"data/data_3000.csv\")\n",
        "df_data3k['freq'] = df_data3k.groupby('reCheckedsubject')['reCheckedsubject'].transform('count')\n",
        "df_sample_from_3k = df_data3k.sample(int(len(df_data3k)*0.2), weights = df_data3k.freq)\n",
        "#df_sample_from_3k = df_data3k.sample(int(len(df_data3k)*0.2), ignore_index = True)\n",
        "dict_freq_pair = getFreqPair(df_sample_from_3k, 'reCheckedsubject')\n",
        "names = list(dict_freq_pair.keys())\n",
        "values = list(dict_freq_pair.values())\n",
        "\n",
        "plt.figure(figsize=(12,4),dpi=100,linewidth = 2)\n",
        "plt.xlabel(\"Classes\", fontsize=12, labelpad = 5)\n",
        "plt.ylabel(\"Counts\", fontsize=12, labelpad = 20)\n",
        "plt.bar(names, values, tick_label=names)"
      ],
      "metadata": {
        "id": "sAPsiJJ0dxev"
      },
      "execution_count": null,
      "outputs": []
    },
    {
      "cell_type": "code",
      "source": [
        "df_data3k.columns"
      ],
      "metadata": {
        "id": "2vVk_FAkSx9I"
      },
      "execution_count": null,
      "outputs": []
    },
    {
      "cell_type": "code",
      "source": [
        "dict_freq_pair = getFreqPair(df_old, '分類')\n",
        "names = list(dict_freq_pair.keys())\n",
        "values = list(dict_freq_pair.values())\n",
        "\n",
        "plt.figure(figsize=(12,4),dpi=100,linewidth = 1)\n",
        "plt.xlabel(\"Classes\", fontsize=15, labelpad = 15)\n",
        "plt.ylabel(\"Counts\", fontsize=15, labelpad = 20)\n",
        "plt.bar(names, values, tick_label=names)"
      ],
      "metadata": {
        "id": "nxCr2vCwSJmu"
      },
      "execution_count": null,
      "outputs": []
    },
    {
      "cell_type": "markdown",
      "source": [
        "## 將資料的分布資料匯出"
      ],
      "metadata": {
        "id": "2p3IIDjDWulC"
      }
    },
    {
      "cell_type": "code",
      "source": [
        "df_old['freq'] = df_old.groupby('分類')['分類'].transform('count')/len(df_old)\n",
        "df_old_distribution = df_old[['分類','freq']].drop_duplicates()\n",
        "df_old_distribution.to_excel('data/2020CisDep-10501-類別轉換-百分比.xls')"
      ],
      "metadata": {
        "id": "tvvD-vrQSrM-"
      },
      "execution_count": null,
      "outputs": []
    },
    {
      "cell_type": "code",
      "source": [
        "df_data3k['freq'] = df_data3k.groupby('reCheckedsubject')['reCheckedsubject'].transform('count')/len(df_old)\n",
        "df_data3k_distribution = df_data3k[['reCheckedsubject','freq']].drop_duplicates()\n",
        "df_data3k_distribution.to_excel('data/data_3000-百分比.xls')"
      ],
      "metadata": {
        "id": "Irqnl-6AUCpp"
      },
      "execution_count": null,
      "outputs": []
    },
    {
      "cell_type": "code",
      "source": [],
      "metadata": {
        "id": "465uFL6CUWSG"
      },
      "execution_count": null,
      "outputs": []
    },
    {
      "cell_type": "code",
      "source": [],
      "metadata": {
        "id": "tf0G9-E8UsxD"
      },
      "execution_count": null,
      "outputs": []
    },
    {
      "cell_type": "code",
      "source": [],
      "metadata": {
        "id": "cBMN9TKBHZgA"
      },
      "execution_count": null,
      "outputs": []
    },
    {
      "cell_type": "markdown",
      "source": [
        "# 2022 07 12 結果檢視"
      ],
      "metadata": {
        "id": "RT-UQf3bHa-N"
      }
    },
    {
      "cell_type": "code",
      "source": [
        "df = pd.read_csv('result/roberta-base-TrainByOld-PredOld-acc89.4-all.csv', index_col = 0)\n",
        "#df = pd.read_csv('result/roberta-base-TrainByOld-PredOld-acc89.4-preWrong.csv',index_col = 0)"
      ],
      "metadata": {
        "id": "hy3uUkmLHdPS"
      },
      "execution_count": null,
      "outputs": []
    },
    {
      "cell_type": "code",
      "source": [
        "print(len(df),df.columns)\n",
        "df.head()"
      ],
      "metadata": {
        "id": "XAeUz61MHt93"
      },
      "execution_count": null,
      "outputs": []
    },
    {
      "cell_type": "code",
      "source": [
        "from sklearn import metrics"
      ],
      "metadata": {
        "id": "twwMWX6LHirA"
      },
      "execution_count": null,
      "outputs": []
    },
    {
      "cell_type": "code",
      "source": [
        "df_dif = df[df['true_y']!=df['pred_y']]"
      ],
      "metadata": {
        "id": "DiKtFMzEImwc"
      },
      "execution_count": null,
      "outputs": []
    },
    {
      "cell_type": "code",
      "source": [
        "len(df),len(df_dif)"
      ],
      "metadata": {
        "id": "Asb9Qh_kKFPc"
      },
      "execution_count": null,
      "outputs": []
    },
    {
      "cell_type": "code",
      "source": [
        "metrics.accuracy_score(df['true_y'],df['pred_y'])"
      ],
      "metadata": {
        "id": "dI9SBS5xHoqG"
      },
      "execution_count": null,
      "outputs": []
    },
    {
      "cell_type": "code",
      "source": [
        "df_dif.reset_index()"
      ],
      "metadata": {
        "id": "kxWK17fLI2_s"
      },
      "execution_count": null,
      "outputs": []
    },
    {
      "cell_type": "code",
      "source": [
        "data_index = 5\n",
        "true_y = df_dif.iloc[data_index].true_y\n",
        "pred_y = df_dif.iloc[data_index].pred_y\n",
        "print(f\"True y:{true_y}\\nPredict y:{pred_y}\")\n",
        "df_dif.iloc[data_index].content"
      ],
      "metadata": {
        "id": "lFKvtioNI_V6"
      },
      "execution_count": null,
      "outputs": []
    },
    {
      "cell_type": "code",
      "source": [
        "!nvidia-smi"
      ],
      "metadata": {
        "id": "og-pIyRHJKeh"
      },
      "execution_count": null,
      "outputs": []
    },
    {
      "cell_type": "code",
      "source": [],
      "metadata": {
        "id": "tvwk3R3UNYUh"
      },
      "execution_count": null,
      "outputs": []
    }
  ]
}