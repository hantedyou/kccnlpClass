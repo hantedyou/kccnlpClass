{
  "cells": [
    {
      "cell_type": "markdown",
      "metadata": {
        "id": "view-in-github",
        "colab_type": "text"
      },
      "source": [
        "<a href=\"https://colab.research.google.com/github/hantedyou/kccnlpClass/blob/main/NER_KCC_mod_auto_VM.ipynb\" target=\"_parent\"><img src=\"https://colab.research.google.com/assets/colab-badge.svg\" alt=\"Open In Colab\"/></a>"
      ]
    },
    {
      "cell_type": "code",
      "execution_count": null,
      "metadata": {
        "id": "iuW7ubD--B8e"
      },
      "outputs": [],
      "source": [
        "import tensorflow as tf\n",
        "import keras\n",
        "\n",
        "import pandas as pd\n",
        "import numpy as np\n",
        "#import matplotlib.pyplot as plt\n",
        "import gc\n",
        "import math\n",
        "#import KCC_NER_Util"
      ]
    },
    {
      "cell_type": "code",
      "execution_count": null,
      "metadata": {
        "id": "DDHgUDzf-B8k"
      },
      "outputs": [],
      "source": [
        "from ckiptagger import construct_dictionary\n",
        "import datetime\n",
        "from ckiptagger import WS, POS, NER\n",
        "ws = WS(\"./data\")\n",
        "pos = POS(\"./data\")\n",
        "ner = NER(\"./data\")"
      ]
    },
    {
      "cell_type": "code",
      "execution_count": null,
      "metadata": {
        "id": "twPStfdq-B8l",
        "outputId": "4a4c7666-1188-46dd-a69e-6b15c388aab2"
      },
      "outputs": [
        {
          "data": {
            "text/plain": [
              "634624"
            ]
          },
          "execution_count": 61,
          "metadata": {},
          "output_type": "execute_result"
        }
      ],
      "source": [
        "\"\"\"\n",
        "執行完後應把相關資源釋放\n",
        "\"\"\"\n",
        "del WS\n",
        "del POS\n",
        "del NER\n",
        "del ws\n",
        "del pos\n",
        "del ner\n",
        "del dictionary\n",
        "gc.collect()"
      ]
    },
    {
      "cell_type": "markdown",
      "metadata": {
        "id": "uw6SQQ8N-B8n"
      },
      "source": [
        "# 1.word_proc_dataframe : 將輸入的資料作斷詞、詞性標註及NER"
      ]
    },
    {
      "cell_type": "markdown",
      "metadata": {
        "id": "uwZYVsN7-B8p"
      },
      "source": [
        "## 1-1 載入自訂辭典，使用CKIPTagger的功能\"construct_dictionary\""
      ]
    },
    {
      "cell_type": "code",
      "execution_count": null,
      "metadata": {
        "id": "_ITHgSJf-B8q"
      },
      "outputs": [],
      "source": [
        "# 載入 自訂詞典\n",
        "User_Dict = {}\n",
        "with open(\"CIS_Dict2.txt\",\"r\", encoding='utf-8-sig') as UDicts:\n",
        "    for udic in UDicts:\n",
        "        udWord = udic.strip().split(\" \")\n",
        "        if len(udWord) > 1:\n",
        "            User_Dict[udWord[0]] = udWord[1]\n",
        "        else:\n",
        "            User_Dict[udWord[0]] = 10\n",
        "dictionary = construct_dictionary(User_Dict)"
      ]
    },
    {
      "cell_type": "markdown",
      "metadata": {
        "id": "h7dbuVP3-B8r"
      },
      "source": [
        "## 1-2 定義資料處理module"
      ]
    },
    {
      "cell_type": "code",
      "execution_count": null,
      "metadata": {
        "id": "KI2kTVVo-B8s"
      },
      "outputs": [],
      "source": [
        "def word_proc_dataframe(input_Series,\n",
        "              column_name = 'Text',\n",
        "              tt_seg = (1,10),\n",
        "              export_flag = False, \n",
        "              #tt_begin = 0,tt_end = 50,\n",
        "              output_file = \"df_test_out.csv\"):\n",
        "    \"\"\"\n",
        "        data_path(str):資料路徑(字串)\n",
        "        column_name(str):要處理的欄位名稱\n",
        "        tt_seg(tuple):起訖列號\n",
        "        export_flag(boolean):是否產出檔案\n",
        "        output_file:輸出的檔案名稱，指定為CSV檔    \n",
        "    \"\"\"\n",
        "    \n",
        "    \n",
        "    \"\"\"\n",
        "    file_type = data_path[-4:]\n",
        "    print(\"輸入檔案格式為 {}\".format(file_type))\n",
        "    if 'csv' in file_type:\n",
        "        data = pd.read_csv(data_path)\n",
        "    elif 'xls' in file_type:\n",
        "        data = pd.read_excel(data_path)\n",
        "    else:\n",
        "        #print(\"檔案須為CSV或XLS/XLSX\")\n",
        "        raise Exception(\"檔案須為CSV或XLS/XLSX\")\n",
        "        #return None\n",
        "    \"\"\"\n",
        "    \n",
        "    \"\"\"\n",
        "    column_list = list(input_df.columns)\n",
        "    if column_name in column_list:\n",
        "        text = input_df[column_name]\n",
        "    else:\n",
        "        print(\"輸入欄位\\\"{input_column}\\\"不存在\\n匯入檔案欄位{i_column_name}\".format(input_column = column_name,\n",
        "                                                                       i_column_name=str(column_list)))\n",
        "        raise Exception(\"不存在此欄位名稱\")\n",
        "    \"\"\"\n",
        "    \n",
        "    #ls_Test = list(text[tt_begin:tt_end])\n",
        "    \n",
        "    ###########      debug        ###############\n",
        "    \n",
        "    print(\"起始列數：{begin}\\n結束列數:{end}\".format(begin = (tt_seg[0]),end = tt_seg[1]))\n",
        "    print(\"列印前3筆:\\n{}\".format(input_Series[:3]))\n",
        "    print(\"列印末3筆:\\n{}\".format(input_Series[-3:]))\n",
        "    \n",
        "    #print(input_Series[:10])\n",
        "    #print(input_Series[tt_seg[0]:tt_seg[1]])\n",
        "    ###########      debug        ###############\n",
        "    \n",
        "    ls_len = len(input_Series)\n",
        "    ls_Test = list(input_Series[:])\n",
        "    \n",
        "    \n",
        "    \n",
        "    if (len(ls_Test) > 0):\n",
        "        print(\"取得list，長度為：{list_len}\\n 載入 WS 資料...\".format(list_len = len(ls_Test)))\n",
        "    else:\n",
        "        raise Exception(\"資料長度為0\")\n",
        "        \n",
        "    \n",
        "    print(\"============================\\n 開始執行 WS\\n============================\\n\")\n",
        "    # 紀錄 WS 起始時間\n",
        "    startTime_WS = datetime.datetime.now()   \n",
        "    print(startTime_WS)\n",
        "    \n",
        "    word_sentence_list = ws(ls_Test,\n",
        "                                # sentence_segmentation=True, # To consider delimiters\n",
        "                                # segment_delimiter_set = {\",\", \"。\", \":\", \"?\", \"!\", \";\"}),\n",
        "                                # This is the defualt set of delimiters\n",
        "                                # recommend_dictionary = dictionary, # words in this dictionary are encouraged\n",
        "                                coerce_dictionary = dictionary, # words in this dictionary are forced\n",
        "                            )\n",
        "    \n",
        "    # 紀錄 WS 結束時間\n",
        "    endTime_WS = datetime.datetime.now()\n",
        "    # 計算本次 WS 執行時間\n",
        "    exeTime_WS = endTime_WS - startTime_WS    \n",
        "    print(\"============================\\n WS 完成\\n============================\\n\")\n",
        "    print(\"\\t\\t WS 執行時間:  {}\".format(exeTime_WS))\n",
        "    \n",
        "    \n",
        "    print(\"============================\\n 開始執行 POS \\n============================\\n\")\n",
        "    # 紀錄 POS 起始時間\n",
        "    startTime_POS = datetime.datetime.now()   \n",
        "    print(startTime_POS)\n",
        "    \n",
        "\n",
        "    pos_sentence_list = pos(word_sentence_list)\n",
        "    \n",
        "    #紀錄 POS 結束時間\n",
        "    endTime_POS = datetime.datetime.now()\n",
        "    #計算本次 POS 執行時間\n",
        "    exeTime_POS = endTime_POS - startTime_POS    \n",
        "    \n",
        "    print(\"============================\\n POS 完成\\n============================\\n\")\n",
        "    print (\"\\t\\t POS 執行時間:  {}\".format(exeTime_POS))\n",
        "    \n",
        "    \n",
        "    print(\"============================\\n 開始執行 NER \\n============================\\n\")\n",
        "    #紀錄 NER 起始時間\n",
        "    startTime_NER = datetime.datetime.now()   \n",
        "    print(startTime_NER)\n",
        "    \n",
        "    entity_sentence_list = ner(word_sentence_list, pos_sentence_list)\n",
        "    \n",
        "    #紀錄 NER 起始時間\n",
        "    endTime_NER = datetime.datetime.now()\n",
        "    #計算本次 NER 執行時間\n",
        "    exeTime_NER = endTime_NER - startTime_NER    \n",
        "    print(\"============================\\n NER 完成\\n============================\\n\")\n",
        "    print (\"\\t\\t NER 執行時間:  {}\".format(exeTime_NER))\n",
        "    \n",
        "    \"\"\"\n",
        "    建立一個DataFrame物件，\n",
        "    其結構為['原始資料','WS結果','POS結果','NER結果']\n",
        "    \"\"\"\n",
        "    \n",
        "    df_Test = pd.DataFrame(ls_Test,columns=[column_name])\n",
        "    df_Test['WS'] = np.array(word_sentence_list)\n",
        "    \n",
        "    ##################\n",
        "    #print(\"DEBUG\")\n",
        "    #print(pos_sentence_list[:5])\n",
        "    ##################\n",
        "    \n",
        "    df_Test['POS'] = np.array(pos_sentence_list)\n",
        "    df_Test['NER'] = np.array(entity_sentence_list)\n",
        "    print(\"============================\\n Dataframe Created \\n============================\\n\")\n",
        "    \n",
        "    if export_flag is True:\n",
        "        df_Test.to_csv(output_file)\n",
        "        print(\"File Exported!!!!!\")\n",
        "    else:\n",
        "        print(\"斷詞處理完成，不產生檔案\")\n",
        "        \n",
        "    #return df_Test,word_sentence_list,pos_sentence_list,entity_sentence_list\n",
        "    \n",
        "    #回傳 NER 結果\n",
        "    return entity_sentence_list\n"
      ]
    },
    {
      "cell_type": "markdown",
      "metadata": {
        "id": "ORQfPRXU-B8v"
      },
      "source": [
        "# 2.gen_df:產生df[\"類別\",\"NER\"]供產檔使用"
      ]
    },
    {
      "cell_type": "code",
      "execution_count": null,
      "metadata": {
        "id": "8-BW5V6z-B8w"
      },
      "outputs": [],
      "source": [
        "def gen_df(in_list):\n",
        "    \"\"\"\n",
        "    1.功能：將中研院 ckiptagger.NER 處理後之NER資料(list)打開，\n",
        "    取出NER類別及專有名詞，分別存到df_class_list 及df_ner_list中，\n",
        "    並將其組成有兩個欄位['類別','專有名詞']的DataFrame。\n",
        "    \n",
        "    2.說明：\n",
        "    中研院 ckiptagger.NER 處理後之NER資料有N個set，\n",
        "    N為輸入資料的筆數，\n",
        "    每個set表示該段文字取出之NER。\n",
        "    因為set沒有順序性，不好處理，\n",
        "    把set群轉成ner_list有N個set；\n",
        "    ner_list有M個tuple，\n",
        "    每個代表一個字的NER\n",
        "    EX:(475, 482, 'ORG', '臺中國家歌劇院')。\n",
        "    \"\"\"\n",
        "    df_class_list = list()\n",
        "    df_ner_list = list()\n",
        "    \n",
        "    count = 0\n",
        "    for i in range(len(in_list)):\n",
        "        for j in range(len(in_list[i])):\n",
        "            count = count +1\n",
        "            a = in_list[i].pop()\n",
        "            df_class_list.append(a[2])    #NER類別\n",
        "            df_ner_list.append(a[3])      #NER\n",
        "        #print(type(new_list[j]),(new_list[j]))\n",
        "    #print(count)\n",
        "    extract_df = pd.DataFrame({'類別':df_class_list,'專有名詞':df_ner_list})\n",
        "    \n",
        "    #刪除重複\n",
        "    dd_extract_df = extract_df.drop_duplicates(subset =\"專有名詞\").copy()\n",
        "    del extract_df\n",
        "    #df_exp = dd_extract_df.loc[dd_extract_df['類別'].isin(['LOC','PERSON', 'ORG', 'LAW', 'EVENT','GPE'])].copy()\n",
        "    \n",
        "    #取出需要的類別\n",
        "    df_exp = dd_extract_df.loc[dd_extract_df['類別'].isin(['EVENT','FAC','GPE','LAW','LOC','MONEY','NORP','ORG','PERSON'])].copy()\n",
        "    del dd_extract_df\n",
        "    \n",
        "    #刪除長度不到2的資料\n",
        "    df_exp_2 = df_exp[df_exp['專有名詞'].map(len) >= 2].copy()\n",
        "    del df_exp\n",
        "    \n",
        "    return df_exp_2\n",
        "    "
      ]
    },
    {
      "cell_type": "markdown",
      "metadata": {
        "id": "CTXy_3Wl-B8x"
      },
      "source": [
        "# 3.proc_seg : 自動處理NER及產生CSV檔"
      ]
    },
    {
      "cell_type": "code",
      "execution_count": null,
      "metadata": {
        "id": "b0Qs-UX0-B8x"
      },
      "outputs": [],
      "source": [
        "def proc_seg(in_df,export_path,seg_len=100):\n",
        "    \"\"\"\n",
        "    將資料分段處理，\n",
        "    in_df:要分段完整資料\n",
        "    seg_len:每一段要處理的長度(幾row)\n",
        "    export_path:檔案匯出路徑\n",
        "    \"\"\"\n",
        "    \n",
        "    #計算輸入資料長度\n",
        "    df_length = len(in_df)\n",
        "    #計算要分成幾段處理\n",
        "    seg_n = math.ceil(df_length/seg_len) \n",
        "    \n",
        "    print(\"輸入資料長度:{in_len}\\n共分成{seg}段\".format(in_len = df_length,seg = seg_n))\n",
        "    \n",
        "    \"\"\"\n",
        "    產生一個字典物件obj，\n",
        "    其內容為分段後之資料，\n",
        "    每一個key 'df_i'對應到一個長度為seg_len的Series，\n",
        "    Series內每一列即為一篇文字(string)。\n",
        "    \"\"\"\n",
        "    obj = {}\n",
        "    for i in range(seg_n):\n",
        "        #print(i*seg_len,(i+1)*seg_len)\n",
        "        #print(df_seg_test[(i*100):(i+1)*100])\n",
        "        obj['df_'+str(i)] = in_df[(i*seg_len):(i+1)*seg_len]   \n",
        "        \n",
        "    \"\"\"\n",
        "    1.將分段資料丟到 word_proc_dataframe 及 gen_df 處理。\n",
        "    2.word_proc_dataframe : 產生NER結果(list)並回傳。\n",
        "    3.gen_df : 將 word_proc_dataframe 產出的list內容取出，轉換成DataFrame['類別','專有名詞(NER)']\n",
        "    tt_seg邏輯：\n",
        "        segment = 0\n",
        "        tt_seg = (0,100)\n",
        "\n",
        "        segment = 1\n",
        "        tt_seg = (100,200)\n",
        "        ...\n",
        "        segment = n\n",
        "        tt_seg = (n,n*seg_len)\n",
        "    \"\"\"\n",
        "    for segment in range(len(obj)):\n",
        "        \n",
        "        print(\"=======================\\t開始處理第{}段\\t===================\\n\".format(segment))\n",
        "        print(\"第{}段長度：{}\".format(('df_'+ str(segment)),len(obj['df_'+ str(segment)])))\n",
        "        \n",
        "        ########################################################################################\n",
        "        # 呼叫word_proc_dataframe，回傳NER list\n",
        "        ########################################################################################\n",
        "        \n",
        "        print(\"(segment*seg_len:{},(segment+1)*segment):{}\".format((segment*seg_len),(segment+1)*seg_len))\n",
        "        print(\"=====================================\\b呼叫word_proc_dataframe\\b=============================\\n\")\n",
        "        entity_list = word_proc_dataframe(input_Series = obj['df_'+ str(segment)],\n",
        "                            tt_seg = ((segment*seg_len),(segment+1)*seg_len))\n",
        "        \n",
        "        print(\"=====================================呼叫 gen_df=============================\\n\")\n",
        "        temp_df = gen_df(entity_list)\n",
        "        #temp_df.sort_values(by=['類別']).to_csv(\"NER_Export_New\\df_out_\" + str(segment) + \".csv\")\n",
        "        temp_df.sort_values(by=['類別']).to_csv(export_path + str(segment) + \".csv\")\n",
        "        #print(type(obj['df_'+ str(segment)]))\n",
        "        print(\"===========================  第{}段處理完成 ===========================  \\n\".format(segment))\n",
        "        \n",
        "        #print(obj['df_'+ str(segment)])\n",
        "    gc.collect()"
      ]
    },
    {
      "cell_type": "markdown",
      "metadata": {
        "id": "nD5M9pEu-B8y"
      },
      "source": [
        "# 4.讀取檔案及執行自動產檔"
      ]
    },
    {
      "cell_type": "code",
      "execution_count": null,
      "metadata": {
        "id": "K8DqkdpY-B8z",
        "outputId": "ebbb5c22-3ccc-4ce7-edcf-8a71d3e4c628"
      },
      "outputs": [
        {
          "data": {
            "text/plain": [
              "Index(['序號', '日期', '報別', '內容'], dtype='object')"
            ]
          },
          "execution_count": 29,
          "metadata": {},
          "output_type": "execute_result"
        }
      ],
      "source": [
        "#讀檔 新聞\n",
        "full_path = r\"剪報系統匯出-正確\\all-new(11554).xlsx\"\n",
        "df_full_text = pd.read_excel(full_path)\n",
        "df_full_text.columns"
      ]
    },
    {
      "cell_type": "code",
      "execution_count": null,
      "metadata": {
        "id": "N61Nivfe-B80",
        "outputId": "d8ddb539-2b55-4588-8428-e2fa5a4f7d8f"
      },
      "outputs": [
        {
          "name": "stdout",
          "output_type": "stream",
          "text": [
            "Index(['FileNo', 'FileName', 'Text'], dtype='object')\n",
            "-----------------------------------------------------------\n"
          ]
        },
        {
          "data": {
            "text/html": [
              "<div>\n",
              "<style scoped>\n",
              "    .dataframe tbody tr th:only-of-type {\n",
              "        vertical-align: middle;\n",
              "    }\n",
              "\n",
              "    .dataframe tbody tr th {\n",
              "        vertical-align: top;\n",
              "    }\n",
              "\n",
              "    .dataframe thead th {\n",
              "        text-align: right;\n",
              "    }\n",
              "</style>\n",
              "<table border=\"1\" class=\"dataframe\">\n",
              "  <thead>\n",
              "    <tr style=\"text-align: right;\">\n",
              "      <th></th>\n",
              "      <th>FileNo</th>\n",
              "      <th>FileName</th>\n",
              "      <th>Text</th>\n",
              "    </tr>\n",
              "  </thead>\n",
              "  <tbody>\n",
              "    <tr>\n",
              "      <th>0</th>\n",
              "      <td>1</td>\n",
              "      <td>1-1-1000516-1-蘇炎城.pdf</td>\n",
              "      <td>一、第 1 屆第 1 次定期大會第 27 次會議 （中華民國 100 年 5 月 16 日上...</td>\n",
              "    </tr>\n",
              "    <tr>\n",
              "      <th>1</th>\n",
              "      <td>2</td>\n",
              "      <td>1-1-1000516-2-張勝富.pdf</td>\n",
              "      <td>主席（許議長崑源）： 繼續開會，請張議員勝富質詢。 張議員勝富： 大會主席、陳市長、市政府一...</td>\n",
              "    </tr>\n",
              "    <tr>\n",
              "      <th>2</th>\n",
              "      <td>3</td>\n",
              "      <td>1-1-1000516-3-吳益政.pdf</td>\n",
              "      <td>議長崑源）： 繼續開會，請吳議員益政質詢。 吳議員益政： 主席、市長、三位副市長還有各位局...</td>\n",
              "    </tr>\n",
              "  </tbody>\n",
              "</table>\n",
              "</div>"
            ],
            "text/plain": [
              "   FileNo               FileName  \\\n",
              "0       1  1-1-1000516-1-蘇炎城.pdf   \n",
              "1       2  1-1-1000516-2-張勝富.pdf   \n",
              "2       3  1-1-1000516-3-吳益政.pdf   \n",
              "\n",
              "                                                Text  \n",
              "0  一、第 1 屆第 1 次定期大會第 27 次會議 （中華民國 100 年 5 月 16 日上...  \n",
              "1  主席（許議長崑源）： 繼續開會，請張議員勝富質詢。 張議員勝富： 大會主席、陳市長、市政府一...  \n",
              "2  \n",
              "議長崑源）： 繼續開會，請吳議員益政質詢。 吳議員益政： 主席、市長、三位副市長還有各位局...  "
            ]
          },
          "execution_count": 27,
          "metadata": {},
          "output_type": "execute_result"
        }
      ],
      "source": [
        "#讀檔 議事資料\n",
        "# df_file = pd.read_csv(r\"News Data\\News11554.csv\")\n",
        "df_full_text = pd.read_csv(r\"Johnson\\00 KCC NER\\CIS Data\\CisPdf2CsvByFile.csv\")\n",
        "print(df_full_text.columns)\n",
        "print(\"-----------------------------------------------------------\")\n",
        "df_full_text.head(3)"
      ]
    },
    {
      "cell_type": "code",
      "execution_count": null,
      "metadata": {
        "collapsed": true,
        "jupyter": {
          "outputs_hidden": true
        },
        "id": "uI-N_YIx-B80",
        "outputId": "a37aa543-f3b2-4f0d-a73a-2f660e7e95ae"
      },
      "outputs": [
        {
          "name": "stdout",
          "output_type": "stream",
          "text": [
            "開始執行NER作業，起始時間2020-02-11 10:33:57.664125\n",
            "輸入資料長度:100\n",
            "共分成4段\n",
            "=======================\t開始處理第0段\t===================\n",
            "\n",
            "第df_0段長度：30\n",
            "(segment*seg_len:0,(segment+1)*segment):30\n",
            "====================================呼叫word_proc_datafram=============================\n",
            "\n",
            "起始列數：0\n",
            "結束列數:30\n",
            "列印前3筆:\n",
            "0    馬英九總統昨天上午視察衛武營藝術文化中心，文化部長洪孟啟、工程會副主委顏久榮及高雄市副市長吳...\n",
            "1    　日本九州熊本縣接連遭強震襲擊，台灣分別捐贈熊本縣政府和日本政府款項，高雄市長陳菊、台南市 ...\n",
            "2    　壽山動物園為增進動物飼養福祉及保育工作，特設立「高雄市壽山動物園認養辦法」設立動物認養專戶...\n",
            "Name: 內容, dtype: object\n",
            "列印末3筆:\n",
            "27    　針對高雄市議會國民黨團昨天指責高雄市政府徵收污水下水道使用費還要民眾自行檢驗，向市府提出鑑...\n",
            "28    　市議員林瑩蓉昨天針對經濟發展局業務報告提出楠梓創新研發園區構想，感到憂心，呼籲楠梓中油廠區...\n",
            "29    　行政院評估高雄市大林蒲遷村至少要支出七百億元，高雄市長陳菊日前表示，該案是經濟部的評估 ，...\n",
            "Name: 內容, dtype: object\n",
            "取得list，長度為：30\n",
            " 載入 WS 資料...\n",
            "============================\n",
            " 開始執行 WS\n",
            "============================\n",
            "\n",
            "2020-02-11 10:33:57.669123\n",
            "============================\n",
            " WS 完成\n",
            "============================\n",
            "\n",
            "\t\t WS 執行時間:  0:00:16.976074\n",
            "============================\n",
            " 開始執行 POS \n",
            "============================\n",
            "\n",
            "2020-02-11 10:34:14.645197\n",
            "============================\n",
            " POS 完成\n",
            "============================\n",
            "\n",
            "\t\t POS 執行時間:  0:00:13.624369\n",
            "============================\n",
            " 開始執行 NER \n",
            "============================\n",
            "\n",
            "2020-02-11 10:34:28.270566\n",
            "============================\n",
            " NER 完成\n",
            "============================\n",
            "\n",
            "\t\t NER 執行時間:  0:00:19.066001\n",
            "============================\n",
            " Dataframe Created \n",
            "============================\n",
            "\n",
            "斷詞處理完成，不產生檔案\n",
            "=====================================呼叫 gen_df=============================\n",
            "\n",
            "===========================  第0段處理完成 ===========================  \n",
            "\n",
            "=======================\t開始處理第1段\t===================\n",
            "\n",
            "第df_1段長度：30\n",
            "(segment*seg_len:30,(segment+1)*segment):60\n",
            "====================================呼叫word_proc_datafram=============================\n",
            "\n",
            "起始列數：30\n",
            "結束列數:60\n",
            "列印前3筆:\n",
            "30    高雄市政府工務局規劃生態交通示範社區，範圍涵蓋是以濱海一路、濱海二路、臨海二路及鼓山一路，示...\n",
            "31    「是你嗎？是誰？你有祖產房地尚未辦理繼承？」高市府地政局統計全市有三百零二公頃的土地和五百零...\n",
            "32    高雄市政府農業局昨日組團參加四月十二日至十五日在新加坡國際博覽中心舉行的二零一六新加坡國際食...\n",
            "Name: 內容, dtype: object\n",
            "列印末3筆:\n",
            "57    　高雄市長陳菊昨天在市議會報告，以高雄需要財政正義為題火力全開，砲轟馬英九政府，並針對財政南...\n",
            "58    　部份綠營人士要求特赦前總統陳水扁，國民黨立院黨團昨天表示，總統馬英九將卸任，有這麼大的權力...\n",
            "59    　高雄柴山除了知名的龍泉寺、動物園等路線，還有一處隱藏在柴半山腰上具有百年歷史的三座石灰窯，...\n",
            "Name: 內容, dtype: object\n",
            "取得list，長度為：30\n",
            " 載入 WS 資料...\n",
            "============================\n",
            " 開始執行 WS\n",
            "============================\n",
            "\n",
            "2020-02-11 10:34:47.355574\n",
            "============================\n",
            " WS 完成\n",
            "============================\n",
            "\n",
            "\t\t WS 執行時間:  0:00:16.316461\n",
            "============================\n",
            " 開始執行 POS \n",
            "============================\n",
            "\n",
            "2020-02-11 10:35:03.672035\n",
            "============================\n",
            " POS 完成\n",
            "============================\n",
            "\n",
            "\t\t POS 執行時間:  0:00:14.292701\n",
            "============================\n",
            " 開始執行 NER \n",
            "============================\n",
            "\n",
            "2020-02-11 10:35:17.965739\n",
            "============================\n",
            " NER 完成\n",
            "============================\n",
            "\n",
            "\t\t NER 執行時間:  0:00:19.094995\n",
            "============================\n",
            " Dataframe Created \n",
            "============================\n",
            "\n",
            "斷詞處理完成，不產生檔案\n",
            "=====================================呼叫 gen_df=============================\n",
            "\n",
            "===========================  第1段處理完成 ===========================  \n",
            "\n",
            "=======================\t開始處理第2段\t===================\n",
            "\n",
            "第df_2段長度：30\n",
            "(segment*seg_len:60,(segment+1)*segment):90\n",
            "====================================呼叫word_proc_datafram=============================\n",
            "\n",
            "起始列數：60\n",
            "結束列數:90\n",
            "列印前3筆:\n",
            "60    　二０一六第四屆台灣國際扣件展昨天在高雄展覽館登場，新園農場自救會與路竹阿蓮民眾、環保團體數...\n",
            "61    高雄市型農培訓名額搶破頭，依據往年的經驗錄取率大約不到二成，是全國最夯的農業培訓課程。「型農...\n",
            "62    　無障礙之家主任陳桂英指出，無障礙之家考量身心障礙者受限於自身智力、認知、協調動作及行為問題...\n",
            "Name: 內容, dtype: object\n",
            "列印末3筆:\n",
            "87    　二０一六年建築園冶獎於昨天在高雄市政府四維行政中心前廣場，舉辦「高雄市大樓、透天建築景觀決...\n",
            "88    　各界特赦前總統陳水扁的聲浪再起，但法律是否適用，有疑義。陳水扁兒子陳致中昨天說，感謝各界的...\n",
            "89    針對前總統陳水扁特赦爭議，台北市長柯文哲昨天首度表態，自己是希望總統馬英九特赦前總統陳水扁 ...\n",
            "Name: 內容, dtype: object\n",
            "取得list，長度為：30\n",
            " 載入 WS 資料...\n",
            "============================\n",
            " 開始執行 WS\n",
            "============================\n",
            "\n",
            "2020-02-11 10:35:37.081736\n",
            "============================\n",
            " WS 完成\n",
            "============================\n",
            "\n",
            "\t\t WS 執行時間:  0:00:17.919896\n",
            "============================\n",
            " 開始執行 POS \n",
            "============================\n",
            "\n",
            "2020-02-11 10:35:55.002623\n",
            "============================\n",
            " POS 完成\n",
            "============================\n",
            "\n",
            "\t\t POS 執行時間:  0:00:12.741191\n",
            "============================\n",
            " 開始執行 NER \n",
            "============================\n",
            "\n",
            "2020-02-11 10:36:07.744814\n",
            "============================\n",
            " NER 完成\n",
            "============================\n",
            "\n",
            "\t\t NER 執行時間:  0:00:19.926038\n",
            "============================\n",
            " Dataframe Created \n",
            "============================\n",
            "\n",
            "斷詞處理完成，不產生檔案\n",
            "=====================================呼叫 gen_df=============================\n",
            "\n",
            "===========================  第2段處理完成 ===========================  \n",
            "\n",
            "=======================\t開始處理第3段\t===================\n",
            "\n",
            "第df_3段長度：10\n",
            "(segment*seg_len:90,(segment+1)*segment):120\n",
            "====================================呼叫word_proc_datafram=============================\n",
            "\n",
            "起始列數：90\n",
            "結束列數:120\n",
            "列印前3筆:\n",
            "90    誰來特赦陳水扁？ 民進黨要馬政權節制，尊重新政府，不要在空窗期越權，可是卻要馬英九執行「特赦...\n",
            "91    四月三日至九日 國內 　△四日：美國職棒ＭＬＢ堪薩斯市皇家宣布開季二十五人名單，台灣旅美投手...\n",
            "92    高雄市長陳菊昨天下午陪同準副總統陳建仁探視前總統陳水扁，她事後受訪說，有當面向陳水扁報告「 ...\n",
            "Name: 內容, dtype: object\n",
            "列印末3筆:\n",
            "97    　前總統陳水扁兒子陳致中昨天下午說，副總統當選人陳建仁探視行程上週就已排定，與高雄市議會上午...\n",
            "98    　高雄市議會日前決議呼籲特赦前總統陳水扁；高雄市長陳菊昨天呼應表示同意。對此，時代力量立委徐...\n",
            "99    　繼台南市議會後，高雄市議會民進黨黨團昨天提案通過建請總統馬英九特赦前總統陳水扁，好促進藍綠...\n",
            "Name: 內容, dtype: object\n",
            "取得list，長度為：10\n",
            " 載入 WS 資料...\n",
            "============================\n",
            " 開始執行 WS\n",
            "============================\n",
            "\n",
            "2020-02-11 10:36:27.687854\n",
            "============================\n",
            " WS 完成\n",
            "============================\n",
            "\n",
            "\t\t WS 執行時間:  0:00:10.009998\n",
            "============================\n",
            " 開始執行 POS \n",
            "============================\n",
            "\n",
            "2020-02-11 10:36:37.699851\n",
            "============================\n",
            " POS 完成\n",
            "============================\n",
            "\n",
            "\t\t POS 執行時間:  0:00:07.268544\n",
            "============================\n",
            " 開始執行 NER \n",
            "============================\n",
            "\n",
            "2020-02-11 10:36:44.968395\n",
            "============================\n",
            " NER 完成\n",
            "============================\n",
            "\n",
            "\t\t NER 執行時間:  0:00:11.054988\n",
            "============================\n",
            " Dataframe Created \n",
            "============================\n",
            "\n",
            "斷詞處理完成，不產生檔案\n",
            "=====================================呼叫 gen_df=============================\n",
            "\n",
            "===========================  第3段處理完成 ===========================  \n",
            "\n",
            "NER作業執行完成，執行時間：0:02:58.756266\n"
          ]
        }
      ],
      "source": [
        "#df_seg_test = df_full_text[\"Text\"]\n",
        "df_seg_test = df_full_text[\"內容\"][:100]\n",
        "ex_path = r\"NER_Export_New\\Test\\\\\"\n",
        "# 執行產檔\n",
        "starttime = datetime.datetime.now()    #紀錄執行時間\n",
        "print(\"開始執行NER作業，起始時間{}\".format(starttime))\n",
        "proc_seg(df_seg_test,export_path=ex_path, seg_len=30)\n",
        "endtime = datetime.datetime.now()    #紀錄執行時間\n",
        "exeTime = endtime - starttime\n",
        "print (\"NER作業執行完成，執行時間：{}\".format(exeTime))"
      ]
    },
    {
      "cell_type": "code",
      "execution_count": null,
      "metadata": {
        "id": "a0AmA-ZX-B80"
      },
      "outputs": [],
      "source": [
        "#選擇要的欄位\n",
        "#df_seg_test = df_full_text[\"內容\"] #新聞\n",
        "#df_seg_test = df_full_text[\"Text\"]\n",
        "# 執行產檔\n",
        "#proc_seg(df_seg_test,50)"
      ]
    },
    {
      "cell_type": "markdown",
      "metadata": {
        "id": "E_dyqGHO-B81"
      },
      "source": [
        "# 5 將所有檔案彙整成一個CSV，刪掉重複&案類別排序後匯出"
      ]
    },
    {
      "cell_type": "markdown",
      "metadata": {
        "id": "yVUs4MWV-B81"
      },
      "source": [
        "## 5-1 彙整檔案"
      ]
    },
    {
      "cell_type": "code",
      "execution_count": null,
      "metadata": {
        "id": "Y1vS7TIY-B81",
        "outputId": "4f2e6226-2300-4910-f3ad-3594093ce433"
      },
      "outputs": [
        {
          "name": "stderr",
          "output_type": "stream",
          "text": [
            "C:\\Users\\kccadmin\\Anaconda3\\envs\\Data_science\\lib\\site-packages\\ipykernel_launcher.py:13: FutureWarning: Sorting because non-concatenation axis is not aligned. A future version\n",
            "of pandas will change to not sort by default.\n",
            "\n",
            "To accept the future behavior, pass 'sort=False'.\n",
            "\n",
            "To retain the current behavior and silence the warning, pass 'sort=True'.\n",
            "\n",
            "  del sys.path[0]\n"
          ]
        }
      ],
      "source": [
        "import glob\n",
        "import pandas as pd\n",
        "\n",
        "path = ex_path \n",
        "all_files = glob.glob(path + \"/*.csv\")\n",
        "\n",
        "li = []\n",
        "\n",
        "for filename in all_files:\n",
        "    df = pd.read_csv(filename, index_col=0, header=0)\n",
        "    li.append(df)\n",
        "\n",
        "frame = pd.concat(li, axis=0, ignore_index=True)"
      ]
    },
    {
      "cell_type": "code",
      "execution_count": null,
      "metadata": {
        "id": "_Pz59XNX-B81",
        "outputId": "3c4146ef-83b5-4550-ff72-42a99eca2509"
      },
      "outputs": [
        {
          "name": "stdout",
          "output_type": "stream",
          "text": [
            "1128\n"
          ]
        },
        {
          "data": {
            "text/html": [
              "<div>\n",
              "<style scoped>\n",
              "    .dataframe tbody tr th:only-of-type {\n",
              "        vertical-align: middle;\n",
              "    }\n",
              "\n",
              "    .dataframe tbody tr th {\n",
              "        vertical-align: top;\n",
              "    }\n",
              "\n",
              "    .dataframe thead th {\n",
              "        text-align: right;\n",
              "    }\n",
              "</style>\n",
              "<table border=\"1\" class=\"dataframe\">\n",
              "  <thead>\n",
              "    <tr style=\"text-align: right;\">\n",
              "      <th></th>\n",
              "      <th>專有名詞</th>\n",
              "    </tr>\n",
              "    <tr>\n",
              "      <th>類別</th>\n",
              "      <th></th>\n",
              "    </tr>\n",
              "  </thead>\n",
              "  <tbody>\n",
              "    <tr>\n",
              "      <th>EVENT</th>\n",
              "      <td>24</td>\n",
              "    </tr>\n",
              "    <tr>\n",
              "      <th>FAC</th>\n",
              "      <td>71</td>\n",
              "    </tr>\n",
              "    <tr>\n",
              "      <th>GPE</th>\n",
              "      <td>154</td>\n",
              "    </tr>\n",
              "    <tr>\n",
              "      <th>LAW</th>\n",
              "      <td>20</td>\n",
              "    </tr>\n",
              "    <tr>\n",
              "      <th>LOC</th>\n",
              "      <td>42</td>\n",
              "    </tr>\n",
              "    <tr>\n",
              "      <th>MONEY</th>\n",
              "      <td>81</td>\n",
              "    </tr>\n",
              "    <tr>\n",
              "      <th>NORP</th>\n",
              "      <td>20</td>\n",
              "    </tr>\n",
              "    <tr>\n",
              "      <th>ORG</th>\n",
              "      <td>403</td>\n",
              "    </tr>\n",
              "    <tr>\n",
              "      <th>PERSON</th>\n",
              "      <td>313</td>\n",
              "    </tr>\n",
              "  </tbody>\n",
              "</table>\n",
              "</div>"
            ],
            "text/plain": [
              "        專有名詞\n",
              "類別          \n",
              "EVENT     24\n",
              "FAC       71\n",
              "GPE      154\n",
              "LAW       20\n",
              "LOC       42\n",
              "MONEY     81\n",
              "NORP      20\n",
              "ORG      403\n",
              "PERSON   313"
            ]
          },
          "execution_count": 40,
          "metadata": {},
          "output_type": "execute_result"
        }
      ],
      "source": [
        "print(len(frame))\n",
        "frame.groupby('類別').count()"
      ]
    },
    {
      "cell_type": "markdown",
      "metadata": {
        "id": "3FjEq7YN-B81"
      },
      "source": [
        "## 5-2 取出需要的類別"
      ]
    },
    {
      "cell_type": "code",
      "execution_count": null,
      "metadata": {
        "id": "OBaHDctH-B82",
        "outputId": "b75b332f-472d-4e87-a6dd-436a1ad78883"
      },
      "outputs": [
        {
          "name": "stdout",
          "output_type": "stream",
          "text": [
            "1047\n",
            "1047\n"
          ]
        }
      ],
      "source": [
        "df_exp_all = frame.loc[frame['類別'].isin(['EVENT','FAC','GPE','LAW','LOC','NORP','ORG','PERSON'])].copy()\n",
        "print(len(df_exp_all))\n",
        "df_exp_all.groupby('類別').count().to_csv(path + \"\\statistics.csv\")\n",
        "print(len(df_exp_all))"
      ]
    },
    {
      "cell_type": "markdown",
      "metadata": {
        "id": "3f5FBAwV-B82"
      },
      "source": [
        "## 5-3 去除字串空白"
      ]
    },
    {
      "cell_type": "code",
      "execution_count": null,
      "metadata": {
        "id": "mZDTr-8v-B82",
        "outputId": "68ac7707-e9f9-432a-a379-9d443d7f926b"
      },
      "outputs": [
        {
          "name": "stdout",
          "output_type": "stream",
          "text": [
            "1047\n",
            "1047\n",
            "1047\n"
          ]
        }
      ],
      "source": [
        "#去空白\n",
        "print(len(df_exp_all))\n",
        "df_exp_all['專有名詞'] = df_exp_all['專有名詞'].str.strip()    #去前後空白\n",
        "print(len(df_exp_all))\n",
        "df_exp_all['專有名詞'] = df_exp_all['專有名詞'].str.replace(' ', '')   #去中間空白\n",
        "print(len(df_exp_all))\n",
        "df_exp_all.groupby('類別').count().to_csv(path + \"\\statistics.csv\")"
      ]
    },
    {
      "cell_type": "markdown",
      "metadata": {
        "id": "9Pru5K9U-B82"
      },
      "source": [
        "## 5-4 刪除重複：\n",
        "###    因為空白可能在字串不同地方，所以要先去空白再刪重複 "
      ]
    },
    {
      "cell_type": "code",
      "execution_count": null,
      "metadata": {
        "id": "mbOqAK4s-B82",
        "outputId": "59aa5889-b0c0-4205-d7c7-cae8362708b8"
      },
      "outputs": [
        {
          "name": "stdout",
          "output_type": "stream",
          "text": [
            "853\n"
          ]
        }
      ],
      "source": [
        "df_exp_all = df_exp_all.drop_duplicates().copy()\n",
        "print(len(df_exp_all))\n",
        "df_exp_all.groupby('類別').count().to_csv(path + \"\\statistics.csv\")"
      ]
    },
    {
      "cell_type": "markdown",
      "metadata": {
        "id": "2Q8NozUI-B83"
      },
      "source": [
        "## 5-5 將處理完的DataFrame匯出檔案"
      ]
    },
    {
      "cell_type": "code",
      "execution_count": null,
      "metadata": {
        "id": "zVK6liqL-B83"
      },
      "outputs": [],
      "source": [
        "# 匯出檔案\n",
        "df_exp_all.sort_values(by=['類別']).to_csv(r\"NER_Export_New\\df_out_all.csv\")"
      ]
    },
    {
      "cell_type": "markdown",
      "metadata": {
        "id": "u6FjXSxJ-B83"
      },
      "source": [
        "# ========================================    \n",
        "# 結束   \n",
        "# ========================================"
      ]
    },
    {
      "cell_type": "markdown",
      "metadata": {
        "id": "FQav6f7t-B83"
      },
      "source": [
        "# 2020 02 11後續處理\n",
        "## 全形轉半形\n",
        "## 將類別改為中文"
      ]
    },
    {
      "cell_type": "code",
      "execution_count": null,
      "metadata": {
        "id": "Rf0JA25W-B83"
      },
      "outputs": [],
      "source": [
        "#path = \"NER_Result\\\\\"\n",
        "path = r\"NER_Result\\NER_Combine_Exp\\\\\"\n",
        "df_continue = pd.read_excel(path + \"20200211-ner.xlsx\")\n",
        "#df_continue = pd.read_csv(path + \"sortbyNERLenCat_NBOM_test.csv\")\n"
      ]
    },
    {
      "cell_type": "code",
      "execution_count": null,
      "metadata": {
        "id": "rW4PZIQ4-B83"
      },
      "outputs": [],
      "source": [
        "import datetime\n"
      ]
    },
    {
      "cell_type": "code",
      "execution_count": null,
      "metadata": {
        "id": "3-cDQNvk-B83",
        "outputId": "7e5a1072-ca18-4942-a551-1971e635d492"
      },
      "outputs": [
        {
          "name": "stdout",
          "output_type": "stream",
          "text": [
            "2020_02_11\n"
          ]
        }
      ],
      "source": [
        "a = str(datetime.datetime.now()).replace(\"-\",\"_\")\n",
        "print(str(a)[:10].replace(\"-\",\"_\"))"
      ]
    },
    {
      "cell_type": "code",
      "execution_count": null,
      "metadata": {
        "id": "OF9BPzmy-B84",
        "outputId": "48fd8720-4d91-44c0-b1d6-7dac92f4a5ea"
      },
      "outputs": [
        {
          "name": "stdout",
          "output_type": "stream",
          "text": [
            "Index(['編號', '類別', '專有名詞', 'length'], dtype='object')\n"
          ]
        }
      ],
      "source": [
        "print(df_continue.columns)\n",
        "#df_continue = df_continue[['類別','專有名詞','length']]\n",
        "#print(df_continue.columns)"
      ]
    },
    {
      "cell_type": "code",
      "execution_count": null,
      "metadata": {
        "id": "6KGfRWwA-B84"
      },
      "outputs": [],
      "source": [
        "# 全形轉半形\n",
        "df_continue['專有名詞'] = df_continue['專有名詞'].str.normalize('NFKC')"
      ]
    },
    {
      "cell_type": "code",
      "execution_count": null,
      "metadata": {
        "id": "sDtdcU7u-B84"
      },
      "outputs": [],
      "source": [
        "# 刪除特殊符號\n",
        "# https://stackoverflow.com/questions/50444346/fast-punctuation-removal-with-pandas\n",
        "df_continue['專有名詞'] = df_continue['專有名詞'].str.replace(r'[^\\w\\s]+', '')"
      ]
    },
    {
      "cell_type": "code",
      "execution_count": null,
      "metadata": {
        "id": "EXmz5jGz-B84"
      },
      "outputs": [],
      "source": [
        "df_continue['類別'] = df_continue['類別'].replace('ORG', '組織').replace('PERSON', '人物').replace('GPE', '行政區域').replace('LOC', '地理區域').replace('EVENT', '事件').replace('LAW', '法律').replace('FAC', '設施')"
      ]
    },
    {
      "cell_type": "code",
      "execution_count": null,
      "metadata": {
        "id": "khbfFLcR-B84"
      },
      "outputs": [],
      "source": [
        "df_continue.to_excel(path + \"NER_\"+ str(datetime.datetime.now())[:10].replace(\"-\",\"_\")+ \".xls\",sheet_name= \"NER_result\")"
      ]
    },
    {
      "cell_type": "code",
      "execution_count": null,
      "metadata": {
        "id": "nX6987ot-B85"
      },
      "outputs": [],
      "source": [
        "df_continue.to_csv(path + \"sortbyNERLenCat_NBOM_20200211.csv\")"
      ]
    },
    {
      "cell_type": "code",
      "execution_count": null,
      "metadata": {
        "id": "mhMv6p0T-B85"
      },
      "outputs": [],
      "source": [
        "#https://www.geeksforgeeks.org/python-pandas-series-str-translate/\n",
        "trans_dict ={\"PERSON\":\"人物\",\"GPE\":\"行政區域\",\"LOC\":\"地理區域\",\"EVENT\":\"事件\",\"LAW\":\"法律\",\"NORP\":\"民族宗教政治團體\"}"
      ]
    },
    {
      "cell_type": "code",
      "execution_count": null,
      "metadata": {
        "id": "L7CbjffQ-B85"
      },
      "outputs": [],
      "source": [
        "path = \"NER_Result\\\\\"\n",
        "path = r\"NER_Export_New\\Test\\\\\""
      ]
    },
    {
      "cell_type": "code",
      "execution_count": null,
      "metadata": {
        "id": "DN_PE9WD-B85"
      },
      "outputs": [],
      "source": [
        "a = pd.read_csv(path + \"3.csv\")"
      ]
    },
    {
      "cell_type": "code",
      "execution_count": null,
      "metadata": {
        "id": "X0PH-4PC-B85",
        "outputId": "e4607238-2aa2-4c06-db6e-845c66d58a3b"
      },
      "outputs": [
        {
          "name": "stdout",
          "output_type": "stream",
          "text": [
            "Index(['Unnamed: 0', '類別', '專有名詞'], dtype='object')\n"
          ]
        },
        {
          "data": {
            "text/html": [
              "<div>\n",
              "<style scoped>\n",
              "    .dataframe tbody tr th:only-of-type {\n",
              "        vertical-align: middle;\n",
              "    }\n",
              "\n",
              "    .dataframe tbody tr th {\n",
              "        vertical-align: top;\n",
              "    }\n",
              "\n",
              "    .dataframe thead th {\n",
              "        text-align: right;\n",
              "    }\n",
              "</style>\n",
              "<table border=\"1\" class=\"dataframe\">\n",
              "  <thead>\n",
              "    <tr style=\"text-align: right;\">\n",
              "      <th></th>\n",
              "      <th>Unnamed: 0</th>\n",
              "      <th>類別</th>\n",
              "      <th>專有名詞</th>\n",
              "    </tr>\n",
              "  </thead>\n",
              "  <tbody>\n",
              "    <tr>\n",
              "      <th>0</th>\n",
              "      <td>23</td>\n",
              "      <td>EVENT</td>\n",
              "      <td>美麗島１２３</td>\n",
              "    </tr>\n",
              "    <tr>\n",
              "      <th>1</th>\n",
              "      <td>25</td>\n",
              "      <td>GPE</td>\n",
              "      <td>ａｄｆｇ</td>\n",
              "    </tr>\n",
              "    <tr>\n",
              "      <th>2</th>\n",
              "      <td>73</td>\n",
              "      <td>GPE</td>\n",
              "      <td>美麗</td>\n",
              "    </tr>\n",
              "    <tr>\n",
              "      <th>3</th>\n",
              "      <td>74</td>\n",
              "      <td>GPE</td>\n",
              "      <td>Ｖｅｉｓｊｒｈｌｋｊｌｋｊｉｏｊｌｋｊ</td>\n",
              "    </tr>\n",
              "    <tr>\n",
              "      <th>4</th>\n",
              "      <td>75</td>\n",
              "      <td>GPE</td>\n",
              "      <td>Ｒｕｓｓｉａ</td>\n",
              "    </tr>\n",
              "    <tr>\n",
              "      <th>5</th>\n",
              "      <td>53</td>\n",
              "      <td>GPE</td>\n",
              "      <td>美麗島</td>\n",
              "    </tr>\n",
              "    <tr>\n",
              "      <th>6</th>\n",
              "      <td>35</td>\n",
              "      <td>GPE</td>\n",
              "      <td>大順路</td>\n",
              "    </tr>\n",
              "    <tr>\n",
              "      <th>7</th>\n",
              "      <td>147</td>\n",
              "      <td>GPE</td>\n",
              "      <td>高雄市</td>\n",
              "    </tr>\n",
              "    <tr>\n",
              "      <th>8</th>\n",
              "      <td>71</td>\n",
              "      <td>GPE</td>\n",
              "      <td>巴拿馬</td>\n",
              "    </tr>\n",
              "    <tr>\n",
              "      <th>9</th>\n",
              "      <td>24</td>\n",
              "      <td>GPE</td>\n",
              "      <td>林肯</td>\n",
              "    </tr>\n",
              "  </tbody>\n",
              "</table>\n",
              "</div>"
            ],
            "text/plain": [
              "   Unnamed: 0     類別                 專有名詞\n",
              "0          23  EVENT               美麗島１２３\n",
              "1          25    GPE                 ａｄｆｇ\n",
              "2          73    GPE                   美麗\n",
              "3          74    GPE  Ｖｅｉｓｊｒｈｌｋｊｌｋｊｉｏｊｌｋｊ\n",
              "4          75    GPE               Ｒｕｓｓｉａ\n",
              "5          53    GPE                  美麗島\n",
              "6          35    GPE                  大順路\n",
              "7         147    GPE                  高雄市\n",
              "8          71    GPE                  巴拿馬\n",
              "9          24    GPE                   林肯"
            ]
          },
          "execution_count": 69,
          "metadata": {},
          "output_type": "execute_result"
        }
      ],
      "source": [
        "print(a.columns)\n",
        "a.head(10)"
      ]
    },
    {
      "cell_type": "code",
      "execution_count": null,
      "metadata": {
        "id": "BOV0TA8Z-B85"
      },
      "outputs": [],
      "source": [
        "s = 'one two one two one'"
      ]
    },
    {
      "cell_type": "code",
      "execution_count": null,
      "metadata": {
        "id": "9ZxQA17r-B85",
        "outputId": "0536a3de-c793-4e21-bc31-2f05887afae9"
      },
      "outputs": [
        {
          "name": "stdout",
          "output_type": "stream",
          "text": [
            "XXX two XXX two XXX\n",
            "XXX two XXX two one\n"
          ]
        }
      ],
      "source": [
        "print(s.replace('one', 'XXX'))\n",
        "# XXX two XXX two XXX\n",
        "\n",
        "print(s.replace('one', 'XXX', 2))\n",
        "# XXX two XXX two one"
      ]
    },
    {
      "cell_type": "code",
      "execution_count": null,
      "metadata": {
        "id": "wKMHNKh2-B85",
        "outputId": "6a65fac9-e863-48b4-9bfb-d18c625a9837"
      },
      "outputs": [
        {
          "name": "stdout",
          "output_type": "stream",
          "text": [
            "XXX YYY XXX YYY XXX\n"
          ]
        }
      ],
      "source": [
        "print(s.replace('one', 'XXX').replace('two', 'YYY'))"
      ]
    },
    {
      "cell_type": "code",
      "execution_count": null,
      "metadata": {
        "id": "6AAAmEx_-B86"
      },
      "outputs": [],
      "source": []
    }
  ],
  "metadata": {
    "kernelspec": {
      "display_name": "Python 3",
      "language": "python",
      "name": "python3"
    },
    "language_info": {
      "codemirror_mode": {
        "name": "ipython",
        "version": 3
      },
      "file_extension": ".py",
      "mimetype": "text/x-python",
      "name": "python",
      "nbconvert_exporter": "python",
      "pygments_lexer": "ipython3",
      "version": "3.7.7"
    },
    "colab": {
      "provenance": [],
      "include_colab_link": true
    }
  },
  "nbformat": 4,
  "nbformat_minor": 0
}