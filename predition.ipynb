{
  "nbformat": 4,
  "nbformat_minor": 0,
  "metadata": {
    "colab": {
      "provenance": [],
      "collapsed_sections": [],
      "include_colab_link": true
    },
    "kernelspec": {
      "name": "python3",
      "display_name": "Python 3"
    },
    "language_info": {
      "name": "python"
    },
    "accelerator": "GPU",
    "gpuClass": "standard",
    "widgets": {
      "application/vnd.jupyter.widget-state+json": {
        "2fcd73e693284ca1b5df02d0c6e8a69e": {
          "model_module": "@jupyter-widgets/controls",
          "model_name": "HBoxModel",
          "model_module_version": "1.5.0",
          "state": {
            "_dom_classes": [],
            "_model_module": "@jupyter-widgets/controls",
            "_model_module_version": "1.5.0",
            "_model_name": "HBoxModel",
            "_view_count": null,
            "_view_module": "@jupyter-widgets/controls",
            "_view_module_version": "1.5.0",
            "_view_name": "HBoxView",
            "box_style": "",
            "children": [
              "IPY_MODEL_402d7a5ffba34566a6992c85254ce8d2",
              "IPY_MODEL_5085b109eb3f47269d539508c42ce399",
              "IPY_MODEL_01eec8e8ea544bd7bce3be14bfa8d972"
            ],
            "layout": "IPY_MODEL_a494988934dd4597abdc3624f2c140c5"
          }
        },
        "402d7a5ffba34566a6992c85254ce8d2": {
          "model_module": "@jupyter-widgets/controls",
          "model_name": "HTMLModel",
          "model_module_version": "1.5.0",
          "state": {
            "_dom_classes": [],
            "_model_module": "@jupyter-widgets/controls",
            "_model_module_version": "1.5.0",
            "_model_name": "HTMLModel",
            "_view_count": null,
            "_view_module": "@jupyter-widgets/controls",
            "_view_module_version": "1.5.0",
            "_view_name": "HTMLView",
            "description": "",
            "description_tooltip": null,
            "layout": "IPY_MODEL_5ff9deb413384218be8806507a403d75",
            "placeholder": "​",
            "style": "IPY_MODEL_850c876415ae4741abb08eaa56bc406e",
            "value": "Downloading: 100%"
          }
        },
        "5085b109eb3f47269d539508c42ce399": {
          "model_module": "@jupyter-widgets/controls",
          "model_name": "FloatProgressModel",
          "model_module_version": "1.5.0",
          "state": {
            "_dom_classes": [],
            "_model_module": "@jupyter-widgets/controls",
            "_model_module_version": "1.5.0",
            "_model_name": "FloatProgressModel",
            "_view_count": null,
            "_view_module": "@jupyter-widgets/controls",
            "_view_module_version": "1.5.0",
            "_view_name": "ProgressView",
            "bar_style": "success",
            "description": "",
            "description_tooltip": null,
            "layout": "IPY_MODEL_c4436b426b6a4f118f48a8e2214e271a",
            "max": 642,
            "min": 0,
            "orientation": "horizontal",
            "style": "IPY_MODEL_f711c0c65c6649458804ed0548892708",
            "value": 642
          }
        },
        "01eec8e8ea544bd7bce3be14bfa8d972": {
          "model_module": "@jupyter-widgets/controls",
          "model_name": "HTMLModel",
          "model_module_version": "1.5.0",
          "state": {
            "_dom_classes": [],
            "_model_module": "@jupyter-widgets/controls",
            "_model_module_version": "1.5.0",
            "_model_name": "HTMLModel",
            "_view_count": null,
            "_view_module": "@jupyter-widgets/controls",
            "_view_module_version": "1.5.0",
            "_view_name": "HTMLView",
            "description": "",
            "description_tooltip": null,
            "layout": "IPY_MODEL_3e0e874864944bc69d100ff412bc14d0",
            "placeholder": "​",
            "style": "IPY_MODEL_3a2211270a314fd88661cff8c9da185f",
            "value": " 642/642 [00:00&lt;00:00, 23.0kB/s]"
          }
        },
        "a494988934dd4597abdc3624f2c140c5": {
          "model_module": "@jupyter-widgets/base",
          "model_name": "LayoutModel",
          "model_module_version": "1.2.0",
          "state": {
            "_model_module": "@jupyter-widgets/base",
            "_model_module_version": "1.2.0",
            "_model_name": "LayoutModel",
            "_view_count": null,
            "_view_module": "@jupyter-widgets/base",
            "_view_module_version": "1.2.0",
            "_view_name": "LayoutView",
            "align_content": null,
            "align_items": null,
            "align_self": null,
            "border": null,
            "bottom": null,
            "display": null,
            "flex": null,
            "flex_flow": null,
            "grid_area": null,
            "grid_auto_columns": null,
            "grid_auto_flow": null,
            "grid_auto_rows": null,
            "grid_column": null,
            "grid_gap": null,
            "grid_row": null,
            "grid_template_areas": null,
            "grid_template_columns": null,
            "grid_template_rows": null,
            "height": null,
            "justify_content": null,
            "justify_items": null,
            "left": null,
            "margin": null,
            "max_height": null,
            "max_width": null,
            "min_height": null,
            "min_width": null,
            "object_fit": null,
            "object_position": null,
            "order": null,
            "overflow": null,
            "overflow_x": null,
            "overflow_y": null,
            "padding": null,
            "right": null,
            "top": null,
            "visibility": null,
            "width": null
          }
        },
        "5ff9deb413384218be8806507a403d75": {
          "model_module": "@jupyter-widgets/base",
          "model_name": "LayoutModel",
          "model_module_version": "1.2.0",
          "state": {
            "_model_module": "@jupyter-widgets/base",
            "_model_module_version": "1.2.0",
            "_model_name": "LayoutModel",
            "_view_count": null,
            "_view_module": "@jupyter-widgets/base",
            "_view_module_version": "1.2.0",
            "_view_name": "LayoutView",
            "align_content": null,
            "align_items": null,
            "align_self": null,
            "border": null,
            "bottom": null,
            "display": null,
            "flex": null,
            "flex_flow": null,
            "grid_area": null,
            "grid_auto_columns": null,
            "grid_auto_flow": null,
            "grid_auto_rows": null,
            "grid_column": null,
            "grid_gap": null,
            "grid_row": null,
            "grid_template_areas": null,
            "grid_template_columns": null,
            "grid_template_rows": null,
            "height": null,
            "justify_content": null,
            "justify_items": null,
            "left": null,
            "margin": null,
            "max_height": null,
            "max_width": null,
            "min_height": null,
            "min_width": null,
            "object_fit": null,
            "object_position": null,
            "order": null,
            "overflow": null,
            "overflow_x": null,
            "overflow_y": null,
            "padding": null,
            "right": null,
            "top": null,
            "visibility": null,
            "width": null
          }
        },
        "850c876415ae4741abb08eaa56bc406e": {
          "model_module": "@jupyter-widgets/controls",
          "model_name": "DescriptionStyleModel",
          "model_module_version": "1.5.0",
          "state": {
            "_model_module": "@jupyter-widgets/controls",
            "_model_module_version": "1.5.0",
            "_model_name": "DescriptionStyleModel",
            "_view_count": null,
            "_view_module": "@jupyter-widgets/base",
            "_view_module_version": "1.2.0",
            "_view_name": "StyleView",
            "description_width": ""
          }
        },
        "c4436b426b6a4f118f48a8e2214e271a": {
          "model_module": "@jupyter-widgets/base",
          "model_name": "LayoutModel",
          "model_module_version": "1.2.0",
          "state": {
            "_model_module": "@jupyter-widgets/base",
            "_model_module_version": "1.2.0",
            "_model_name": "LayoutModel",
            "_view_count": null,
            "_view_module": "@jupyter-widgets/base",
            "_view_module_version": "1.2.0",
            "_view_name": "LayoutView",
            "align_content": null,
            "align_items": null,
            "align_self": null,
            "border": null,
            "bottom": null,
            "display": null,
            "flex": null,
            "flex_flow": null,
            "grid_area": null,
            "grid_auto_columns": null,
            "grid_auto_flow": null,
            "grid_auto_rows": null,
            "grid_column": null,
            "grid_gap": null,
            "grid_row": null,
            "grid_template_areas": null,
            "grid_template_columns": null,
            "grid_template_rows": null,
            "height": null,
            "justify_content": null,
            "justify_items": null,
            "left": null,
            "margin": null,
            "max_height": null,
            "max_width": null,
            "min_height": null,
            "min_width": null,
            "object_fit": null,
            "object_position": null,
            "order": null,
            "overflow": null,
            "overflow_x": null,
            "overflow_y": null,
            "padding": null,
            "right": null,
            "top": null,
            "visibility": null,
            "width": null
          }
        },
        "f711c0c65c6649458804ed0548892708": {
          "model_module": "@jupyter-widgets/controls",
          "model_name": "ProgressStyleModel",
          "model_module_version": "1.5.0",
          "state": {
            "_model_module": "@jupyter-widgets/controls",
            "_model_module_version": "1.5.0",
            "_model_name": "ProgressStyleModel",
            "_view_count": null,
            "_view_module": "@jupyter-widgets/base",
            "_view_module_version": "1.2.0",
            "_view_name": "StyleView",
            "bar_color": null,
            "description_width": ""
          }
        },
        "3e0e874864944bc69d100ff412bc14d0": {
          "model_module": "@jupyter-widgets/base",
          "model_name": "LayoutModel",
          "model_module_version": "1.2.0",
          "state": {
            "_model_module": "@jupyter-widgets/base",
            "_model_module_version": "1.2.0",
            "_model_name": "LayoutModel",
            "_view_count": null,
            "_view_module": "@jupyter-widgets/base",
            "_view_module_version": "1.2.0",
            "_view_name": "LayoutView",
            "align_content": null,
            "align_items": null,
            "align_self": null,
            "border": null,
            "bottom": null,
            "display": null,
            "flex": null,
            "flex_flow": null,
            "grid_area": null,
            "grid_auto_columns": null,
            "grid_auto_flow": null,
            "grid_auto_rows": null,
            "grid_column": null,
            "grid_gap": null,
            "grid_row": null,
            "grid_template_areas": null,
            "grid_template_columns": null,
            "grid_template_rows": null,
            "height": null,
            "justify_content": null,
            "justify_items": null,
            "left": null,
            "margin": null,
            "max_height": null,
            "max_width": null,
            "min_height": null,
            "min_width": null,
            "object_fit": null,
            "object_position": null,
            "order": null,
            "overflow": null,
            "overflow_x": null,
            "overflow_y": null,
            "padding": null,
            "right": null,
            "top": null,
            "visibility": null,
            "width": null
          }
        },
        "3a2211270a314fd88661cff8c9da185f": {
          "model_module": "@jupyter-widgets/controls",
          "model_name": "DescriptionStyleModel",
          "model_module_version": "1.5.0",
          "state": {
            "_model_module": "@jupyter-widgets/controls",
            "_model_module_version": "1.5.0",
            "_model_name": "DescriptionStyleModel",
            "_view_count": null,
            "_view_module": "@jupyter-widgets/base",
            "_view_module_version": "1.2.0",
            "_view_name": "StyleView",
            "description_width": ""
          }
        },
        "1cae72e78f884154ba60beb544daabe0": {
          "model_module": "@jupyter-widgets/controls",
          "model_name": "HBoxModel",
          "model_module_version": "1.5.0",
          "state": {
            "_dom_classes": [],
            "_model_module": "@jupyter-widgets/controls",
            "_model_module_version": "1.5.0",
            "_model_name": "HBoxModel",
            "_view_count": null,
            "_view_module": "@jupyter-widgets/controls",
            "_view_module_version": "1.5.0",
            "_view_name": "HBoxView",
            "box_style": "",
            "children": [
              "IPY_MODEL_d61cd67821fb4118ac77e753ec8b67f2",
              "IPY_MODEL_4610cedfe9ff4953a81ffbee8f81ea78",
              "IPY_MODEL_c1638537d2cf44cfb5ea8c008c4cd719"
            ],
            "layout": "IPY_MODEL_2dacdc76884743eb90544d34fc427f7a"
          }
        },
        "d61cd67821fb4118ac77e753ec8b67f2": {
          "model_module": "@jupyter-widgets/controls",
          "model_name": "HTMLModel",
          "model_module_version": "1.5.0",
          "state": {
            "_dom_classes": [],
            "_model_module": "@jupyter-widgets/controls",
            "_model_module_version": "1.5.0",
            "_model_name": "HTMLModel",
            "_view_count": null,
            "_view_module": "@jupyter-widgets/controls",
            "_view_module_version": "1.5.0",
            "_view_name": "HTMLView",
            "description": "",
            "description_tooltip": null,
            "layout": "IPY_MODEL_86a6d33769304e6a8a4e5aaedbc054f6",
            "placeholder": "​",
            "style": "IPY_MODEL_2ea002275bfc4ed5969c65c93a2c5ea7",
            "value": "Downloading: 100%"
          }
        },
        "4610cedfe9ff4953a81ffbee8f81ea78": {
          "model_module": "@jupyter-widgets/controls",
          "model_name": "FloatProgressModel",
          "model_module_version": "1.5.0",
          "state": {
            "_dom_classes": [],
            "_model_module": "@jupyter-widgets/controls",
            "_model_module_version": "1.5.0",
            "_model_name": "FloatProgressModel",
            "_view_count": null,
            "_view_module": "@jupyter-widgets/controls",
            "_view_module_version": "1.5.0",
            "_view_name": "ProgressView",
            "bar_style": "success",
            "description": "",
            "description_tooltip": null,
            "layout": "IPY_MODEL_2f9ba3ee709d4d1f95cc960504fd6efc",
            "max": 409172095,
            "min": 0,
            "orientation": "horizontal",
            "style": "IPY_MODEL_e25763ef5b1d44d8aab9eda1d14bd1f9",
            "value": 409172095
          }
        },
        "c1638537d2cf44cfb5ea8c008c4cd719": {
          "model_module": "@jupyter-widgets/controls",
          "model_name": "HTMLModel",
          "model_module_version": "1.5.0",
          "state": {
            "_dom_classes": [],
            "_model_module": "@jupyter-widgets/controls",
            "_model_module_version": "1.5.0",
            "_model_name": "HTMLModel",
            "_view_count": null,
            "_view_module": "@jupyter-widgets/controls",
            "_view_module_version": "1.5.0",
            "_view_name": "HTMLView",
            "description": "",
            "description_tooltip": null,
            "layout": "IPY_MODEL_33c2c7f30ff848afb69aa117ee44334c",
            "placeholder": "​",
            "style": "IPY_MODEL_7d3eb0bbf4d14ed784301eed9d571749",
            "value": " 390M/390M [00:23&lt;00:00, 19.1MB/s]"
          }
        },
        "2dacdc76884743eb90544d34fc427f7a": {
          "model_module": "@jupyter-widgets/base",
          "model_name": "LayoutModel",
          "model_module_version": "1.2.0",
          "state": {
            "_model_module": "@jupyter-widgets/base",
            "_model_module_version": "1.2.0",
            "_model_name": "LayoutModel",
            "_view_count": null,
            "_view_module": "@jupyter-widgets/base",
            "_view_module_version": "1.2.0",
            "_view_name": "LayoutView",
            "align_content": null,
            "align_items": null,
            "align_self": null,
            "border": null,
            "bottom": null,
            "display": null,
            "flex": null,
            "flex_flow": null,
            "grid_area": null,
            "grid_auto_columns": null,
            "grid_auto_flow": null,
            "grid_auto_rows": null,
            "grid_column": null,
            "grid_gap": null,
            "grid_row": null,
            "grid_template_areas": null,
            "grid_template_columns": null,
            "grid_template_rows": null,
            "height": null,
            "justify_content": null,
            "justify_items": null,
            "left": null,
            "margin": null,
            "max_height": null,
            "max_width": null,
            "min_height": null,
            "min_width": null,
            "object_fit": null,
            "object_position": null,
            "order": null,
            "overflow": null,
            "overflow_x": null,
            "overflow_y": null,
            "padding": null,
            "right": null,
            "top": null,
            "visibility": null,
            "width": null
          }
        },
        "86a6d33769304e6a8a4e5aaedbc054f6": {
          "model_module": "@jupyter-widgets/base",
          "model_name": "LayoutModel",
          "model_module_version": "1.2.0",
          "state": {
            "_model_module": "@jupyter-widgets/base",
            "_model_module_version": "1.2.0",
            "_model_name": "LayoutModel",
            "_view_count": null,
            "_view_module": "@jupyter-widgets/base",
            "_view_module_version": "1.2.0",
            "_view_name": "LayoutView",
            "align_content": null,
            "align_items": null,
            "align_self": null,
            "border": null,
            "bottom": null,
            "display": null,
            "flex": null,
            "flex_flow": null,
            "grid_area": null,
            "grid_auto_columns": null,
            "grid_auto_flow": null,
            "grid_auto_rows": null,
            "grid_column": null,
            "grid_gap": null,
            "grid_row": null,
            "grid_template_areas": null,
            "grid_template_columns": null,
            "grid_template_rows": null,
            "height": null,
            "justify_content": null,
            "justify_items": null,
            "left": null,
            "margin": null,
            "max_height": null,
            "max_width": null,
            "min_height": null,
            "min_width": null,
            "object_fit": null,
            "object_position": null,
            "order": null,
            "overflow": null,
            "overflow_x": null,
            "overflow_y": null,
            "padding": null,
            "right": null,
            "top": null,
            "visibility": null,
            "width": null
          }
        },
        "2ea002275bfc4ed5969c65c93a2c5ea7": {
          "model_module": "@jupyter-widgets/controls",
          "model_name": "DescriptionStyleModel",
          "model_module_version": "1.5.0",
          "state": {
            "_model_module": "@jupyter-widgets/controls",
            "_model_module_version": "1.5.0",
            "_model_name": "DescriptionStyleModel",
            "_view_count": null,
            "_view_module": "@jupyter-widgets/base",
            "_view_module_version": "1.2.0",
            "_view_name": "StyleView",
            "description_width": ""
          }
        },
        "2f9ba3ee709d4d1f95cc960504fd6efc": {
          "model_module": "@jupyter-widgets/base",
          "model_name": "LayoutModel",
          "model_module_version": "1.2.0",
          "state": {
            "_model_module": "@jupyter-widgets/base",
            "_model_module_version": "1.2.0",
            "_model_name": "LayoutModel",
            "_view_count": null,
            "_view_module": "@jupyter-widgets/base",
            "_view_module_version": "1.2.0",
            "_view_name": "LayoutView",
            "align_content": null,
            "align_items": null,
            "align_self": null,
            "border": null,
            "bottom": null,
            "display": null,
            "flex": null,
            "flex_flow": null,
            "grid_area": null,
            "grid_auto_columns": null,
            "grid_auto_flow": null,
            "grid_auto_rows": null,
            "grid_column": null,
            "grid_gap": null,
            "grid_row": null,
            "grid_template_areas": null,
            "grid_template_columns": null,
            "grid_template_rows": null,
            "height": null,
            "justify_content": null,
            "justify_items": null,
            "left": null,
            "margin": null,
            "max_height": null,
            "max_width": null,
            "min_height": null,
            "min_width": null,
            "object_fit": null,
            "object_position": null,
            "order": null,
            "overflow": null,
            "overflow_x": null,
            "overflow_y": null,
            "padding": null,
            "right": null,
            "top": null,
            "visibility": null,
            "width": null
          }
        },
        "e25763ef5b1d44d8aab9eda1d14bd1f9": {
          "model_module": "@jupyter-widgets/controls",
          "model_name": "ProgressStyleModel",
          "model_module_version": "1.5.0",
          "state": {
            "_model_module": "@jupyter-widgets/controls",
            "_model_module_version": "1.5.0",
            "_model_name": "ProgressStyleModel",
            "_view_count": null,
            "_view_module": "@jupyter-widgets/base",
            "_view_module_version": "1.2.0",
            "_view_name": "StyleView",
            "bar_color": null,
            "description_width": ""
          }
        },
        "33c2c7f30ff848afb69aa117ee44334c": {
          "model_module": "@jupyter-widgets/base",
          "model_name": "LayoutModel",
          "model_module_version": "1.2.0",
          "state": {
            "_model_module": "@jupyter-widgets/base",
            "_model_module_version": "1.2.0",
            "_model_name": "LayoutModel",
            "_view_count": null,
            "_view_module": "@jupyter-widgets/base",
            "_view_module_version": "1.2.0",
            "_view_name": "LayoutView",
            "align_content": null,
            "align_items": null,
            "align_self": null,
            "border": null,
            "bottom": null,
            "display": null,
            "flex": null,
            "flex_flow": null,
            "grid_area": null,
            "grid_auto_columns": null,
            "grid_auto_flow": null,
            "grid_auto_rows": null,
            "grid_column": null,
            "grid_gap": null,
            "grid_row": null,
            "grid_template_areas": null,
            "grid_template_columns": null,
            "grid_template_rows": null,
            "height": null,
            "justify_content": null,
            "justify_items": null,
            "left": null,
            "margin": null,
            "max_height": null,
            "max_width": null,
            "min_height": null,
            "min_width": null,
            "object_fit": null,
            "object_position": null,
            "order": null,
            "overflow": null,
            "overflow_x": null,
            "overflow_y": null,
            "padding": null,
            "right": null,
            "top": null,
            "visibility": null,
            "width": null
          }
        },
        "7d3eb0bbf4d14ed784301eed9d571749": {
          "model_module": "@jupyter-widgets/controls",
          "model_name": "DescriptionStyleModel",
          "model_module_version": "1.5.0",
          "state": {
            "_model_module": "@jupyter-widgets/controls",
            "_model_module_version": "1.5.0",
            "_model_name": "DescriptionStyleModel",
            "_view_count": null,
            "_view_module": "@jupyter-widgets/base",
            "_view_module_version": "1.2.0",
            "_view_name": "StyleView",
            "description_width": ""
          }
        },
        "707a8c4bb38a45fbbc335c340f0103de": {
          "model_module": "@jupyter-widgets/controls",
          "model_name": "HBoxModel",
          "model_module_version": "1.5.0",
          "state": {
            "_dom_classes": [],
            "_model_module": "@jupyter-widgets/controls",
            "_model_module_version": "1.5.0",
            "_model_name": "HBoxModel",
            "_view_count": null,
            "_view_module": "@jupyter-widgets/controls",
            "_view_module_version": "1.5.0",
            "_view_name": "HBoxView",
            "box_style": "",
            "children": [
              "IPY_MODEL_3b396b7607d24fbd959066953b984710",
              "IPY_MODEL_34b000bc04454c15a04d0172d32620af",
              "IPY_MODEL_afd9c56ceb32449999791e1c0aaecbca"
            ],
            "layout": "IPY_MODEL_bf85c78299564c4fb5bab8f5a91a9a00"
          }
        },
        "3b396b7607d24fbd959066953b984710": {
          "model_module": "@jupyter-widgets/controls",
          "model_name": "HTMLModel",
          "model_module_version": "1.5.0",
          "state": {
            "_dom_classes": [],
            "_model_module": "@jupyter-widgets/controls",
            "_model_module_version": "1.5.0",
            "_model_name": "HTMLModel",
            "_view_count": null,
            "_view_module": "@jupyter-widgets/controls",
            "_view_module_version": "1.5.0",
            "_view_name": "HTMLView",
            "description": "",
            "description_tooltip": null,
            "layout": "IPY_MODEL_b10aac3345a04974a6d77bfc25ac6721",
            "placeholder": "​",
            "style": "IPY_MODEL_0e4321e4ca15480cba1e21a4be83a4a7",
            "value": "Downloading: 100%"
          }
        },
        "34b000bc04454c15a04d0172d32620af": {
          "model_module": "@jupyter-widgets/controls",
          "model_name": "FloatProgressModel",
          "model_module_version": "1.5.0",
          "state": {
            "_dom_classes": [],
            "_model_module": "@jupyter-widgets/controls",
            "_model_module_version": "1.5.0",
            "_model_name": "FloatProgressModel",
            "_view_count": null,
            "_view_module": "@jupyter-widgets/controls",
            "_view_module_version": "1.5.0",
            "_view_name": "ProgressView",
            "bar_style": "success",
            "description": "",
            "description_tooltip": null,
            "layout": "IPY_MODEL_0c23ef3cbc31419aa19db146dee7cb5d",
            "max": 295,
            "min": 0,
            "orientation": "horizontal",
            "style": "IPY_MODEL_cb210a53edfd44c4a51b44b6ab7827e5",
            "value": 295
          }
        },
        "afd9c56ceb32449999791e1c0aaecbca": {
          "model_module": "@jupyter-widgets/controls",
          "model_name": "HTMLModel",
          "model_module_version": "1.5.0",
          "state": {
            "_dom_classes": [],
            "_model_module": "@jupyter-widgets/controls",
            "_model_module_version": "1.5.0",
            "_model_name": "HTMLModel",
            "_view_count": null,
            "_view_module": "@jupyter-widgets/controls",
            "_view_module_version": "1.5.0",
            "_view_name": "HTMLView",
            "description": "",
            "description_tooltip": null,
            "layout": "IPY_MODEL_76b40a1eb48a44ac9eeefdcca71a8269",
            "placeholder": "​",
            "style": "IPY_MODEL_1c51be47eebc49248cc02670e7f210b3",
            "value": " 295/295 [00:00&lt;00:00, 9.35kB/s]"
          }
        },
        "bf85c78299564c4fb5bab8f5a91a9a00": {
          "model_module": "@jupyter-widgets/base",
          "model_name": "LayoutModel",
          "model_module_version": "1.2.0",
          "state": {
            "_model_module": "@jupyter-widgets/base",
            "_model_module_version": "1.2.0",
            "_model_name": "LayoutModel",
            "_view_count": null,
            "_view_module": "@jupyter-widgets/base",
            "_view_module_version": "1.2.0",
            "_view_name": "LayoutView",
            "align_content": null,
            "align_items": null,
            "align_self": null,
            "border": null,
            "bottom": null,
            "display": null,
            "flex": null,
            "flex_flow": null,
            "grid_area": null,
            "grid_auto_columns": null,
            "grid_auto_flow": null,
            "grid_auto_rows": null,
            "grid_column": null,
            "grid_gap": null,
            "grid_row": null,
            "grid_template_areas": null,
            "grid_template_columns": null,
            "grid_template_rows": null,
            "height": null,
            "justify_content": null,
            "justify_items": null,
            "left": null,
            "margin": null,
            "max_height": null,
            "max_width": null,
            "min_height": null,
            "min_width": null,
            "object_fit": null,
            "object_position": null,
            "order": null,
            "overflow": null,
            "overflow_x": null,
            "overflow_y": null,
            "padding": null,
            "right": null,
            "top": null,
            "visibility": null,
            "width": null
          }
        },
        "b10aac3345a04974a6d77bfc25ac6721": {
          "model_module": "@jupyter-widgets/base",
          "model_name": "LayoutModel",
          "model_module_version": "1.2.0",
          "state": {
            "_model_module": "@jupyter-widgets/base",
            "_model_module_version": "1.2.0",
            "_model_name": "LayoutModel",
            "_view_count": null,
            "_view_module": "@jupyter-widgets/base",
            "_view_module_version": "1.2.0",
            "_view_name": "LayoutView",
            "align_content": null,
            "align_items": null,
            "align_self": null,
            "border": null,
            "bottom": null,
            "display": null,
            "flex": null,
            "flex_flow": null,
            "grid_area": null,
            "grid_auto_columns": null,
            "grid_auto_flow": null,
            "grid_auto_rows": null,
            "grid_column": null,
            "grid_gap": null,
            "grid_row": null,
            "grid_template_areas": null,
            "grid_template_columns": null,
            "grid_template_rows": null,
            "height": null,
            "justify_content": null,
            "justify_items": null,
            "left": null,
            "margin": null,
            "max_height": null,
            "max_width": null,
            "min_height": null,
            "min_width": null,
            "object_fit": null,
            "object_position": null,
            "order": null,
            "overflow": null,
            "overflow_x": null,
            "overflow_y": null,
            "padding": null,
            "right": null,
            "top": null,
            "visibility": null,
            "width": null
          }
        },
        "0e4321e4ca15480cba1e21a4be83a4a7": {
          "model_module": "@jupyter-widgets/controls",
          "model_name": "DescriptionStyleModel",
          "model_module_version": "1.5.0",
          "state": {
            "_model_module": "@jupyter-widgets/controls",
            "_model_module_version": "1.5.0",
            "_model_name": "DescriptionStyleModel",
            "_view_count": null,
            "_view_module": "@jupyter-widgets/base",
            "_view_module_version": "1.2.0",
            "_view_name": "StyleView",
            "description_width": ""
          }
        },
        "0c23ef3cbc31419aa19db146dee7cb5d": {
          "model_module": "@jupyter-widgets/base",
          "model_name": "LayoutModel",
          "model_module_version": "1.2.0",
          "state": {
            "_model_module": "@jupyter-widgets/base",
            "_model_module_version": "1.2.0",
            "_model_name": "LayoutModel",
            "_view_count": null,
            "_view_module": "@jupyter-widgets/base",
            "_view_module_version": "1.2.0",
            "_view_name": "LayoutView",
            "align_content": null,
            "align_items": null,
            "align_self": null,
            "border": null,
            "bottom": null,
            "display": null,
            "flex": null,
            "flex_flow": null,
            "grid_area": null,
            "grid_auto_columns": null,
            "grid_auto_flow": null,
            "grid_auto_rows": null,
            "grid_column": null,
            "grid_gap": null,
            "grid_row": null,
            "grid_template_areas": null,
            "grid_template_columns": null,
            "grid_template_rows": null,
            "height": null,
            "justify_content": null,
            "justify_items": null,
            "left": null,
            "margin": null,
            "max_height": null,
            "max_width": null,
            "min_height": null,
            "min_width": null,
            "object_fit": null,
            "object_position": null,
            "order": null,
            "overflow": null,
            "overflow_x": null,
            "overflow_y": null,
            "padding": null,
            "right": null,
            "top": null,
            "visibility": null,
            "width": null
          }
        },
        "cb210a53edfd44c4a51b44b6ab7827e5": {
          "model_module": "@jupyter-widgets/controls",
          "model_name": "ProgressStyleModel",
          "model_module_version": "1.5.0",
          "state": {
            "_model_module": "@jupyter-widgets/controls",
            "_model_module_version": "1.5.0",
            "_model_name": "ProgressStyleModel",
            "_view_count": null,
            "_view_module": "@jupyter-widgets/base",
            "_view_module_version": "1.2.0",
            "_view_name": "StyleView",
            "bar_color": null,
            "description_width": ""
          }
        },
        "76b40a1eb48a44ac9eeefdcca71a8269": {
          "model_module": "@jupyter-widgets/base",
          "model_name": "LayoutModel",
          "model_module_version": "1.2.0",
          "state": {
            "_model_module": "@jupyter-widgets/base",
            "_model_module_version": "1.2.0",
            "_model_name": "LayoutModel",
            "_view_count": null,
            "_view_module": "@jupyter-widgets/base",
            "_view_module_version": "1.2.0",
            "_view_name": "LayoutView",
            "align_content": null,
            "align_items": null,
            "align_self": null,
            "border": null,
            "bottom": null,
            "display": null,
            "flex": null,
            "flex_flow": null,
            "grid_area": null,
            "grid_auto_columns": null,
            "grid_auto_flow": null,
            "grid_auto_rows": null,
            "grid_column": null,
            "grid_gap": null,
            "grid_row": null,
            "grid_template_areas": null,
            "grid_template_columns": null,
            "grid_template_rows": null,
            "height": null,
            "justify_content": null,
            "justify_items": null,
            "left": null,
            "margin": null,
            "max_height": null,
            "max_width": null,
            "min_height": null,
            "min_width": null,
            "object_fit": null,
            "object_position": null,
            "order": null,
            "overflow": null,
            "overflow_x": null,
            "overflow_y": null,
            "padding": null,
            "right": null,
            "top": null,
            "visibility": null,
            "width": null
          }
        },
        "1c51be47eebc49248cc02670e7f210b3": {
          "model_module": "@jupyter-widgets/controls",
          "model_name": "DescriptionStyleModel",
          "model_module_version": "1.5.0",
          "state": {
            "_model_module": "@jupyter-widgets/controls",
            "_model_module_version": "1.5.0",
            "_model_name": "DescriptionStyleModel",
            "_view_count": null,
            "_view_module": "@jupyter-widgets/base",
            "_view_module_version": "1.2.0",
            "_view_name": "StyleView",
            "description_width": ""
          }
        },
        "4e7e138d72be4eaa95ca07179c47bbef": {
          "model_module": "@jupyter-widgets/controls",
          "model_name": "HBoxModel",
          "model_module_version": "1.5.0",
          "state": {
            "_dom_classes": [],
            "_model_module": "@jupyter-widgets/controls",
            "_model_module_version": "1.5.0",
            "_model_name": "HBoxModel",
            "_view_count": null,
            "_view_module": "@jupyter-widgets/controls",
            "_view_module_version": "1.5.0",
            "_view_name": "HBoxView",
            "box_style": "",
            "children": [
              "IPY_MODEL_a20ae133437b4a1091b87477b55030ce",
              "IPY_MODEL_146da4603e524a8f894bb3d096a80de9",
              "IPY_MODEL_1dde612523b94b71b7f5b77de1eafa3a"
            ],
            "layout": "IPY_MODEL_6c9ee04b745a407e97551004329515fc"
          }
        },
        "a20ae133437b4a1091b87477b55030ce": {
          "model_module": "@jupyter-widgets/controls",
          "model_name": "HTMLModel",
          "model_module_version": "1.5.0",
          "state": {
            "_dom_classes": [],
            "_model_module": "@jupyter-widgets/controls",
            "_model_module_version": "1.5.0",
            "_model_name": "HTMLModel",
            "_view_count": null,
            "_view_module": "@jupyter-widgets/controls",
            "_view_module_version": "1.5.0",
            "_view_name": "HTMLView",
            "description": "",
            "description_tooltip": null,
            "layout": "IPY_MODEL_9635349a190240bdaf59f7e201618999",
            "placeholder": "​",
            "style": "IPY_MODEL_e8b8d02cf61b49beb495cf7e0f99f9ce",
            "value": "Downloading: 100%"
          }
        },
        "146da4603e524a8f894bb3d096a80de9": {
          "model_module": "@jupyter-widgets/controls",
          "model_name": "FloatProgressModel",
          "model_module_version": "1.5.0",
          "state": {
            "_dom_classes": [],
            "_model_module": "@jupyter-widgets/controls",
            "_model_module_version": "1.5.0",
            "_model_name": "FloatProgressModel",
            "_view_count": null,
            "_view_module": "@jupyter-widgets/controls",
            "_view_module_version": "1.5.0",
            "_view_name": "ProgressView",
            "bar_style": "success",
            "description": "",
            "description_tooltip": null,
            "layout": "IPY_MODEL_2443d769c4cb4f7f82f6f7d6fdb16a6a",
            "max": 109540,
            "min": 0,
            "orientation": "horizontal",
            "style": "IPY_MODEL_4fb493645cdb4a7aa446c23f86f512c3",
            "value": 109540
          }
        },
        "1dde612523b94b71b7f5b77de1eafa3a": {
          "model_module": "@jupyter-widgets/controls",
          "model_name": "HTMLModel",
          "model_module_version": "1.5.0",
          "state": {
            "_dom_classes": [],
            "_model_module": "@jupyter-widgets/controls",
            "_model_module_version": "1.5.0",
            "_model_name": "HTMLModel",
            "_view_count": null,
            "_view_module": "@jupyter-widgets/controls",
            "_view_module_version": "1.5.0",
            "_view_name": "HTMLView",
            "description": "",
            "description_tooltip": null,
            "layout": "IPY_MODEL_7a73a685f0c347feb296a1ba8d2ace5f",
            "placeholder": "​",
            "style": "IPY_MODEL_ab72a8272f25464d9985deec243fb8c6",
            "value": " 107k/107k [00:00&lt;00:00, 197kB/s]"
          }
        },
        "6c9ee04b745a407e97551004329515fc": {
          "model_module": "@jupyter-widgets/base",
          "model_name": "LayoutModel",
          "model_module_version": "1.2.0",
          "state": {
            "_model_module": "@jupyter-widgets/base",
            "_model_module_version": "1.2.0",
            "_model_name": "LayoutModel",
            "_view_count": null,
            "_view_module": "@jupyter-widgets/base",
            "_view_module_version": "1.2.0",
            "_view_name": "LayoutView",
            "align_content": null,
            "align_items": null,
            "align_self": null,
            "border": null,
            "bottom": null,
            "display": null,
            "flex": null,
            "flex_flow": null,
            "grid_area": null,
            "grid_auto_columns": null,
            "grid_auto_flow": null,
            "grid_auto_rows": null,
            "grid_column": null,
            "grid_gap": null,
            "grid_row": null,
            "grid_template_areas": null,
            "grid_template_columns": null,
            "grid_template_rows": null,
            "height": null,
            "justify_content": null,
            "justify_items": null,
            "left": null,
            "margin": null,
            "max_height": null,
            "max_width": null,
            "min_height": null,
            "min_width": null,
            "object_fit": null,
            "object_position": null,
            "order": null,
            "overflow": null,
            "overflow_x": null,
            "overflow_y": null,
            "padding": null,
            "right": null,
            "top": null,
            "visibility": null,
            "width": null
          }
        },
        "9635349a190240bdaf59f7e201618999": {
          "model_module": "@jupyter-widgets/base",
          "model_name": "LayoutModel",
          "model_module_version": "1.2.0",
          "state": {
            "_model_module": "@jupyter-widgets/base",
            "_model_module_version": "1.2.0",
            "_model_name": "LayoutModel",
            "_view_count": null,
            "_view_module": "@jupyter-widgets/base",
            "_view_module_version": "1.2.0",
            "_view_name": "LayoutView",
            "align_content": null,
            "align_items": null,
            "align_self": null,
            "border": null,
            "bottom": null,
            "display": null,
            "flex": null,
            "flex_flow": null,
            "grid_area": null,
            "grid_auto_columns": null,
            "grid_auto_flow": null,
            "grid_auto_rows": null,
            "grid_column": null,
            "grid_gap": null,
            "grid_row": null,
            "grid_template_areas": null,
            "grid_template_columns": null,
            "grid_template_rows": null,
            "height": null,
            "justify_content": null,
            "justify_items": null,
            "left": null,
            "margin": null,
            "max_height": null,
            "max_width": null,
            "min_height": null,
            "min_width": null,
            "object_fit": null,
            "object_position": null,
            "order": null,
            "overflow": null,
            "overflow_x": null,
            "overflow_y": null,
            "padding": null,
            "right": null,
            "top": null,
            "visibility": null,
            "width": null
          }
        },
        "e8b8d02cf61b49beb495cf7e0f99f9ce": {
          "model_module": "@jupyter-widgets/controls",
          "model_name": "DescriptionStyleModel",
          "model_module_version": "1.5.0",
          "state": {
            "_model_module": "@jupyter-widgets/controls",
            "_model_module_version": "1.5.0",
            "_model_name": "DescriptionStyleModel",
            "_view_count": null,
            "_view_module": "@jupyter-widgets/base",
            "_view_module_version": "1.2.0",
            "_view_name": "StyleView",
            "description_width": ""
          }
        },
        "2443d769c4cb4f7f82f6f7d6fdb16a6a": {
          "model_module": "@jupyter-widgets/base",
          "model_name": "LayoutModel",
          "model_module_version": "1.2.0",
          "state": {
            "_model_module": "@jupyter-widgets/base",
            "_model_module_version": "1.2.0",
            "_model_name": "LayoutModel",
            "_view_count": null,
            "_view_module": "@jupyter-widgets/base",
            "_view_module_version": "1.2.0",
            "_view_name": "LayoutView",
            "align_content": null,
            "align_items": null,
            "align_self": null,
            "border": null,
            "bottom": null,
            "display": null,
            "flex": null,
            "flex_flow": null,
            "grid_area": null,
            "grid_auto_columns": null,
            "grid_auto_flow": null,
            "grid_auto_rows": null,
            "grid_column": null,
            "grid_gap": null,
            "grid_row": null,
            "grid_template_areas": null,
            "grid_template_columns": null,
            "grid_template_rows": null,
            "height": null,
            "justify_content": null,
            "justify_items": null,
            "left": null,
            "margin": null,
            "max_height": null,
            "max_width": null,
            "min_height": null,
            "min_width": null,
            "object_fit": null,
            "object_position": null,
            "order": null,
            "overflow": null,
            "overflow_x": null,
            "overflow_y": null,
            "padding": null,
            "right": null,
            "top": null,
            "visibility": null,
            "width": null
          }
        },
        "4fb493645cdb4a7aa446c23f86f512c3": {
          "model_module": "@jupyter-widgets/controls",
          "model_name": "ProgressStyleModel",
          "model_module_version": "1.5.0",
          "state": {
            "_model_module": "@jupyter-widgets/controls",
            "_model_module_version": "1.5.0",
            "_model_name": "ProgressStyleModel",
            "_view_count": null,
            "_view_module": "@jupyter-widgets/base",
            "_view_module_version": "1.2.0",
            "_view_name": "StyleView",
            "bar_color": null,
            "description_width": ""
          }
        },
        "7a73a685f0c347feb296a1ba8d2ace5f": {
          "model_module": "@jupyter-widgets/base",
          "model_name": "LayoutModel",
          "model_module_version": "1.2.0",
          "state": {
            "_model_module": "@jupyter-widgets/base",
            "_model_module_version": "1.2.0",
            "_model_name": "LayoutModel",
            "_view_count": null,
            "_view_module": "@jupyter-widgets/base",
            "_view_module_version": "1.2.0",
            "_view_name": "LayoutView",
            "align_content": null,
            "align_items": null,
            "align_self": null,
            "border": null,
            "bottom": null,
            "display": null,
            "flex": null,
            "flex_flow": null,
            "grid_area": null,
            "grid_auto_columns": null,
            "grid_auto_flow": null,
            "grid_auto_rows": null,
            "grid_column": null,
            "grid_gap": null,
            "grid_row": null,
            "grid_template_areas": null,
            "grid_template_columns": null,
            "grid_template_rows": null,
            "height": null,
            "justify_content": null,
            "justify_items": null,
            "left": null,
            "margin": null,
            "max_height": null,
            "max_width": null,
            "min_height": null,
            "min_width": null,
            "object_fit": null,
            "object_position": null,
            "order": null,
            "overflow": null,
            "overflow_x": null,
            "overflow_y": null,
            "padding": null,
            "right": null,
            "top": null,
            "visibility": null,
            "width": null
          }
        },
        "ab72a8272f25464d9985deec243fb8c6": {
          "model_module": "@jupyter-widgets/controls",
          "model_name": "DescriptionStyleModel",
          "model_module_version": "1.5.0",
          "state": {
            "_model_module": "@jupyter-widgets/controls",
            "_model_module_version": "1.5.0",
            "_model_name": "DescriptionStyleModel",
            "_view_count": null,
            "_view_module": "@jupyter-widgets/base",
            "_view_module_version": "1.2.0",
            "_view_name": "StyleView",
            "description_width": ""
          }
        },
        "e5d1e37555b74e038d235674a0122d0d": {
          "model_module": "@jupyter-widgets/controls",
          "model_name": "HBoxModel",
          "model_module_version": "1.5.0",
          "state": {
            "_dom_classes": [],
            "_model_module": "@jupyter-widgets/controls",
            "_model_module_version": "1.5.0",
            "_model_name": "HBoxModel",
            "_view_count": null,
            "_view_module": "@jupyter-widgets/controls",
            "_view_module_version": "1.5.0",
            "_view_name": "HBoxView",
            "box_style": "",
            "children": [
              "IPY_MODEL_f2ee0a0fa42544eb8efa38a3cf238fad",
              "IPY_MODEL_675717d34aee4ff7b4d4e8bdbd86764d",
              "IPY_MODEL_91c47d0c2dde41ddb14fcf6cb5f658bb"
            ],
            "layout": "IPY_MODEL_91cd48b43eaf4712a582110cda9ceb21"
          }
        },
        "f2ee0a0fa42544eb8efa38a3cf238fad": {
          "model_module": "@jupyter-widgets/controls",
          "model_name": "HTMLModel",
          "model_module_version": "1.5.0",
          "state": {
            "_dom_classes": [],
            "_model_module": "@jupyter-widgets/controls",
            "_model_module_version": "1.5.0",
            "_model_name": "HTMLModel",
            "_view_count": null,
            "_view_module": "@jupyter-widgets/controls",
            "_view_module_version": "1.5.0",
            "_view_name": "HTMLView",
            "description": "",
            "description_tooltip": null,
            "layout": "IPY_MODEL_c76bfb210421453a8903232fd2533132",
            "placeholder": "​",
            "style": "IPY_MODEL_4f9c8a15853c42149676adc6189e69ab",
            "value": "Downloading: 100%"
          }
        },
        "675717d34aee4ff7b4d4e8bdbd86764d": {
          "model_module": "@jupyter-widgets/controls",
          "model_name": "FloatProgressModel",
          "model_module_version": "1.5.0",
          "state": {
            "_dom_classes": [],
            "_model_module": "@jupyter-widgets/controls",
            "_model_module_version": "1.5.0",
            "_model_name": "FloatProgressModel",
            "_view_count": null,
            "_view_module": "@jupyter-widgets/controls",
            "_view_module_version": "1.5.0",
            "_view_name": "ProgressView",
            "bar_style": "success",
            "description": "",
            "description_tooltip": null,
            "layout": "IPY_MODEL_2736c1235e664cda9b21e5e3022f6ab8",
            "max": 112,
            "min": 0,
            "orientation": "horizontal",
            "style": "IPY_MODEL_3832f4538bed4dd9928d51a5d2e05aa9",
            "value": 112
          }
        },
        "91c47d0c2dde41ddb14fcf6cb5f658bb": {
          "model_module": "@jupyter-widgets/controls",
          "model_name": "HTMLModel",
          "model_module_version": "1.5.0",
          "state": {
            "_dom_classes": [],
            "_model_module": "@jupyter-widgets/controls",
            "_model_module_version": "1.5.0",
            "_model_name": "HTMLModel",
            "_view_count": null,
            "_view_module": "@jupyter-widgets/controls",
            "_view_module_version": "1.5.0",
            "_view_name": "HTMLView",
            "description": "",
            "description_tooltip": null,
            "layout": "IPY_MODEL_6ea9e47c9f9940a19f006112cfff24f0",
            "placeholder": "​",
            "style": "IPY_MODEL_46f0ca1e066b468b934ac91c290c0e94",
            "value": " 112/112 [00:00&lt;00:00, 3.82kB/s]"
          }
        },
        "91cd48b43eaf4712a582110cda9ceb21": {
          "model_module": "@jupyter-widgets/base",
          "model_name": "LayoutModel",
          "model_module_version": "1.2.0",
          "state": {
            "_model_module": "@jupyter-widgets/base",
            "_model_module_version": "1.2.0",
            "_model_name": "LayoutModel",
            "_view_count": null,
            "_view_module": "@jupyter-widgets/base",
            "_view_module_version": "1.2.0",
            "_view_name": "LayoutView",
            "align_content": null,
            "align_items": null,
            "align_self": null,
            "border": null,
            "bottom": null,
            "display": null,
            "flex": null,
            "flex_flow": null,
            "grid_area": null,
            "grid_auto_columns": null,
            "grid_auto_flow": null,
            "grid_auto_rows": null,
            "grid_column": null,
            "grid_gap": null,
            "grid_row": null,
            "grid_template_areas": null,
            "grid_template_columns": null,
            "grid_template_rows": null,
            "height": null,
            "justify_content": null,
            "justify_items": null,
            "left": null,
            "margin": null,
            "max_height": null,
            "max_width": null,
            "min_height": null,
            "min_width": null,
            "object_fit": null,
            "object_position": null,
            "order": null,
            "overflow": null,
            "overflow_x": null,
            "overflow_y": null,
            "padding": null,
            "right": null,
            "top": null,
            "visibility": null,
            "width": null
          }
        },
        "c76bfb210421453a8903232fd2533132": {
          "model_module": "@jupyter-widgets/base",
          "model_name": "LayoutModel",
          "model_module_version": "1.2.0",
          "state": {
            "_model_module": "@jupyter-widgets/base",
            "_model_module_version": "1.2.0",
            "_model_name": "LayoutModel",
            "_view_count": null,
            "_view_module": "@jupyter-widgets/base",
            "_view_module_version": "1.2.0",
            "_view_name": "LayoutView",
            "align_content": null,
            "align_items": null,
            "align_self": null,
            "border": null,
            "bottom": null,
            "display": null,
            "flex": null,
            "flex_flow": null,
            "grid_area": null,
            "grid_auto_columns": null,
            "grid_auto_flow": null,
            "grid_auto_rows": null,
            "grid_column": null,
            "grid_gap": null,
            "grid_row": null,
            "grid_template_areas": null,
            "grid_template_columns": null,
            "grid_template_rows": null,
            "height": null,
            "justify_content": null,
            "justify_items": null,
            "left": null,
            "margin": null,
            "max_height": null,
            "max_width": null,
            "min_height": null,
            "min_width": null,
            "object_fit": null,
            "object_position": null,
            "order": null,
            "overflow": null,
            "overflow_x": null,
            "overflow_y": null,
            "padding": null,
            "right": null,
            "top": null,
            "visibility": null,
            "width": null
          }
        },
        "4f9c8a15853c42149676adc6189e69ab": {
          "model_module": "@jupyter-widgets/controls",
          "model_name": "DescriptionStyleModel",
          "model_module_version": "1.5.0",
          "state": {
            "_model_module": "@jupyter-widgets/controls",
            "_model_module_version": "1.5.0",
            "_model_name": "DescriptionStyleModel",
            "_view_count": null,
            "_view_module": "@jupyter-widgets/base",
            "_view_module_version": "1.2.0",
            "_view_name": "StyleView",
            "description_width": ""
          }
        },
        "2736c1235e664cda9b21e5e3022f6ab8": {
          "model_module": "@jupyter-widgets/base",
          "model_name": "LayoutModel",
          "model_module_version": "1.2.0",
          "state": {
            "_model_module": "@jupyter-widgets/base",
            "_model_module_version": "1.2.0",
            "_model_name": "LayoutModel",
            "_view_count": null,
            "_view_module": "@jupyter-widgets/base",
            "_view_module_version": "1.2.0",
            "_view_name": "LayoutView",
            "align_content": null,
            "align_items": null,
            "align_self": null,
            "border": null,
            "bottom": null,
            "display": null,
            "flex": null,
            "flex_flow": null,
            "grid_area": null,
            "grid_auto_columns": null,
            "grid_auto_flow": null,
            "grid_auto_rows": null,
            "grid_column": null,
            "grid_gap": null,
            "grid_row": null,
            "grid_template_areas": null,
            "grid_template_columns": null,
            "grid_template_rows": null,
            "height": null,
            "justify_content": null,
            "justify_items": null,
            "left": null,
            "margin": null,
            "max_height": null,
            "max_width": null,
            "min_height": null,
            "min_width": null,
            "object_fit": null,
            "object_position": null,
            "order": null,
            "overflow": null,
            "overflow_x": null,
            "overflow_y": null,
            "padding": null,
            "right": null,
            "top": null,
            "visibility": null,
            "width": null
          }
        },
        "3832f4538bed4dd9928d51a5d2e05aa9": {
          "model_module": "@jupyter-widgets/controls",
          "model_name": "ProgressStyleModel",
          "model_module_version": "1.5.0",
          "state": {
            "_model_module": "@jupyter-widgets/controls",
            "_model_module_version": "1.5.0",
            "_model_name": "ProgressStyleModel",
            "_view_count": null,
            "_view_module": "@jupyter-widgets/base",
            "_view_module_version": "1.2.0",
            "_view_name": "StyleView",
            "bar_color": null,
            "description_width": ""
          }
        },
        "6ea9e47c9f9940a19f006112cfff24f0": {
          "model_module": "@jupyter-widgets/base",
          "model_name": "LayoutModel",
          "model_module_version": "1.2.0",
          "state": {
            "_model_module": "@jupyter-widgets/base",
            "_model_module_version": "1.2.0",
            "_model_name": "LayoutModel",
            "_view_count": null,
            "_view_module": "@jupyter-widgets/base",
            "_view_module_version": "1.2.0",
            "_view_name": "LayoutView",
            "align_content": null,
            "align_items": null,
            "align_self": null,
            "border": null,
            "bottom": null,
            "display": null,
            "flex": null,
            "flex_flow": null,
            "grid_area": null,
            "grid_auto_columns": null,
            "grid_auto_flow": null,
            "grid_auto_rows": null,
            "grid_column": null,
            "grid_gap": null,
            "grid_row": null,
            "grid_template_areas": null,
            "grid_template_columns": null,
            "grid_template_rows": null,
            "height": null,
            "justify_content": null,
            "justify_items": null,
            "left": null,
            "margin": null,
            "max_height": null,
            "max_width": null,
            "min_height": null,
            "min_width": null,
            "object_fit": null,
            "object_position": null,
            "order": null,
            "overflow": null,
            "overflow_x": null,
            "overflow_y": null,
            "padding": null,
            "right": null,
            "top": null,
            "visibility": null,
            "width": null
          }
        },
        "46f0ca1e066b468b934ac91c290c0e94": {
          "model_module": "@jupyter-widgets/controls",
          "model_name": "DescriptionStyleModel",
          "model_module_version": "1.5.0",
          "state": {
            "_model_module": "@jupyter-widgets/controls",
            "_model_module_version": "1.5.0",
            "_model_name": "DescriptionStyleModel",
            "_view_count": null,
            "_view_module": "@jupyter-widgets/base",
            "_view_module_version": "1.2.0",
            "_view_name": "StyleView",
            "description_width": ""
          }
        }
      }
    }
  },
  "cells": [
    {
      "cell_type": "markdown",
      "metadata": {
        "id": "view-in-github",
        "colab_type": "text"
      },
      "source": [
        "<a href=\"https://colab.research.google.com/github/hantedyou/kccnlpClass/blob/main/predition.ipynb\" target=\"_parent\"><img src=\"https://colab.research.google.com/assets/colab-badge.svg\" alt=\"Open In Colab\"/></a>"
      ]
    },
    {
      "cell_type": "markdown",
      "source": [
        "# Loading modules"
      ],
      "metadata": {
        "id": "RgcHPcPA67v8"
      }
    },
    {
      "cell_type": "code",
      "source": [
        "!pip install -q transformers"
      ],
      "metadata": {
        "id": "c15QJid_EcCv",
        "colab": {
          "base_uri": "https://localhost:8080/"
        },
        "outputId": "ea5df86d-db74-4144-ddef-400bdecb92b5"
      },
      "execution_count": null,
      "outputs": [
        {
          "output_type": "stream",
          "name": "stdout",
          "text": [
            "\u001b[K     |████████████████████████████████| 4.4 MB 4.2 MB/s \n",
            "\u001b[K     |████████████████████████████████| 6.6 MB 51.2 MB/s \n",
            "\u001b[K     |████████████████████████████████| 101 kB 10.7 MB/s \n",
            "\u001b[K     |████████████████████████████████| 596 kB 71.1 MB/s \n",
            "\u001b[?25h"
          ]
        }
      ]
    },
    {
      "cell_type": "code",
      "source": [
        "import numpy as np \n",
        "import pandas as pd\n",
        "import matplotlib.pyplot as plt\n",
        "import seaborn as sns\n",
        "import os\n",
        "#-----------"
      ],
      "metadata": {
        "id": "VbC-q5da66Wa"
      },
      "execution_count": null,
      "outputs": []
    },
    {
      "cell_type": "code",
      "source": [
        "import os, sys\n",
        "from google.colab import drive\n",
        "\n",
        "ROOT = '/content/drive'     # default for the drive\n",
        "PROJ = 'My Drive/kcc/KCCNLP2022'       # path to your project on Drive\n",
        "\n",
        "\n",
        "\n",
        "drive.mount(ROOT)           \n",
        "PROJECT_PATH = os.path.join(ROOT, PROJ)  \n",
        "print(PROJECT_PATH)\n",
        "os.chdir(PROJECT_PATH)\n",
        "os.listdir()[:10]"
      ],
      "metadata": {
        "colab": {
          "base_uri": "https://localhost:8080/"
        },
        "id": "qOHIRQ5k7p4h",
        "outputId": "9bfc028c-b412-4f8a-a541-5bec8d3e69f1"
      },
      "execution_count": null,
      "outputs": [
        {
          "output_type": "stream",
          "name": "stdout",
          "text": [
            "Mounted at /content/drive\n",
            "/content/drive/My Drive/kcc/KCCNLP2022\n"
          ]
        },
        {
          "output_type": "execute_result",
          "data": {
            "text/plain": [
              "['data',\n",
              " '「01_transformers_multiclass_classification.ipynb」的副本',\n",
              " '「XLNet_toxic_comment_classification_challenge_share.ipynb」的副本',\n",
              " 'KCCNLP2021_DEA.ipynb',\n",
              " '「transformers_multi-label_classification.ipynb」的副本',\n",
              " 'chinese_xlnet_mid_L-24_H-768_A-12',\n",
              " 'xlnet_KCC_classes',\n",
              " 'submission.csv',\n",
              " 'Multi Class Text Classification XLNET.ipynb',\n",
              " '「rowdata_predition.ipynb」的副本']"
            ]
          },
          "metadata": {},
          "execution_count": 3
        }
      ]
    },
    {
      "cell_type": "markdown",
      "source": [
        "# 隨機抽取"
      ],
      "metadata": {
        "id": "He5qd-Pn90r1"
      }
    },
    {
      "cell_type": "markdown",
      "source": [],
      "metadata": {
        "id": "mGI5uTw05oWv"
      }
    },
    {
      "cell_type": "markdown",
      "source": [
        "# 讀入資料"
      ],
      "metadata": {
        "id": "8dd7VNN3ked7"
      }
    },
    {
      "cell_type": "code",
      "source": [
        "# path_test_data = 'data/test_070401.csv'\n",
        "path_test_data = 'data/data_3000.csv'"
      ],
      "metadata": {
        "id": "K-DrpDCaATEU"
      },
      "execution_count": null,
      "outputs": []
    },
    {
      "cell_type": "code",
      "source": [
        "df = pd.read_csv(path_test_data)\n",
        "#df = data.sample(frac=1).iloc[0]\n",
        "x = df['content']\n",
        "y = df['reCheckedsubject']\n",
        "len(x),len(y)"
      ],
      "metadata": {
        "id": "qomu7VusF8j5",
        "colab": {
          "base_uri": "https://localhost:8080/"
        },
        "outputId": "49fe2990-686a-46a0-b7de-d59114bc9ac1"
      },
      "execution_count": null,
      "outputs": [
        {
          "output_type": "execute_result",
          "data": {
            "text/plain": [
              "(3000, 3000)"
            ]
          },
          "metadata": {},
          "execution_count": 5
        }
      ]
    },
    {
      "cell_type": "markdown",
      "source": [
        "# 載入模型"
      ],
      "metadata": {
        "id": "cqJ6Fq6ukjFu"
      }
    },
    {
      "cell_type": "code",
      "execution_count": null,
      "metadata": {
        "id": "xebQfl4cj71T"
      },
      "outputs": [],
      "source": [
        "from torch import nn\n",
        "\n",
        "class OurModel(nn.Module):\n",
        "  def __init__(self, ori_model, num_labels):\n",
        "    super(OurModel, self).__init__()\n",
        "    self.num_labels = num_labels\n",
        "\n",
        "    self.model = model = ori_model\n",
        "    self.dropout = nn.Dropout(0.1)\n",
        "    self.classifier = nn.Linear(768, num_labels)\n",
        "\n",
        "  def forward(self, input_ids=None, attention_mask=None, labels=None):\n",
        "    outputs = self.model(input_ids=input_ids, attention_mask=attention_mask)\n",
        "    layers = self.dropout(outputs[0])\n",
        "    logits = self.classifier(layers[:, 0, :].view(-1, 768))\n",
        "\n",
        "    loss = None\n",
        "    if labels is not None:\n",
        "      loss_fct = nn.CrossEntropyLoss()\n",
        "      loss = loss_fct(logits.view(-1, self.num_labels), labels.view(-1))\n",
        "    return TokenClassifierOutput(loss=loss, logits=logits, hidden_states=outputs.hidden_states,attentions=outputs.attentions)\n"
      ]
    },
    {
      "cell_type": "code",
      "source": [
        "import torch\n",
        "from transformers.modeling_outputs import TokenClassifierOutput\n",
        "from transformers import AutoModel, AutoTokenizer"
      ],
      "metadata": {
        "id": "OWL9eC-gkL6A"
      },
      "execution_count": null,
      "outputs": []
    },
    {
      "cell_type": "code",
      "source": [
        "NAME = \"uer/roberta-base-finetuned-jd-full-chinese\"\n",
        "model = OurModel(AutoModel.from_pretrained(NAME), 32)"
      ],
      "metadata": {
        "id": "DRALzRWRkRU8",
        "colab": {
          "base_uri": "https://localhost:8080/",
          "height": 153,
          "referenced_widgets": [
            "2fcd73e693284ca1b5df02d0c6e8a69e",
            "402d7a5ffba34566a6992c85254ce8d2",
            "5085b109eb3f47269d539508c42ce399",
            "01eec8e8ea544bd7bce3be14bfa8d972",
            "a494988934dd4597abdc3624f2c140c5",
            "5ff9deb413384218be8806507a403d75",
            "850c876415ae4741abb08eaa56bc406e",
            "c4436b426b6a4f118f48a8e2214e271a",
            "f711c0c65c6649458804ed0548892708",
            "3e0e874864944bc69d100ff412bc14d0",
            "3a2211270a314fd88661cff8c9da185f",
            "1cae72e78f884154ba60beb544daabe0",
            "d61cd67821fb4118ac77e753ec8b67f2",
            "4610cedfe9ff4953a81ffbee8f81ea78",
            "c1638537d2cf44cfb5ea8c008c4cd719",
            "2dacdc76884743eb90544d34fc427f7a",
            "86a6d33769304e6a8a4e5aaedbc054f6",
            "2ea002275bfc4ed5969c65c93a2c5ea7",
            "2f9ba3ee709d4d1f95cc960504fd6efc",
            "e25763ef5b1d44d8aab9eda1d14bd1f9",
            "33c2c7f30ff848afb69aa117ee44334c",
            "7d3eb0bbf4d14ed784301eed9d571749"
          ]
        },
        "outputId": "124c2e14-855a-4cf6-f58e-b2516bfe518c"
      },
      "execution_count": null,
      "outputs": [
        {
          "output_type": "display_data",
          "data": {
            "text/plain": [
              "Downloading:   0%|          | 0.00/642 [00:00<?, ?B/s]"
            ],
            "application/vnd.jupyter.widget-view+json": {
              "version_major": 2,
              "version_minor": 0,
              "model_id": "2fcd73e693284ca1b5df02d0c6e8a69e"
            }
          },
          "metadata": {}
        },
        {
          "output_type": "display_data",
          "data": {
            "text/plain": [
              "Downloading:   0%|          | 0.00/390M [00:00<?, ?B/s]"
            ],
            "application/vnd.jupyter.widget-view+json": {
              "version_major": 2,
              "version_minor": 0,
              "model_id": "1cae72e78f884154ba60beb544daabe0"
            }
          },
          "metadata": {}
        },
        {
          "output_type": "stream",
          "name": "stderr",
          "text": [
            "Some weights of the model checkpoint at uer/roberta-base-finetuned-jd-full-chinese were not used when initializing BertModel: ['classifier.weight', 'classifier.bias']\n",
            "- This IS expected if you are initializing BertModel from the checkpoint of a model trained on another task or with another architecture (e.g. initializing a BertForSequenceClassification model from a BertForPreTraining model).\n",
            "- This IS NOT expected if you are initializing BertModel from the checkpoint of a model that you expect to be exactly identical (initializing a BertForSequenceClassification model from a BertForSequenceClassification model).\n"
          ]
        }
      ]
    },
    {
      "cell_type": "markdown",
      "source": [
        "# 從/model 資料夾載入自己訓練的資料"
      ],
      "metadata": {
        "id": "tpo5R0oQaaxU"
      }
    },
    {
      "cell_type": "code",
      "source": [
        "checkpoint = torch.load('model/roberta-base-AverageSample_15.zip', map_location='cpu')\n",
        "model.load_state_dict(checkpoint['model_state_dict'])\n",
        "tokenizer = AutoTokenizer.from_pretrained(NAME)"
      ],
      "metadata": {
        "id": "_iHWGYufFhuR",
        "colab": {
          "base_uri": "https://localhost:8080/",
          "height": 113,
          "referenced_widgets": [
            "707a8c4bb38a45fbbc335c340f0103de",
            "3b396b7607d24fbd959066953b984710",
            "34b000bc04454c15a04d0172d32620af",
            "afd9c56ceb32449999791e1c0aaecbca",
            "bf85c78299564c4fb5bab8f5a91a9a00",
            "b10aac3345a04974a6d77bfc25ac6721",
            "0e4321e4ca15480cba1e21a4be83a4a7",
            "0c23ef3cbc31419aa19db146dee7cb5d",
            "cb210a53edfd44c4a51b44b6ab7827e5",
            "76b40a1eb48a44ac9eeefdcca71a8269",
            "1c51be47eebc49248cc02670e7f210b3",
            "4e7e138d72be4eaa95ca07179c47bbef",
            "a20ae133437b4a1091b87477b55030ce",
            "146da4603e524a8f894bb3d096a80de9",
            "1dde612523b94b71b7f5b77de1eafa3a",
            "6c9ee04b745a407e97551004329515fc",
            "9635349a190240bdaf59f7e201618999",
            "e8b8d02cf61b49beb495cf7e0f99f9ce",
            "2443d769c4cb4f7f82f6f7d6fdb16a6a",
            "4fb493645cdb4a7aa446c23f86f512c3",
            "7a73a685f0c347feb296a1ba8d2ace5f",
            "ab72a8272f25464d9985deec243fb8c6",
            "e5d1e37555b74e038d235674a0122d0d",
            "f2ee0a0fa42544eb8efa38a3cf238fad",
            "675717d34aee4ff7b4d4e8bdbd86764d",
            "91c47d0c2dde41ddb14fcf6cb5f658bb",
            "91cd48b43eaf4712a582110cda9ceb21",
            "c76bfb210421453a8903232fd2533132",
            "4f9c8a15853c42149676adc6189e69ab",
            "2736c1235e664cda9b21e5e3022f6ab8",
            "3832f4538bed4dd9928d51a5d2e05aa9",
            "6ea9e47c9f9940a19f006112cfff24f0",
            "46f0ca1e066b468b934ac91c290c0e94"
          ]
        },
        "outputId": "f3080a85-ae8e-45d1-c9cb-b84ad05b3ee8"
      },
      "execution_count": null,
      "outputs": [
        {
          "output_type": "display_data",
          "data": {
            "text/plain": [
              "Downloading:   0%|          | 0.00/295 [00:00<?, ?B/s]"
            ],
            "application/vnd.jupyter.widget-view+json": {
              "version_major": 2,
              "version_minor": 0,
              "model_id": "707a8c4bb38a45fbbc335c340f0103de"
            }
          },
          "metadata": {}
        },
        {
          "output_type": "display_data",
          "data": {
            "text/plain": [
              "Downloading:   0%|          | 0.00/107k [00:00<?, ?B/s]"
            ],
            "application/vnd.jupyter.widget-view+json": {
              "version_major": 2,
              "version_minor": 0,
              "model_id": "4e7e138d72be4eaa95ca07179c47bbef"
            }
          },
          "metadata": {}
        },
        {
          "output_type": "display_data",
          "data": {
            "text/plain": [
              "Downloading:   0%|          | 0.00/112 [00:00<?, ?B/s]"
            ],
            "application/vnd.jupyter.widget-view+json": {
              "version_major": 2,
              "version_minor": 0,
              "model_id": "e5d1e37555b74e038d235674a0122d0d"
            }
          },
          "metadata": {}
        }
      ]
    },
    {
      "cell_type": "markdown",
      "source": [
        "# 預測"
      ],
      "metadata": {
        "id": "7HSIi8S2kn0s"
      }
    },
    {
      "cell_type": "markdown",
      "source": [
        "## 單筆預測"
      ],
      "metadata": {
        "id": "zBoXytRwIcYA"
      }
    },
    {
      "cell_type": "code",
      "source": [
        "data_index = 5\n",
        "\n",
        "inputs = tokenizer(x[data_index], max_length=512, return_tensors='pt')\n",
        "logits = model(inputs['input_ids'], inputs['attention_mask'])\n",
        "\n",
        "predition_Y = torch.argmax(logits.logits[0].cpu()).tolist()\n",
        "print(f\"實際標籤: {y[data_index]}\")\n",
        "print(f\"預測標籤: {predition_Y}\")\n",
        "\n",
        "x[data_index]"
      ],
      "metadata": {
        "id": "1jzqBkjnkUZ_",
        "colab": {
          "base_uri": "https://localhost:8080/",
          "height": 144
        },
        "outputId": "8c135754-9f08-4b10-e235-beccd0f64dbf"
      },
      "execution_count": null,
      "outputs": [
        {
          "output_type": "stream",
          "name": "stderr",
          "text": [
            "Truncation was not explicitly activated but `max_length` is provided a specific value, please use `truncation=True` to explicitly truncate examples to max length. Defaulting to 'longest_first' truncation strategy. If you encode pairs of sequences (GLUE-style) with the tokenizer you can select this strategy more precisely by providing a specific strategy to `truncation`.\n"
          ]
        },
        {
          "output_type": "stream",
          "name": "stdout",
          "text": [
            "實際標籤: 6\n",
            "預測標籤: 6\n"
          ]
        },
        {
          "output_type": "execute_result",
          "data": {
            "text/plain": [
              "'另外，對於兒童少年保護的關切，我們市政府一定會特別的重視，我希望在下半年跟議會能做一個專案的報告。這個報告有一個好處，讓議員能瞭解、市民能瞭解，同時讓我們市政府的團隊也能夠重視，我覺得專案報告它有這幾個綜合性的好處，所以下半年我想我們針對如何保護高雄的幼兒、少年、青少年等等，尤其是各方面你剛剛講的，不管是安全、兩性平等、虐待，我想兒少這一塊於下一個會期，我們跟議會做一個專案報告，要再請郭議員建盟一起來參加，好不好？非常感謝你的質詢，非常感謝。'"
            ],
            "application/vnd.google.colaboratory.intrinsic+json": {
              "type": "string"
            }
          },
          "metadata": {},
          "execution_count": 10
        }
      ]
    },
    {
      "cell_type": "markdown",
      "source": [
        "# 整批預設"
      ],
      "metadata": {
        "id": "a4rS1x-fIhdC"
      }
    },
    {
      "cell_type": "markdown",
      "source": [
        "### **如果要隨機抽一些測試執行此欄**"
      ],
      "metadata": {
        "id": "sHYnKfRzbNu_"
      }
    },
    {
      "cell_type": "code",
      "source": [
        "# 抽出來的資料會用原本的index，ignore_index會重編，下方預測的迴圈才不會中斷。\n",
        "test_df = df.sample(100, ignore_index = True)\n",
        "x = test_df['content']\n",
        "y = test_df['classes']"
      ],
      "metadata": {
        "id": "DAXfp_cSQh49"
      },
      "execution_count": null,
      "outputs": []
    },
    {
      "cell_type": "markdown",
      "source": [
        "# 開始整批預測"
      ],
      "metadata": {
        "id": "KSnZqOTEbS2q"
      }
    },
    {
      "cell_type": "code",
      "source": [
        "# list_pred_y:存放預測結果\n",
        "list_pred_y = []\n",
        "\n",
        "# d = {'col1': [1, 2], 'col2': [3, 4]}\n",
        "# df = pd.DataFrame(data=d)"
      ],
      "metadata": {
        "id": "dqlADUKCQV0S"
      },
      "execution_count": null,
      "outputs": []
    },
    {
      "cell_type": "code",
      "source": [
        "for i in range(len(x)):\n",
        "  inputs = tokenizer(x[i], max_length=512, return_tensors='pt')\n",
        "  logits = model(inputs['input_ids'], inputs['attention_mask'])\n",
        "  predition_Y = torch.argmax(logits.logits[0].cpu()).tolist()\n",
        "  list_pred_y.append(predition_Y)\n",
        "  #print(f\"實際標籤: {y[i]}\")\n",
        "  #print(f\"預測標籤: {predition_Y}\")"
      ],
      "metadata": {
        "id": "XYxCipyXQd7I"
      },
      "execution_count": null,
      "outputs": []
    },
    {
      "cell_type": "code",
      "source": [
        "from sklearn.metrics import accuracy_score\n",
        "# accuracy_score(y_true, y_pred)\n",
        "acc_score = accuracy_score(result['true_y'], result['pred_y'])\n",
        "acc_score"
      ],
      "metadata": {
        "colab": {
          "base_uri": "https://localhost:8080/"
        },
        "id": "y-TPg3-hRfk1",
        "outputId": "5940ee0a-a6ea-4cfb-85bc-c6af956dea40"
      },
      "execution_count": null,
      "outputs": [
        {
          "output_type": "execute_result",
          "data": {
            "text/plain": [
              "0.93"
            ]
          },
          "metadata": {},
          "execution_count": 63
        }
      ]
    },
    {
      "cell_type": "code",
      "source": [
        "import numpy as np\n",
        "acc_score = np.round(acc_score)"
      ],
      "metadata": {
        "id": "XypoMzZ_bxIR"
      },
      "execution_count": null,
      "outputs": []
    },
    {
      "cell_type": "code",
      "source": [
        "result = pd.DataFrame({'content': x, 'pred_y':list_pred_y, 'true_y':y})\n",
        "result.columns,result.head()\n",
        "result.to_csv(f'result/roberta-base-TrainBy3000-Pred3000-acc{acc_score}.csv')"
      ],
      "metadata": {
        "id": "I9zJBHxyRfWb"
      },
      "execution_count": null,
      "outputs": []
    },
    {
      "cell_type": "markdown",
      "source": [
        "# ================以上是完整使用一次模型來預測==============="
      ],
      "metadata": {
        "id": "nAGbrrcGatiU"
      }
    },
    {
      "cell_type": "code",
      "source": [
        "a = BatchPredict(df.sample(50, ignore_index = True) , x_name = 'content', y_name='reCheckedsubject', partial=0.2)"
      ],
      "metadata": {
        "id": "FiqziB19GyCt"
      },
      "execution_count": null,
      "outputs": []
    },
    {
      "cell_type": "code",
      "source": [
        "from sklearn.metrics import accuracy_score\n",
        "def BatchPredict(df, x_name, y_name, partial=0.2):\n",
        "  test_len = int(len(df)*0.2) # 每次抽樣長度\n",
        "  total_len = len(df)\n",
        "  acc_list = []\n",
        "  for i in range(int(total_len/test_len)-1):\n",
        "    print(f\"Run {i},total len :{total_len},test_len:{test_len}\")\n",
        "    if total_len < test_len:\n",
        "      test_len = total_len\n",
        "      print(f\"total_len < test_len, update test_len to {test_len}\")\n",
        "    # 從母體抽取部分資料，並將抽出的由母體中刪除\n",
        "    # df['freq'] = df.groupby(y_name)[y_name].transform('count')\n",
        "    test_df = df[:test_len]\n",
        "    # 從母體中移除val set\n",
        "    test_number = test_df['編號']\n",
        "    df = df[~df['編號'].isin(test_number)]\n",
        "    total_len -= test_len\n",
        "    print(f\"Update total len to {total_len}\")\n",
        "\n",
        "    x = test_df[x_name]\n",
        "    print(\"index of x:{}\".format(x.index))\n",
        "    y = test_df[y_name]\n",
        "    \n",
        "    # list_pred_y:存放預測結果\n",
        "    list_pred_y = []\n",
        "    \n",
        "    for i in range(len(test_df)):\n",
        "      print('x[{}]:{}'.format(i,x[i]))\n",
        "      print('y[i]:{}'.format(y[i]))\n",
        "      inputs = tokenizer(x[i], max_length=512, return_tensors='pt')\n",
        "      logits = model(inputs['input_ids'], inputs['attention_mask'])\n",
        "      predition_Y = torch.argmax(logits.logits[0].cpu()).tolist()\n",
        "      print(f'predict y :{predition_Y}')\n",
        "      list_pred_y.append(predition_Y)\n",
        "    \n",
        "    result = pd.DataFrame({'content': x, 'pred_y':list_pred_y, 'true_y':y})\n",
        "    acc_list.append(accuracy_score(result['true_y'], result['pred_y']))\n",
        "\n",
        "    print(\"acc_list:{}\".format(acc_list))\n",
        "  return acc_list"
      ],
      "metadata": {
        "id": "Obz1P8LGAt3y"
      },
      "execution_count": null,
      "outputs": []
    },
    {
      "cell_type": "markdown",
      "source": [
        "## Trainning with Sample by Freq"
      ],
      "metadata": {
        "id": "82wXp05wN2n4"
      }
    },
    {
      "cell_type": "code",
      "source": [
        "# list_pred_y:存放預測結果\n",
        "list_pred_y = []\n",
        "\n",
        "# d = {'col1': [1, 2], 'col2': [3, 4]}\n",
        "# df = pd.DataFrame(data=d)"
      ],
      "metadata": {
        "id": "fDcyHGzOIkQq"
      },
      "execution_count": null,
      "outputs": []
    },
    {
      "cell_type": "code",
      "source": [
        "for i in range(len(x)):\n",
        "  inputs = tokenizer(x[i], max_length=512, return_tensors='pt')\n",
        "  logits = model(inputs['input_ids'], inputs['attention_mask'])\n",
        "  predition_Y = torch.argmax(logits.logits[0].cpu()).tolist()\n",
        "  list_pred_y.append(predition_Y)\n",
        "  #print(f\"實際標籤: {y[i]}\")\n",
        "  #print(f\"預測標籤: {predition_Y}\")"
      ],
      "metadata": {
        "id": "h0QG8LJkF2yU"
      },
      "execution_count": null,
      "outputs": []
    },
    {
      "cell_type": "code",
      "source": [
        "result = pd.DataFrame({'content': x, 'pred_y':list_pred_y, 'true_y':y})\n",
        "result.columns,result.head()\n",
        "result.to_csv('result/roberta-base-AverageSample.csv')"
      ],
      "metadata": {
        "id": "1KtTWkWgGZxq"
      },
      "execution_count": null,
      "outputs": []
    },
    {
      "cell_type": "markdown",
      "source": [
        "# 計算模型準確率"
      ],
      "metadata": {
        "id": "0hQHdz-A7Be5"
      }
    },
    {
      "cell_type": "code",
      "source": [
        "from sklearn.metrics import accuracy_score\n",
        "# accuracy_score(y_true, y_pred)\n",
        "accuracy_score(result['true_y'], result['pred_y'])"
      ],
      "metadata": {
        "colab": {
          "base_uri": "https://localhost:8080/"
        },
        "id": "fxO90BQOJw2B",
        "outputId": "4e2b233c-a55b-4032-d137-7407593be515"
      },
      "execution_count": null,
      "outputs": [
        {
          "output_type": "execute_result",
          "data": {
            "text/plain": [
              "0.988"
            ]
          },
          "metadata": {},
          "execution_count": 25
        }
      ]
    },
    {
      "cell_type": "markdown",
      "source": [
        "https://medium.com/analytics-vidhya/multi-class-ml-models-evaluation-103c9fdadb41"
      ],
      "metadata": {
        "id": "2bgRKYaHYpnU"
      }
    },
    {
      "cell_type": "code",
      "source": [
        "from sklearn.metrics import confusion_matrix\n",
        "from sklearn.metrics import classification_report\n",
        "import matplotlib.pyplot as plt\n",
        "%matplotlib inline"
      ],
      "metadata": {
        "id": "MKyD2UCqLE2W"
      },
      "execution_count": null,
      "outputs": []
    },
    {
      "cell_type": "code",
      "source": [
        "#labels = list(test_df['classes'].unique()) \n",
        "labels = list(y.unique())\n",
        "print(classification_report(y, list_pred_y)) #classification report from sklearn\n",
        "cnf_matrix = confusion_matrix(y, list_pred_y, labels=labels)\n"
      ],
      "metadata": {
        "colab": {
          "base_uri": "https://localhost:8080/"
        },
        "id": "Glly-teEYnSS",
        "outputId": "768b27b8-7c38-4051-cf35-9e9f15233d57"
      },
      "execution_count": null,
      "outputs": [
        {
          "output_type": "stream",
          "name": "stdout",
          "text": [
            "              precision    recall  f1-score   support\n",
            "\n",
            "           0       0.95      1.00      0.98       333\n",
            "           1       0.97      1.00      0.98        91\n",
            "           2       0.99      0.93      0.96       143\n",
            "           3       1.00      0.91      0.95        33\n",
            "           4       0.99      1.00      1.00       167\n",
            "           5       1.00      0.99      0.99       334\n",
            "           6       1.00      1.00      1.00        95\n",
            "           7       1.00      1.00      1.00        17\n",
            "           8       1.00      1.00      1.00        13\n",
            "           9       1.00      1.00      1.00        11\n",
            "          10       1.00      0.98      0.99       135\n",
            "          11       0.98      1.00      0.99        63\n",
            "          12       0.98      1.00      0.99        48\n",
            "          13       1.00      1.00      1.00        31\n",
            "          14       1.00      1.00      1.00        96\n",
            "          15       0.97      0.97      0.97        39\n",
            "          16       1.00      0.98      0.99       129\n",
            "          17       0.99      0.97      0.98       188\n",
            "          18       1.00      1.00      1.00        46\n",
            "          19       0.98      0.99      0.98       135\n",
            "          20       1.00      1.00      1.00        99\n",
            "          21       1.00      1.00      1.00        14\n",
            "          22       1.00      0.99      1.00       108\n",
            "          23       1.00      0.99      0.99       149\n",
            "          24       0.98      1.00      0.99       101\n",
            "          25       0.99      1.00      0.99        70\n",
            "          26       0.99      1.00      1.00       127\n",
            "          27       0.93      1.00      0.96        39\n",
            "          28       1.00      0.95      0.97        20\n",
            "          29       1.00      0.99      1.00       102\n",
            "          30       1.00      1.00      1.00         7\n",
            "          31       1.00      0.94      0.97        17\n",
            "\n",
            "    accuracy                           0.99      3000\n",
            "   macro avg       0.99      0.99      0.99      3000\n",
            "weighted avg       0.99      0.99      0.99      3000\n",
            "\n"
          ]
        }
      ]
    },
    {
      "cell_type": "code",
      "source": [
        "\n",
        "plt.imshow(cnf_matrix, cmap=plt.cm.Blues, interpolation='nearest', aspect='auto') #plot confusion matrix grid\n",
        "threshold = cnf_matrix.max() / 2 #threshold to define text color\n",
        "for i in range(cnf_matrix.shape[0]): #print text in grid\n",
        "    for j in range(cnf_matrix.shape[1]): \n",
        "        plt.text(j, i, cnf_matrix[i,j], color=\"w\" if cnf_matrix[i,j] > threshold else 'black')\n",
        "tick_marks = np.arange(len(labels)) #define labeling spacing based on number of classes\n",
        "plt.xticks(tick_marks, labels, rotation=45)\n",
        "plt.yticks(tick_marks, labels)\n",
        "plt.ylabel('True label')\n",
        "plt.xlabel('Predicted label')\n",
        "plt.colorbar()\n",
        "plt.tight_layout()"
      ],
      "metadata": {
        "colab": {
          "base_uri": "https://localhost:8080/",
          "height": 297
        },
        "id": "4JgTs11gY4c7",
        "outputId": "8b35d902-4c96-4bb8-a013-487f2a33521d"
      },
      "execution_count": null,
      "outputs": [
        {
          "output_type": "display_data",
          "data": {
            "text/plain": [
              "<Figure size 432x288 with 2 Axes>"
            ],
            "image/png": "[encoded data removed]"
          },
          "metadata": {
            "needs_background": "light"
          }
        }
      ]
    },
    {
      "cell_type": "code",
      "source": [],
      "metadata": {
        "id": "9MgNOQkEZBGp"
      },
      "execution_count": null,
      "outputs": []
    }
  ]
}