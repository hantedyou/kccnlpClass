{
  "nbformat": 4,
  "nbformat_minor": 0,
  "metadata": {
    "colab": {
      "provenance": [],
      "collapsed_sections": [],
      "include_colab_link": true
    },
    "kernelspec": {
      "name": "python3",
      "display_name": "Python 3"
    },
    "language_info": {
      "name": "python"
    },
    "accelerator": "GPU",
    "gpuClass": "standard"
  },
  "cells": [
    {
      "cell_type": "markdown",
      "metadata": {
        "id": "view-in-github",
        "colab_type": "text"
      },
      "source": [
        "<a href=\"https://colab.research.google.com/github/hantedyou/kccnlpClass/blob/main/predition_old_data.ipynb\" target=\"_parent\"><img src=\"https://colab.research.google.com/assets/colab-badge.svg\" alt=\"Open In Colab\"/></a>"
      ]
    },
    {
      "cell_type": "markdown",
      "source": [
        "# Loading modules"
      ],
      "metadata": {
        "id": "RgcHPcPA67v8"
      }
    },
    {
      "cell_type": "code",
      "source": [
        "!pip install -q transformers"
      ],
      "metadata": {
        "id": "c15QJid_EcCv",
        "colab": {
          "base_uri": "https://localhost:8080/"
        },
        "outputId": "ccb4e979-1c26-464c-e463-56245606e0b3"
      },
      "execution_count": null,
      "outputs": [
        {
          "output_type": "stream",
          "name": "stdout",
          "text": [
            "\u001b[K     |████████████████████████████████| 4.7 MB 13.6 MB/s \n",
            "\u001b[K     |████████████████████████████████| 596 kB 72.4 MB/s \n",
            "\u001b[K     |████████████████████████████████| 6.6 MB 55.3 MB/s \n",
            "\u001b[K     |████████████████████████████████| 101 kB 6.9 MB/s \n",
            "\u001b[?25h"
          ]
        }
      ]
    },
    {
      "cell_type": "code",
      "source": [
        "import numpy as np \n",
        "import pandas as pd\n",
        "import matplotlib.pyplot as plt\n",
        "import seaborn as sns\n",
        "import os\n",
        "#-----------"
      ],
      "metadata": {
        "id": "VbC-q5da66Wa"
      },
      "execution_count": null,
      "outputs": []
    },
    {
      "cell_type": "code",
      "source": [
        "!nvidia-smi"
      ],
      "metadata": {
        "colab": {
          "base_uri": "https://localhost:8080/"
        },
        "id": "Rgr_T9lUQnRg",
        "outputId": "cceb2991-c0fe-4089-be4a-6f90b2b5643d"
      },
      "execution_count": null,
      "outputs": [
        {
          "output_type": "stream",
          "name": "stdout",
          "text": [
            "Thu Jul 28 01:43:01 2022       \n",
            "+-----------------------------------------------------------------------------+\n",
            "| NVIDIA-SMI 460.32.03    Driver Version: 460.32.03    CUDA Version: 11.2     |\n",
            "|-------------------------------+----------------------+----------------------+\n",
            "| GPU  Name        Persistence-M| Bus-Id        Disp.A | Volatile Uncorr. ECC |\n",
            "| Fan  Temp  Perf  Pwr:Usage/Cap|         Memory-Usage | GPU-Util  Compute M. |\n",
            "|                               |                      |               MIG M. |\n",
            "|===============================+======================+======================|\n",
            "|   0  Tesla P100-PCIE...  Off  | 00000000:00:04.0 Off |                    0 |\n",
            "| N/A   33C    P0    27W / 250W |      0MiB / 16280MiB |      0%      Default |\n",
            "|                               |                      |                  N/A |\n",
            "+-------------------------------+----------------------+----------------------+\n",
            "                                                                               \n",
            "+-----------------------------------------------------------------------------+\n",
            "| Processes:                                                                  |\n",
            "|  GPU   GI   CI        PID   Type   Process name                  GPU Memory |\n",
            "|        ID   ID                                                   Usage      |\n",
            "|=============================================================================|\n",
            "|  No running processes found                                                 |\n",
            "+-----------------------------------------------------------------------------+\n"
          ]
        }
      ]
    },
    {
      "cell_type": "code",
      "source": [
        "import os, sys\n",
        "from google.colab import drive\n",
        "\n",
        "ROOT = '/content/drive'     # default for the drive\n",
        "drive.mount(ROOT)"
      ],
      "metadata": {
        "colab": {
          "base_uri": "https://localhost:8080/"
        },
        "id": "qOHIRQ5k7p4h",
        "outputId": "a67b1638-1985-45c9-fd8c-b5a86ae9f3cb"
      },
      "execution_count": null,
      "outputs": [
        {
          "output_type": "stream",
          "name": "stdout",
          "text": [
            "Mounted at /content/drive\n"
          ]
        }
      ]
    },
    {
      "cell_type": "code",
      "source": [
        "PROJ = 'My Drive/kcc/KCCNLP2022_shared'       # path to your project on Drive\n",
        "           \n",
        "PROJECT_PATH = os.path.join(ROOT, PROJ)  \n",
        "print(PROJECT_PATH)\n",
        "os.chdir(PROJECT_PATH)\n",
        "os.listdir()[:10]"
      ],
      "metadata": {
        "colab": {
          "base_uri": "https://localhost:8080/"
        },
        "id": "3Ky4edAAQzrk",
        "outputId": "6c83e7ec-1597-4404-c297-396ddd87418d"
      },
      "execution_count": null,
      "outputs": [
        {
          "output_type": "stream",
          "name": "stdout",
          "text": [
            "/content/drive/My Drive/kcc/KCCNLP2022_shared\n"
          ]
        },
        {
          "output_type": "execute_result",
          "data": {
            "text/plain": [
              "['model',\n",
              " 'data',\n",
              " 'result',\n",
              " 'predition.ipynb',\n",
              " 'ReadMe.gsheet',\n",
              " 'KCC NLP 20220712.gslides',\n",
              " 'DATA_EDA_2022',\n",
              " 'tmp',\n",
              " 'TrainModelRoberta.ipynb',\n",
              " 'ipynb保留執行結果']"
            ]
          },
          "metadata": {},
          "execution_count": 5
        }
      ]
    },
    {
      "cell_type": "code",
      "source": [
        "!nvcc --version"
      ],
      "metadata": {
        "colab": {
          "base_uri": "https://localhost:8080/"
        },
        "id": "_iWGX8hZeo02",
        "outputId": "1e94c6ea-3d18-49f1-9f2b-0ac0c07c9de9"
      },
      "execution_count": null,
      "outputs": [
        {
          "output_type": "stream",
          "name": "stdout",
          "text": [
            "nvcc: NVIDIA (R) Cuda compiler driver\n",
            "Copyright (c) 2005-2020 NVIDIA Corporation\n",
            "Built on Mon_Oct_12_20:09:46_PDT_2020\n",
            "Cuda compilation tools, release 11.1, V11.1.105\n",
            "Build cuda_11.1.TC455_06.29190527_0\n"
          ]
        }
      ]
    },
    {
      "cell_type": "code",
      "source": [
        "!pip install wandb\n",
        "import wandb"
      ],
      "metadata": {
        "colab": {
          "base_uri": "https://localhost:8080/"
        },
        "id": "L0NgeBMrhfZC",
        "outputId": "9297d50c-b798-40a0-bf39-071e4d38e767"
      },
      "execution_count": null,
      "outputs": [
        {
          "output_type": "stream",
          "name": "stdout",
          "text": [
            "Looking in indexes: https://pypi.org/simple, https://us-python.pkg.dev/colab-wheels/public/simple/\n",
            "Collecting wandb\n",
            "  Downloading wandb-0.12.21-py2.py3-none-any.whl (1.8 MB)\n",
            "\u001b[K     |████████████████████████████████| 1.8 MB 11.5 MB/s \n",
            "\u001b[?25hCollecting docker-pycreds>=0.4.0\n",
            "  Downloading docker_pycreds-0.4.0-py2.py3-none-any.whl (9.0 kB)\n",
            "Requirement already satisfied: PyYAML in /usr/local/lib/python3.7/dist-packages (from wandb) (6.0)\n",
            "Requirement already satisfied: six>=1.13.0 in /usr/local/lib/python3.7/dist-packages (from wandb) (1.15.0)\n",
            "Collecting shortuuid>=0.5.0\n",
            "  Downloading shortuuid-1.0.9-py3-none-any.whl (9.4 kB)\n",
            "Collecting GitPython>=1.0.0\n",
            "  Downloading GitPython-3.1.27-py3-none-any.whl (181 kB)\n",
            "\u001b[K     |████████████████████████████████| 181 kB 49.7 MB/s \n",
            "\u001b[?25hRequirement already satisfied: setuptools in /usr/local/lib/python3.7/dist-packages (from wandb) (57.4.0)\n",
            "Requirement already satisfied: Click!=8.0.0,>=7.0 in /usr/local/lib/python3.7/dist-packages (from wandb) (7.1.2)\n",
            "Requirement already satisfied: requests<3,>=2.0.0 in /usr/local/lib/python3.7/dist-packages (from wandb) (2.23.0)\n",
            "Requirement already satisfied: protobuf<4.0dev,>=3.12.0 in /usr/local/lib/python3.7/dist-packages (from wandb) (3.17.3)\n",
            "Collecting setproctitle\n",
            "  Downloading setproctitle-1.3.0-cp37-cp37m-manylinux_2_5_x86_64.manylinux1_x86_64.manylinux_2_17_x86_64.manylinux2014_x86_64.whl (30 kB)\n",
            "Collecting pathtools\n",
            "  Downloading pathtools-0.1.2.tar.gz (11 kB)\n",
            "Collecting sentry-sdk>=1.0.0\n",
            "  Downloading sentry_sdk-1.8.0-py2.py3-none-any.whl (153 kB)\n",
            "\u001b[K     |████████████████████████████████| 153 kB 70.5 MB/s \n",
            "\u001b[?25hRequirement already satisfied: promise<3,>=2.0 in /usr/local/lib/python3.7/dist-packages (from wandb) (2.3)\n",
            "Requirement already satisfied: psutil>=5.0.0 in /usr/local/lib/python3.7/dist-packages (from wandb) (5.4.8)\n",
            "Requirement already satisfied: typing-extensions>=3.7.4.3 in /usr/local/lib/python3.7/dist-packages (from GitPython>=1.0.0->wandb) (4.1.1)\n",
            "Collecting gitdb<5,>=4.0.1\n",
            "  Downloading gitdb-4.0.9-py3-none-any.whl (63 kB)\n",
            "\u001b[K     |████████████████████████████████| 63 kB 2.2 MB/s \n",
            "\u001b[?25hCollecting smmap<6,>=3.0.1\n",
            "  Downloading smmap-5.0.0-py3-none-any.whl (24 kB)\n",
            "Requirement already satisfied: idna<3,>=2.5 in /usr/local/lib/python3.7/dist-packages (from requests<3,>=2.0.0->wandb) (2.10)\n",
            "Requirement already satisfied: urllib3!=1.25.0,!=1.25.1,<1.26,>=1.21.1 in /usr/local/lib/python3.7/dist-packages (from requests<3,>=2.0.0->wandb) (1.24.3)\n",
            "Requirement already satisfied: certifi>=2017.4.17 in /usr/local/lib/python3.7/dist-packages (from requests<3,>=2.0.0->wandb) (2022.6.15)\n",
            "Requirement already satisfied: chardet<4,>=3.0.2 in /usr/local/lib/python3.7/dist-packages (from requests<3,>=2.0.0->wandb) (3.0.4)\n",
            "Building wheels for collected packages: pathtools\n",
            "  Building wheel for pathtools (setup.py) ... \u001b[?25l\u001b[?25hdone\n",
            "  Created wheel for pathtools: filename=pathtools-0.1.2-py3-none-any.whl size=8806 sha256=dff61e45053839741bac338a6e9216644f16e21b3e680a10798568a66cd16bc8\n",
            "  Stored in directory: /root/.cache/pip/wheels/3e/31/09/fa59cef12cdcfecc627b3d24273699f390e71828921b2cbba2\n",
            "Successfully built pathtools\n",
            "Installing collected packages: smmap, gitdb, shortuuid, setproctitle, sentry-sdk, pathtools, GitPython, docker-pycreds, wandb\n",
            "Successfully installed GitPython-3.1.27 docker-pycreds-0.4.0 gitdb-4.0.9 pathtools-0.1.2 sentry-sdk-1.8.0 setproctitle-1.3.0 shortuuid-1.0.9 smmap-5.0.0 wandb-0.12.21\n"
          ]
        }
      ]
    },
    {
      "cell_type": "code",
      "source": [
        "wandb.init()"
      ],
      "metadata": {
        "id": "-Rh0aLPnhtro"
      },
      "execution_count": null,
      "outputs": []
    },
    {
      "cell_type": "code",
      "source": [
        "df_old = pd.read_csv('data/2020CisDep-10501-類別轉換.csv',index_col = 0)\n",
        "print(df_old.columns)\n",
        "#df_old = df_old[['編號', '類別', '分類', '內容']]\n",
        "df_old.head()"
      ],
      "metadata": {
        "id": "ZWDOv22l93-E",
        "colab": {
          "base_uri": "https://localhost:8080/",
          "height": 223
        },
        "outputId": "f641b892-8414-4ba7-8736-97fdbf8afd7a"
      },
      "execution_count": null,
      "outputs": [
        {
          "output_type": "stream",
          "name": "stdout",
          "text": [
            "Index(['編號', '類別', '分類', '內容', '舊分類'], dtype='object')\n"
          ]
        },
        {
          "output_type": "execute_result",
          "data": {
            "text/plain": [
              "   編號  類別  分類                                                 內容  舊分類\n",
              "0   1  新聞  20  壽山動物園為增進動物飼養福祉及保育工作，特設立「高雄市壽山動物園認養辦法」設立動物認養專戶，...   26\n",
              "1   2  新聞  10  高雄翻轉須新政府全面力挺高雄市長陳菊日前在市議會做施政報告時指出，翻轉產業高雄的使命責任，面...   61\n",
              "2   3  新聞   1  台塑企業回饋地方藝文活動，週六晚間在高雄市仁武區運動公園登場，明華園歌仔戲團演出逐鹿中原戲碼...   18\n",
              "3   4  新聞   3  也談赦扁暗公鳥近來特赦阿扁呼聲不斷，台南與高雄市議會及醫界相繼呼籲馬英九特赦陳水扁。馬是繫鈴...   10\n",
              "4   5  新聞   4  高雄道德院在甲仙區有占地三十甲甲仙道場，每季高雄道德院住持三清太乙大宗師翁太明會率出家眾及信...   52"
            ],
            "text/html": [
              "\n",
              "  <div id=\"df-72ecaacb-902a-4ae0-90b7-997613607289\">\n",
              "    <div class=\"colab-df-container\">\n",
              "      <div>\n",
              "<style scoped>\n",
              "    .dataframe tbody tr th:only-of-type {\n",
              "        vertical-align: middle;\n",
              "    }\n",
              "\n",
              "    .dataframe tbody tr th {\n",
              "        vertical-align: top;\n",
              "    }\n",
              "\n",
              "    .dataframe thead th {\n",
              "        text-align: right;\n",
              "    }\n",
              "</style>\n",
              "<table border=\"1\" class=\"dataframe\">\n",
              "  <thead>\n",
              "    <tr style=\"text-align: right;\">\n",
              "      <th></th>\n",
              "      <th>編號</th>\n",
              "      <th>類別</th>\n",
              "      <th>分類</th>\n",
              "      <th>內容</th>\n",
              "      <th>舊分類</th>\n",
              "    </tr>\n",
              "  </thead>\n",
              "  <tbody>\n",
              "    <tr>\n",
              "      <th>0</th>\n",
              "      <td>1</td>\n",
              "      <td>新聞</td>\n",
              "      <td>20</td>\n",
              "      <td>壽山動物園為增進動物飼養福祉及保育工作，特設立「高雄市壽山動物園認養辦法」設立動物認養專戶，...</td>\n",
              "      <td>26</td>\n",
              "    </tr>\n",
              "    <tr>\n",
              "      <th>1</th>\n",
              "      <td>2</td>\n",
              "      <td>新聞</td>\n",
              "      <td>10</td>\n",
              "      <td>高雄翻轉須新政府全面力挺高雄市長陳菊日前在市議會做施政報告時指出，翻轉產業高雄的使命責任，面...</td>\n",
              "      <td>61</td>\n",
              "    </tr>\n",
              "    <tr>\n",
              "      <th>2</th>\n",
              "      <td>3</td>\n",
              "      <td>新聞</td>\n",
              "      <td>1</td>\n",
              "      <td>台塑企業回饋地方藝文活動，週六晚間在高雄市仁武區運動公園登場，明華園歌仔戲團演出逐鹿中原戲碼...</td>\n",
              "      <td>18</td>\n",
              "    </tr>\n",
              "    <tr>\n",
              "      <th>3</th>\n",
              "      <td>4</td>\n",
              "      <td>新聞</td>\n",
              "      <td>3</td>\n",
              "      <td>也談赦扁暗公鳥近來特赦阿扁呼聲不斷，台南與高雄市議會及醫界相繼呼籲馬英九特赦陳水扁。馬是繫鈴...</td>\n",
              "      <td>10</td>\n",
              "    </tr>\n",
              "    <tr>\n",
              "      <th>4</th>\n",
              "      <td>5</td>\n",
              "      <td>新聞</td>\n",
              "      <td>4</td>\n",
              "      <td>高雄道德院在甲仙區有占地三十甲甲仙道場，每季高雄道德院住持三清太乙大宗師翁太明會率出家眾及信...</td>\n",
              "      <td>52</td>\n",
              "    </tr>\n",
              "  </tbody>\n",
              "</table>\n",
              "</div>\n",
              "      <button class=\"colab-df-convert\" onclick=\"convertToInteractive('df-72ecaacb-902a-4ae0-90b7-997613607289')\"\n",
              "              title=\"Convert this dataframe to an interactive table.\"\n",
              "              style=\"display:none;\">\n",
              "        \n",
              "  <svg xmlns=\"http://www.w3.org/2000/svg\" height=\"24px\"viewBox=\"0 0 24 24\"\n",
              "       width=\"24px\">\n",
              "    <path d=\"M0 0h24v24H0V0z\" fill=\"none\"/>\n",
              "    <path d=\"M18.56 5.44l.94 2.06.94-2.06 2.06-.94-2.06-.94-.94-2.06-.94 2.06-2.06.94zm-11 1L8.5 8.5l.94-2.06 2.06-.94-2.06-.94L8.5 2.5l-.94 2.06-2.06.94zm10 10l.94 2.06.94-2.06 2.06-.94-2.06-.94-.94-2.06-.94 2.06-2.06.94z\"/><path d=\"M17.41 7.96l-1.37-1.37c-.4-.4-.92-.59-1.43-.59-.52 0-1.04.2-1.43.59L10.3 9.45l-7.72 7.72c-.78.78-.78 2.05 0 2.83L4 21.41c.39.39.9.59 1.41.59.51 0 1.02-.2 1.41-.59l7.78-7.78 2.81-2.81c.8-.78.8-2.07 0-2.86zM5.41 20L4 18.59l7.72-7.72 1.47 1.35L5.41 20z\"/>\n",
              "  </svg>\n",
              "      </button>\n",
              "      \n",
              "  <style>\n",
              "    .colab-df-container {\n",
              "      display:flex;\n",
              "      flex-wrap:wrap;\n",
              "      gap: 12px;\n",
              "    }\n",
              "\n",
              "    .colab-df-convert {\n",
              "      background-color: #E8F0FE;\n",
              "      border: none;\n",
              "      border-radius: 50%;\n",
              "      cursor: pointer;\n",
              "      display: none;\n",
              "      fill: #1967D2;\n",
              "      height: 32px;\n",
              "      padding: 0 0 0 0;\n",
              "      width: 32px;\n",
              "    }\n",
              "\n",
              "    .colab-df-convert:hover {\n",
              "      background-color: #E2EBFA;\n",
              "      box-shadow: 0px 1px 2px rgba(60, 64, 67, 0.3), 0px 1px 3px 1px rgba(60, 64, 67, 0.15);\n",
              "      fill: #174EA6;\n",
              "    }\n",
              "\n",
              "    [theme=dark] .colab-df-convert {\n",
              "      background-color: #3B4455;\n",
              "      fill: #D2E3FC;\n",
              "    }\n",
              "\n",
              "    [theme=dark] .colab-df-convert:hover {\n",
              "      background-color: #434B5C;\n",
              "      box-shadow: 0px 1px 3px 1px rgba(0, 0, 0, 0.15);\n",
              "      filter: drop-shadow(0px 1px 2px rgba(0, 0, 0, 0.3));\n",
              "      fill: #FFFFFF;\n",
              "    }\n",
              "  </style>\n",
              "\n",
              "      <script>\n",
              "        const buttonEl =\n",
              "          document.querySelector('#df-72ecaacb-902a-4ae0-90b7-997613607289 button.colab-df-convert');\n",
              "        buttonEl.style.display =\n",
              "          google.colab.kernel.accessAllowed ? 'block' : 'none';\n",
              "\n",
              "        async function convertToInteractive(key) {\n",
              "          const element = document.querySelector('#df-72ecaacb-902a-4ae0-90b7-997613607289');\n",
              "          const dataTable =\n",
              "            await google.colab.kernel.invokeFunction('convertToInteractive',\n",
              "                                                     [key], {});\n",
              "          if (!dataTable) return;\n",
              "\n",
              "          const docLinkHtml = 'Like what you see? Visit the ' +\n",
              "            '<a target=\"_blank\" href=https://colab.research.google.com/notebooks/data_table.ipynb>data table notebook</a>'\n",
              "            + ' to learn more about interactive tables.';\n",
              "          element.innerHTML = '';\n",
              "          dataTable['output_type'] = 'display_data';\n",
              "          await google.colab.output.renderOutput(dataTable, element);\n",
              "          const docLink = document.createElement('div');\n",
              "          docLink.innerHTML = docLinkHtml;\n",
              "          element.appendChild(docLink);\n",
              "        }\n",
              "      </script>\n",
              "    </div>\n",
              "  </div>\n",
              "  "
            ]
          },
          "metadata": {},
          "execution_count": 106
        }
      ]
    },
    {
      "cell_type": "code",
      "source": [
        "print(len(df_old))\n",
        "# 移除分類是NAN的資料\n",
        "df_old=df_old.dropna(subset=['分類'])\n",
        "print(len(df_old))\n",
        "df_old['分類'] = df_old['分類'].astype('int64')"
      ],
      "metadata": {
        "colab": {
          "base_uri": "https://localhost:8080/"
        },
        "id": "tLDvCL19cD5I",
        "outputId": "e0c7c848-1ae0-4ca8-8b77-8ef129522893"
      },
      "execution_count": null,
      "outputs": [
        {
          "output_type": "stream",
          "name": "stdout",
          "text": [
            "10144\n",
            "10144\n"
          ]
        }
      ]
    },
    {
      "cell_type": "markdown",
      "source": [
        "# 移除跟data_3000重複的資料"
      ],
      "metadata": {
        "id": "GHz09rhoYK24"
      }
    },
    {
      "cell_type": "code",
      "source": [
        "path_data3k = r\"data/data_3000.csv\"\n",
        "df_data3k = pd.read_csv(path_data3k)\n",
        "df_data3k.columns"
      ],
      "metadata": {
        "id": "Xzqm30TrlObJ",
        "colab": {
          "base_uri": "https://localhost:8080/"
        },
        "outputId": "11255bfb-031e-426f-f335-33df8d19fc7e"
      },
      "execution_count": null,
      "outputs": [
        {
          "output_type": "execute_result",
          "data": {
            "text/plain": [
              "Index(['資料類別', '編號', 'content', 'Unit', '修正後區域標記', '修正後情緒標記', 'subject1',\n",
              "       'subject2', 'subject3', 'subject4', 'subject5', 'reCheckedEmotion',\n",
              "       'reCheckedsubject'],\n",
              "      dtype='object')"
            ]
          },
          "metadata": {},
          "execution_count": 108
        }
      ]
    },
    {
      "cell_type": "code",
      "source": [
        "val_number = df_data3k['編號']"
      ],
      "metadata": {
        "id": "3WbUvXcFlbDC"
      },
      "execution_count": null,
      "outputs": []
    },
    {
      "cell_type": "markdown",
      "source": [
        "## 移除後要重設index(非編號)，否則後面predict時for loop會有問題"
      ],
      "metadata": {
        "id": "owh45o2gYUPg"
      }
    },
    {
      "cell_type": "code",
      "source": [
        "df_old = df_old[~df_old['編號'].isin(val_number)]\n",
        "print(df_old.index)\n",
        "df_old.reset_index(inplace = True)\n",
        "print(df_old.index)"
      ],
      "metadata": {
        "colab": {
          "base_uri": "https://localhost:8080/"
        },
        "id": "8CsqYw2qlZLi",
        "outputId": "78668094-b0b8-4aff-c808-95a30e7a58c4"
      },
      "execution_count": null,
      "outputs": [
        {
          "output_type": "stream",
          "name": "stdout",
          "text": [
            "Int64Index([    0,     1,     2,     3,     6,     7,     8,     9,    10,\n",
            "               11,\n",
            "            ...\n",
            "            10485, 10486, 10487, 10491, 10492, 10493, 10495, 10497, 10498,\n",
            "            10499],\n",
            "           dtype='int64', length=7256)\n",
            "RangeIndex(start=0, stop=7256, step=1)\n"
          ]
        }
      ]
    },
    {
      "cell_type": "markdown",
      "source": [
        "# 檢視資料分布"
      ],
      "metadata": {
        "id": "mGI5uTw05oWv"
      }
    },
    {
      "cell_type": "code",
      "source": [
        "def getFreqPair(df, classes, class_len=32):\n",
        "  \"\"\"\n",
        "  功能：回傳紀錄每個class出現次數的字典，\n",
        "  key是類別，values是該類別的出現次數。\n",
        "  classes ：類別欄位名稱\n",
        "  class_len：有幾種類別\n",
        "  \"\"\"\n",
        "  class_len = len(set(df[classes]))\n",
        "  res = dict()\n",
        "  # 計算類別出現次數\n",
        "  df['freq'] = df.groupby(classes)[classes].transform('count')\n",
        "  for i in range(len(df)):\n",
        "    if(len(res) > class_len):\n",
        "      break;\n",
        "    key = df[classes].iloc[i]\n",
        "    if(key not in res):\n",
        "      res[key] = df['freq'].iloc[i]\n",
        "  dict(sorted(res.items()))\n",
        "  return res"
      ],
      "metadata": {
        "id": "_vcLaZQ1mQ25"
      },
      "execution_count": null,
      "outputs": []
    },
    {
      "cell_type": "code",
      "source": [
        "df_data3k['freq'] = df_data3k.groupby('reCheckedsubject')['reCheckedsubject'].transform('count')\n",
        "dict_freq_pair = getFreqPair(df_data3k, 'reCheckedsubject')\n",
        "names = list(dict_freq_pair.keys())\n",
        "values = list(dict_freq_pair.values())\n",
        "\n",
        "plt.figure(figsize=(12,4),dpi=100,linewidth = 1)\n",
        "plt.xlabel(\"Classes\", fontsize=15, labelpad = 15)\n",
        "plt.ylabel(\"Counts\", fontsize=15, labelpad = 20)\n",
        "plt.bar(names, values, tick_label=names)\n",
        "#plt.bar(range(len(dict_freq_pair)), values, tick_label=names)\n",
        "#pd.DataFrame(df_freq_pair.items()).plot.bar(figsize=(15,10))"
      ],
      "metadata": {
        "id": "CQuReQqsmSDJ",
        "colab": {
          "base_uri": "https://localhost:8080/",
          "height": 425
        },
        "outputId": "d3dbef3d-ed67-411e-cdbd-79a348972d53"
      },
      "execution_count": null,
      "outputs": [
        {
          "output_type": "execute_result",
          "data": {
            "text/plain": [
              "<BarContainer object of 32 artists>"
            ]
          },
          "metadata": {},
          "execution_count": 16
        },
        {
          "output_type": "display_data",
          "data": {
            "text/plain": [
              "<Figure size 1200x400 with 1 Axes>"
            ],
            "image/png": "[encoded data removed]"
          },
          "metadata": {
            "needs_background": "light"
          }
        }
      ]
    },
    {
      "cell_type": "code",
      "source": [
        "df_old['freq'] = df_old.groupby('分類')['分類'].transform('count')\n",
        "dict_freq_pair = getFreqPair(df_old, '分類', 'freq')\n",
        "names = list(dict_freq_pair.keys())\n",
        "values = list(dict_freq_pair.values())\n",
        "\n",
        "plt.figure(figsize=(12,4),dpi=100,linewidth = 1)\n",
        "plt.xlabel(\"Classes\", fontsize=15, labelpad = 15)\n",
        "plt.ylabel(\"Counts\", fontsize=15, labelpad = 20)\n",
        "plt.bar(names, values, tick_label=names)"
      ],
      "metadata": {
        "colab": {
          "base_uri": "https://localhost:8080/",
          "height": 420
        },
        "id": "Nvh4iQwqmrvb",
        "outputId": "048da5d8-0b2f-4f1e-cf0a-8c0b0a8de200"
      },
      "execution_count": null,
      "outputs": [
        {
          "output_type": "execute_result",
          "data": {
            "text/plain": [
              "<BarContainer object of 32 artists>"
            ]
          },
          "metadata": {},
          "execution_count": 17
        },
        {
          "output_type": "display_data",
          "data": {
            "text/plain": [
              "<Figure size 1200x400 with 1 Axes>"
            ],
            "image/png": "[encoded data removed]"
          },
          "metadata": {
            "needs_background": "light"
          }
        }
      ]
    },
    {
      "cell_type": "markdown",
      "source": [
        "# (optional)抽一部分資料出來測試"
      ],
      "metadata": {
        "id": "uYFoEDiBI_OU"
      }
    },
    {
      "cell_type": "code",
      "source": [
        "df_test = df_old.sample(int(len(df_old)*0.1), ignore_index = True)\n",
        "len(df_test)"
      ],
      "metadata": {
        "colab": {
          "base_uri": "https://localhost:8080/"
        },
        "id": "t7iVTT1eI-4u",
        "outputId": "627e14a0-d531-4a1d-9f3c-52f5cc661bcf"
      },
      "execution_count": null,
      "outputs": [
        {
          "output_type": "execute_result",
          "data": {
            "text/plain": [
              "725"
            ]
          },
          "metadata": {},
          "execution_count": 100
        }
      ]
    },
    {
      "cell_type": "markdown",
      "source": [
        "# 把資料放到 df_test 中\n",
        "## 前面步驟不論是抽樣還是整檔，後續都用 df_test 以達到一般化"
      ],
      "metadata": {
        "id": "J2Mm2AyERBEM"
      }
    },
    {
      "cell_type": "code",
      "source": [
        "df_test = df_old"
      ],
      "metadata": {
        "id": "2Bh4ROw7hJM5"
      },
      "execution_count": null,
      "outputs": []
    },
    {
      "cell_type": "code",
      "source": [
        "\n",
        "#df = data.sample(frac=1).iloc[0]\n",
        "x = df_test['內容']\n",
        "y = df_test['分類']\n",
        "len(x),len(y)"
      ],
      "metadata": {
        "id": "qomu7VusF8j5",
        "colab": {
          "base_uri": "https://localhost:8080/"
        },
        "outputId": "1475962d-d19a-428c-da82-645336198a11"
      },
      "execution_count": null,
      "outputs": [
        {
          "output_type": "execute_result",
          "data": {
            "text/plain": [
              "(7256, 7256)"
            ]
          },
          "metadata": {},
          "execution_count": 112
        }
      ]
    },
    {
      "cell_type": "markdown",
      "source": [
        "# 載入模型"
      ],
      "metadata": {
        "id": "cqJ6Fq6ukjFu"
      }
    },
    {
      "cell_type": "code",
      "execution_count": null,
      "metadata": {
        "id": "xebQfl4cj71T"
      },
      "outputs": [],
      "source": [
        "from torch import nn\n",
        "\n",
        "class OurModel(nn.Module):\n",
        "  def __init__(self, ori_model, num_labels):\n",
        "    super(OurModel, self).__init__()\n",
        "    self.num_labels = num_labels\n",
        "\n",
        "    self.model = model = ori_model.to(device)\n",
        "    self.dropout = nn.Dropout(0.1).to(device)\n",
        "    self.classifier = nn.Linear(768, num_labels).to(device)\n",
        "\n",
        "  def forward(self, input_ids=None, attention_mask=None, labels=None):\n",
        "    outputs = self.model(input_ids=input_ids, attention_mask=attention_mask)\n",
        "    layers = self.dropout(outputs[0]).to(device)\n",
        "    logits = self.classifier(layers[:, 0, :].view(-1, 768)).to(device)\n",
        "\n",
        "    loss = None\n",
        "    if labels is not None:\n",
        "      loss_fct = nn.CrossEntropyLoss().to(device)\n",
        "      loss = loss_fct(logits.view(-1, self.num_labels), labels.view(-1)).to(device)\n",
        "    return TokenClassifierOutput(loss=loss, logits=logits, hidden_states=outputs.hidden_states,attentions=outputs.attentions)\n"
      ]
    },
    {
      "cell_type": "code",
      "source": [
        "import torch\n",
        "from transformers.modeling_outputs import TokenClassifierOutput\n",
        "from transformers import AutoModel, AutoTokenizer"
      ],
      "metadata": {
        "id": "OWL9eC-gkL6A"
      },
      "execution_count": null,
      "outputs": []
    },
    {
      "cell_type": "markdown",
      "source": [
        "## 載入pretrained model"
      ],
      "metadata": {
        "id": "hhINzk-0RZq8"
      }
    },
    {
      "cell_type": "code",
      "source": [
        "NAME = \"uer/roberta-base-finetuned-jd-full-chinese\"\n",
        "model = OurModel(AutoModel.from_pretrained(NAME), 32).to(device)"
      ],
      "metadata": {
        "id": "DRALzRWRkRU8",
        "colab": {
          "base_uri": "https://localhost:8080/"
        },
        "outputId": "c7edb434-6b52-4003-cef0-7a63028e9f52"
      },
      "execution_count": null,
      "outputs": [
        {
          "output_type": "stream",
          "name": "stderr",
          "text": [
            "Some weights of the model checkpoint at uer/roberta-base-finetuned-jd-full-chinese were not used when initializing BertModel: ['classifier.bias', 'classifier.weight']\n",
            "- This IS expected if you are initializing BertModel from the checkpoint of a model trained on another task or with another architecture (e.g. initializing a BertForSequenceClassification model from a BertForPreTraining model).\n",
            "- This IS NOT expected if you are initializing BertModel from the checkpoint of a model that you expect to be exactly identical (initializing a BertForSequenceClassification model from a BertForSequenceClassification model).\n"
          ]
        }
      ]
    },
    {
      "cell_type": "markdown",
      "source": [
        "## 載入fine-tuned layer "
      ],
      "metadata": {
        "id": "1w6h_rSERgCb"
      }
    },
    {
      "cell_type": "code",
      "source": [
        "#checkpoint = torch.load('model/roberta-base-2020CisDep-10501-20220713.zip', map_location='cpu')\n",
        "checkpoint = torch.load('model/roberta-base-2020CisDep-10501-20220713.zip', map_location= device)\n",
        "model.load_state_dict(checkpoint['model_state_dict'])\n",
        "tokenizer = AutoTokenizer.from_pretrained(NAME)"
      ],
      "metadata": {
        "id": "_iHWGYufFhuR"
      },
      "execution_count": null,
      "outputs": []
    },
    {
      "cell_type": "markdown",
      "source": [
        "# 預測"
      ],
      "metadata": {
        "id": "7HSIi8S2kn0s"
      }
    },
    {
      "cell_type": "markdown",
      "source": [
        "## 單筆預測"
      ],
      "metadata": {
        "id": "zBoXytRwIcYA"
      }
    },
    {
      "cell_type": "code",
      "source": [
        "import random"
      ],
      "metadata": {
        "id": "7PtyWabdTivN"
      },
      "execution_count": null,
      "outputs": []
    },
    {
      "cell_type": "code",
      "source": [
        "data_index = random.randint(0,len(df_test))\n",
        "\n",
        "inputs = tokenizer(x[data_index], max_length=512, return_tensors='pt')\n",
        "#logits = model(inputs['input_ids'], inputs['attention_mask'])\n",
        "logits = model(inputs['input_ids'].cuda(), inputs['attention_mask'].cuda())\n",
        "\n",
        "predition_Y = torch.argmax(logits.logits[0].cpu()).tolist()\n",
        "print(f\"實際標籤: {y[data_index]}\")\n",
        "print(f\"預測標籤: {predition_Y}\")\n",
        "\n",
        "x[data_index]"
      ],
      "metadata": {
        "id": "1jzqBkjnkUZ_",
        "colab": {
          "base_uri": "https://localhost:8080/",
          "height": 268
        },
        "outputId": "9309dace-68cb-4b2a-fc16-11d557cbf9c1"
      },
      "execution_count": null,
      "outputs": [
        {
          "output_type": "stream",
          "name": "stderr",
          "text": [
            "Truncation was not explicitly activated but `max_length` is provided a specific value, please use `truncation=True` to explicitly truncate examples to max length. Defaulting to 'longest_first' truncation strategy. If you encode pairs of sequences (GLUE-style) with the tokenizer you can select this strategy more precisely by providing a specific strategy to `truncation`.\n"
          ]
        },
        {
          "output_type": "stream",
          "name": "stdout",
          "text": [
            "實際標籤: 24\n",
            "預測標籤: 16\n"
          ]
        },
        {
          "output_type": "execute_result",
          "data": {
            "text/plain": [
              "'校園的問題非常多，我們來講校園的毒品，其實校園毒品越來越嚴重。局長，我們一起來看一個數據，這是從96年到105年的資料，你看！連國小生都會吸毒，而且這是有通報的案例，有通報的就這麼多了，沒通報的，聽校長說還更多。為什麼？因為學校不敢通報，因為通報會影響校譽，所以通常學校不敢去通報。你看這些通報的案例都是被警方查獲的，才有這個紀錄，局長，我想請問，對於校園毒品越來越嚴重的例子，你要怎麼去防範？或者你有做哪些事情？主席（黃議員柏霖）：局長請答復。教育局王局長進焱：毒品的問題，高雄市很嚴格在執行，所以現在人數有下降，但剛剛提到國小目前沒有。我們做的方式目前有二個管道，一個是學校先觀察到、先輔導，或者有特殊的案例，我們跟警察局有秘密的管道在聯繫，警察局如果有發現學生吸毒，也會跟我們合作，會做尿液篩檢。黃議員淑美：你們只有做尿液篩檢嗎？教育局王局長進焱：當然是事先宣導讓大家知道，如果看到高危險群的孩子，我們就會做尿液篩檢，之後再做輔導。第二個，我們也鼓勵…。黃議員淑美：全部的小朋友都要做尿液篩檢嗎？教育局王局長進焱：沒有，我們只針對特定人物，放假後開學，我們看這個孩子好像眼神或什麼比較特別的。第二個，對於那些平常就中輟的學生都列入觀察，包括我們一些司機，對於校車也需要做防範。至於篩檢部分，只要學校老師認為他可能要做尿液篩檢，老師就可以建議，我們在學校…。黃議員淑美：所以是由老師來通報嗎？教育局王局長進焱：不是通報。我們不讓學校老師負責，而是讓校長來做高關懷的衡量；對的話，學校就做機制處理。所以全部都由校長來做衡量，校長跟警察局是聯繫的。這個部分還有一個方式…。黃議員淑美：你講的都是一套，但是我覺得這有困難度。你要知道這個小孩是否有吸毒，我覺得這有困難度。你說這個工作是由校長在察看，但是我覺得校長沒有辦法去看哪個孩子有這樣的問題，不可能。教育局王局長進焱：所以我剛才說整個機制是這樣，我們不要老師和行政人員觀察完以後還要來負責。觀察完以後，讓校長和行政院跟警察聯絡，這樣比較密切，才不會讓老師在看的時候很費神，用集體的力量跟警察合作才有辦法。在學校裡面，當然要宣導拒絕讓它進來。平常的校外會，教育局的軍訓室有組一個校外會，也是在外面巡視並觀察孩子的…。黃議員淑美：局長，你剛才說我們目前沒有案例，你看國中生105年就有三百多個，每年都有，哪有說今年沒有，你告訴我106年有多少個案例？有人知道嗎？承辦人員，106年有幾個案例？教育局軍訓室韓主任必誠：謝謝議員的關心，有關國小生的防毒，在高雄市我可以很負責任的講，我跟警察局核對過沒有吸毒的孩子。106年吸毒被我們管制的有64人，其中國中生22個、高中職15個、高中職進修學校27個。黃議員淑美：你請坐，你所講的都是二十幾個，這是有通報的，沒有通報的更多。我就聽一位家長說，現在毒品都做成糖果類、飲料類，所以小孩子就誤食了。他說，他的孩子不是想要吃這個，但是有一天裡面的孩子拿一塊糖果給他吃，這個小孩可能被收買了，他就拿一塊糖果給他吃並說：這個糖果很好吃，你先吃吃看。他第一天吃了這塊糖後，覺得整個人很放鬆、很快樂。他第二天又跟這個小朋友再要一塊糖果吃，但是第三天這個小朋友跟他說，你要用買的。你 知道毒品有多便宜、k 他命有多便宜？50元買得到，對吧？你看承辦人員都點頭了，50元買得到，你看便宜吧！小孩子都買得起。局長，我聽了都好害怕，這是一個母親跟我講的案例，我聽了好難過，我們的校園竟然是這樣子。這位母親又跟我說，這個孩子說第三天要花錢而且是50元。局長，我請問你，針對這方面，你有沒有辦法去防範和遏阻？主席（黃議員柏霖）：局長，請答復。教育局王局長進焱：謝謝。所以這個宣導非常重要，我們做了一個宣導專線卡片，就是防範一些混合的。因為我們沒有辦法到各個家庭，家長如果知道的話，他有懷疑就立刻跟老師或者相關人員反映，我們來觀察這個孩子，這樣比較澈底、比較有辦法。黃議員淑美：希望你們跟少年隊合作，我聽少年隊說有很多案例，不只你們剛剛講的二十幾個。我從少年隊了解的數字是更多的，所以我覺得你應該重視這些事情，而且校長和老師都要受這樣的訓練，知道毒品長什麼樣子，不要讓小孩子誤食了。其實孩子不是真的要吃，真的是誤食這些東西，讓他就是無法自拔，我覺得要好好去思考這個問題。'"
            ],
            "application/vnd.google.colaboratory.intrinsic+json": {
              "type": "string"
            }
          },
          "metadata": {},
          "execution_count": 117
        }
      ]
    },
    {
      "cell_type": "markdown",
      "source": [
        "## 整批預設"
      ],
      "metadata": {
        "id": "a4rS1x-fIhdC"
      }
    },
    {
      "cell_type": "code",
      "source": [
        "# list_pred_y:存放預測結果\n",
        "list_pred_y = []\n",
        "\n",
        "# d = {'col1': [1, 2], 'col2': [3, 4]}\n",
        "# df = pd.DataFrame(data=d)"
      ],
      "metadata": {
        "id": "dqlADUKCQV0S"
      },
      "execution_count": null,
      "outputs": []
    },
    {
      "cell_type": "code",
      "source": [
        "x.index,list_pred_y,len(y)"
      ],
      "metadata": {
        "colab": {
          "base_uri": "https://localhost:8080/"
        },
        "id": "23aoXb_7XomB",
        "outputId": "4aa068f5-4bed-4fa5-8816-2897298db354"
      },
      "execution_count": null,
      "outputs": [
        {
          "output_type": "execute_result",
          "data": {
            "text/plain": [
              "(RangeIndex(start=0, stop=7256, step=1), [], 7256)"
            ]
          },
          "metadata": {},
          "execution_count": 119
        }
      ]
    },
    {
      "cell_type": "code",
      "source": [
        "device = 'cuda' if torch.cuda.is_available() else 'cpu'\n",
        "device"
      ],
      "metadata": {
        "colab": {
          "base_uri": "https://localhost:8080/",
          "height": 37
        },
        "id": "Ff7taHWdlbOK",
        "outputId": "7f1c08fd-51f9-480a-abe2-48c78669082a"
      },
      "execution_count": null,
      "outputs": [
        {
          "output_type": "execute_result",
          "data": {
            "text/plain": [
              "'cuda'"
            ],
            "application/vnd.google.colaboratory.intrinsic+json": {
              "type": "string"
            }
          },
          "metadata": {},
          "execution_count": 120
        }
      ]
    },
    {
      "cell_type": "code",
      "source": [
        "import time\n",
        "start = time.time()\n",
        "\n",
        "for i in range(len(x)):\n",
        "  inputs = tokenizer(x[i], max_length=512, return_tensors='pt')\n",
        "  logits = model(inputs['input_ids'].cuda(), inputs['attention_mask'].cuda())\n",
        "  predition_Y = torch.argmax(logits.logits[0].cpu()).tolist()\n",
        "  list_pred_y.append(predition_Y)\n",
        "  if len(list_pred_y) % 300 == 0:\n",
        "    print(len(list_pred_y))\n",
        "    print(f\"實際標籤: {y[i]}\")\n",
        "    print(f\"預測標籤: {predition_Y}\")\n",
        "\n",
        "end = time.time()\n",
        "cost_time = end - start\n",
        "print('predicting time', cost_time)"
      ],
      "metadata": {
        "id": "XYxCipyXQd7I",
        "colab": {
          "base_uri": "https://localhost:8080/"
        },
        "outputId": "39abd466-1393-4201-a675-fc5588ff4328"
      },
      "execution_count": null,
      "outputs": [
        {
          "output_type": "stream",
          "name": "stdout",
          "text": [
            "300\n",
            "實際標籤: 14\n",
            "預測標籤: 14\n",
            "600\n",
            "實際標籤: 3\n",
            "預測標籤: 29\n",
            "900\n",
            "實際標籤: 28\n",
            "預測標籤: 27\n",
            "1200\n",
            "實際標籤: 31\n",
            "預測標籤: 31\n",
            "1500\n",
            "實際標籤: 29\n",
            "預測標籤: 29\n",
            "1800\n",
            "實際標籤: 29\n",
            "預測標籤: 29\n",
            "2100\n",
            "實際標籤: 22\n",
            "預測標籤: 22\n",
            "2400\n",
            "實際標籤: 1\n",
            "預測標籤: 1\n",
            "2700\n",
            "實際標籤: 29\n",
            "預測標籤: 29\n",
            "3000\n",
            "實際標籤: 23\n",
            "預測標籤: 23\n",
            "3300\n",
            "實際標籤: 19\n",
            "預測標籤: 19\n",
            "3600\n",
            "實際標籤: 17\n",
            "預測標籤: 17\n",
            "3900\n",
            "實際標籤: 2\n",
            "預測標籤: 2\n",
            "4200\n",
            "實際標籤: 23\n",
            "預測標籤: 23\n",
            "4500\n",
            "實際標籤: 13\n",
            "預測標籤: 13\n",
            "4800\n",
            "實際標籤: 2\n",
            "預測標籤: 2\n",
            "5100\n",
            "實際標籤: 19\n",
            "預測標籤: 19\n",
            "5400\n",
            "實際標籤: 19\n",
            "預測標籤: 22\n",
            "5700\n",
            "實際標籤: 6\n",
            "預測標籤: 6\n",
            "6000\n",
            "實際標籤: 4\n",
            "預測標籤: 4\n",
            "6300\n",
            "實際標籤: 23\n",
            "預測標籤: 29\n",
            "6600\n",
            "實際標籤: 5\n",
            "預測標籤: 5\n",
            "6900\n",
            "實際標籤: 14\n",
            "預測標籤: 14\n",
            "7200\n",
            "實際標籤: 26\n",
            "預測標籤: 26\n",
            "predicting time 161.0533835887909\n"
          ]
        }
      ]
    },
    {
      "cell_type": "code",
      "source": [
        "result = pd.DataFrame({'content': x, 'pred_y':list_pred_y, 'true_y':y})\n",
        "result.columns,result.head(3)"
      ],
      "metadata": {
        "id": "I9zJBHxyRfWb",
        "colab": {
          "base_uri": "https://localhost:8080/"
        },
        "outputId": "eeb8ed53-8c0e-4b44-e6f3-2e1019313c3c"
      },
      "execution_count": null,
      "outputs": [
        {
          "output_type": "execute_result",
          "data": {
            "text/plain": [
              "(Index(['content', 'pred_y', 'true_y'], dtype='object'),\n",
              "                                              content  pred_y  true_y\n",
              " 0  壽山動物園為增進動物飼養福祉及保育工作，特設立「高雄市壽山動物園認養辦法」設立動物認養專戶，...      20      20\n",
              " 1  高雄翻轉須新政府全面力挺高雄市長陳菊日前在市議會做施政報告時指出，翻轉產業高雄的使命責任，面...      10      10\n",
              " 2  台塑企業回饋地方藝文活動，週六晚間在高雄市仁武區運動公園登場，明華園歌仔戲團演出逐鹿中原戲碼...       1       1)"
            ]
          },
          "metadata": {},
          "execution_count": 122
        }
      ]
    },
    {
      "cell_type": "code",
      "source": [
        "result.shape"
      ],
      "metadata": {
        "colab": {
          "base_uri": "https://localhost:8080/"
        },
        "id": "886awVyXsUcT",
        "outputId": "3ecda571-991e-4fb6-9b5b-a24fbbb9acb1"
      },
      "execution_count": null,
      "outputs": [
        {
          "output_type": "execute_result",
          "data": {
            "text/plain": [
              "(7256, 3)"
            ]
          },
          "metadata": {},
          "execution_count": 124
        }
      ]
    },
    {
      "cell_type": "code",
      "source": [
        "from sklearn.metrics import accuracy_score\n",
        "# accuracy_score(y_true, y_pred)\n",
        "acc_score =  accuracy_score(result['true_y'], result['pred_y'])\n",
        "acc_score"
      ],
      "metadata": {
        "id": "y-TPg3-hRfk1",
        "colab": {
          "base_uri": "https://localhost:8080/"
        },
        "outputId": "f50a398b-5462-4144-d6a2-630c46e8d805"
      },
      "execution_count": null,
      "outputs": [
        {
          "output_type": "execute_result",
          "data": {
            "text/plain": [
              "0.9240628445424476"
            ]
          },
          "metadata": {},
          "execution_count": 123
        }
      ]
    },
    {
      "cell_type": "markdown",
      "source": [
        "# (optional)只輸出預測錯誤的資料"
      ],
      "metadata": {
        "id": "Km9CJj4SYszk"
      }
    },
    {
      "cell_type": "code",
      "source": [
        "print(len(result))\n",
        "result = result[result['pred_y'] != result['true_y']]\n",
        "print(len(result))"
      ],
      "metadata": {
        "colab": {
          "base_uri": "https://localhost:8080/"
        },
        "id": "frYLbEYGVcsW",
        "outputId": "44fa29e6-68d4-4260-a5a1-cd608e4e2be6"
      },
      "execution_count": null,
      "outputs": [
        {
          "output_type": "stream",
          "name": "stdout",
          "text": [
            "725\n",
            "221\n"
          ]
        }
      ]
    },
    {
      "cell_type": "markdown",
      "source": [
        "# 將結果存到 /result"
      ],
      "metadata": {
        "id": "ijLkhgWkYzYz"
      }
    },
    {
      "cell_type": "code",
      "source": [
        "import numpy as np\n",
        "acc_score = np.round(acc_score*100,2)\n",
        "acc_score"
      ],
      "metadata": {
        "id": "AwJrjoGzZOj1",
        "colab": {
          "base_uri": "https://localhost:8080/"
        },
        "outputId": "e57606c8-d10e-4426-939e-df5a618bf1c6"
      },
      "execution_count": null,
      "outputs": [
        {
          "output_type": "execute_result",
          "data": {
            "text/plain": [
              "92.41"
            ]
          },
          "metadata": {},
          "execution_count": 56
        }
      ]
    },
    {
      "cell_type": "code",
      "source": [
        "result.to_csv(f'result/roberta-base-TrainByOld-PredOld-acc{acc_score}-20220713.csv')"
      ],
      "metadata": {
        "id": "owxmAn52VcxE"
      },
      "execution_count": null,
      "outputs": []
    },
    {
      "cell_type": "markdown",
      "source": [
        "# 檢查混淆矩陣"
      ],
      "metadata": {
        "id": "7U9zY66wWySa"
      }
    },
    {
      "cell_type": "markdown",
      "source": [
        "https://medium.com/analytics-vidhya/multi-class-ml-models-evaluation-103c9fdadb41"
      ],
      "metadata": {
        "id": "2bgRKYaHYpnU"
      }
    },
    {
      "cell_type": "code",
      "source": [
        "from sklearn.metrics import confusion_matrix\n",
        "from sklearn.metrics import classification_report\n",
        "import matplotlib.pyplot as plt\n",
        "%matplotlib inline"
      ],
      "metadata": {
        "id": "MKyD2UCqLE2W"
      },
      "execution_count": null,
      "outputs": []
    },
    {
      "cell_type": "code",
      "source": [
        "#labels = list(test_df['classes'].unique()) \n",
        "labels = list(y.unique())\n",
        "print(classification_report(y, list_pred_y)) #classification report from sklearn\n",
        "cnf_matrix = confusion_matrix(y, list_pred_y, labels=labels)\n"
      ],
      "metadata": {
        "id": "Glly-teEYnSS",
        "colab": {
          "base_uri": "https://localhost:8080/"
        },
        "outputId": "4a13b8be-7d6b-4cbd-8855-febd4ae3816e"
      },
      "execution_count": null,
      "outputs": [
        {
          "output_type": "stream",
          "name": "stdout",
          "text": [
            "              precision    recall  f1-score   support\n",
            "\n",
            "           0       0.96      0.86      0.90       472\n",
            "           1       0.92      0.97      0.94       207\n",
            "           2       0.96      0.97      0.97       286\n",
            "           3       0.92      0.97      0.95       126\n",
            "           4       0.92      0.87      0.90       337\n",
            "           5       0.93      0.93      0.93       647\n",
            "           6       0.94      0.88      0.91       320\n",
            "           7       1.00      1.00      1.00        15\n",
            "           8       0.97      0.97      0.97        31\n",
            "           9       0.95      0.93      0.94        94\n",
            "          10       0.94      0.79      0.86       258\n",
            "          11       0.93      0.94      0.94        88\n",
            "          12       0.87      1.00      0.93       120\n",
            "          13       0.85      1.00      0.92        70\n",
            "          14       0.97      0.91      0.94       311\n",
            "          15       0.85      0.87      0.86        63\n",
            "          16       0.88      0.97      0.92       361\n",
            "          17       0.81      0.91      0.86       398\n",
            "          18       0.97      0.97      0.97       118\n",
            "          19       0.93      0.91      0.92       463\n",
            "          20       0.89      0.98      0.93       222\n",
            "          21       0.97      0.97      0.97        36\n",
            "          22       0.89      0.97      0.93       300\n",
            "          23       0.92      0.96      0.94       307\n",
            "          24       0.95      0.97      0.96       217\n",
            "          25       0.96      0.98      0.97       123\n",
            "          26       0.90      0.93      0.92       285\n",
            "          27       0.96      0.96      0.96       138\n",
            "          28       0.96      0.83      0.89        59\n",
            "          29       0.97      0.96      0.97       632\n",
            "          30       1.00      1.00      1.00        26\n",
            "          31       1.00      0.66      0.79       126\n",
            "\n",
            "    accuracy                           0.92      7256\n",
            "   macro avg       0.93      0.93      0.93      7256\n",
            "weighted avg       0.93      0.92      0.92      7256\n",
            "\n"
          ]
        }
      ]
    },
    {
      "cell_type": "code",
      "source": [
        "\n",
        "plt.imshow(cnf_matrix, cmap=plt.cm.Blues, interpolation='nearest', aspect='auto') #plot confusion matrix grid\n",
        "threshold = cnf_matrix.max() / 2 #threshold to define text color\n",
        "for i in range(cnf_matrix.shape[0]): #print text in grid\n",
        "    for j in range(cnf_matrix.shape[1]): \n",
        "        plt.text(j, i, cnf_matrix[i,j], color=\"w\" if cnf_matrix[i,j] > threshold else 'black')\n",
        "tick_marks = np.arange(len(labels)) #define labeling spacing based on number of classes\n",
        "plt.xticks(tick_marks, labels, rotation=45)\n",
        "plt.yticks(tick_marks, labels)\n",
        "plt.ylabel('True label')\n",
        "plt.xlabel('Predicted label')\n",
        "plt.colorbar()\n",
        "plt.tight_layout()"
      ],
      "metadata": {
        "colab": {
          "base_uri": "https://localhost:8080/",
          "height": 297
        },
        "id": "4JgTs11gY4c7",
        "outputId": "c6bd9d22-e05b-4f00-89af-21c485ae5839"
      },
      "execution_count": null,
      "outputs": [
        {
          "output_type": "display_data",
          "data": {
            "text/plain": [
              "<Figure size 432x288 with 2 Axes>"
            ],
            "image/png": "[encoded data removed]"
          },
          "metadata": {
            "needs_background": "light"
          }
        }
      ]
    },
    {
      "cell_type": "markdown",
      "source": [
        "# 如有存predict,true資料，可從檔案讀出資料計算accuracy"
      ],
      "metadata": {
        "id": "WSBFidCXW8_I"
      }
    },
    {
      "cell_type": "code",
      "source": [
        "path_all = 'result/roberta-base-TrainByOld-PredOld-acc92.41-20220713.csv'\n",
        "df_all_acc = pd.read_csv(path,index_col=0)\n",
        "df_all_acc.head(3)"
      ],
      "metadata": {
        "id": "9MgNOQkEZBGp",
        "colab": {
          "base_uri": "https://localhost:8080/",
          "height": 143
        },
        "outputId": "6d78bc2c-3b09-4b19-de8d-2d4393b109c0"
      },
      "execution_count": null,
      "outputs": [
        {
          "output_type": "execute_result",
          "data": {
            "text/plain": [
              "                                             content  pred_y  true_y\n",
              "0  壽山動物園為增進動物飼養福祉及保育工作，特設立「高雄市壽山動物園認養辦法」設立動物認養專戶，...      20      20\n",
              "1  高雄翻轉須新政府全面力挺高雄市長陳菊日前在市議會做施政報告時指出，翻轉產業高雄的使命責任，面...      10      10\n",
              "2  台塑企業回饋地方藝文活動，週六晚間在高雄市仁武區運動公園登場，明華園歌仔戲團演出逐鹿中原戲碼...       1       1"
            ],
            "text/html": [
              "\n",
              "  <div id=\"df-3080c7cb-e414-4ff6-8a4c-ed079fad6d11\">\n",
              "    <div class=\"colab-df-container\">\n",
              "      <div>\n",
              "<style scoped>\n",
              "    .dataframe tbody tr th:only-of-type {\n",
              "        vertical-align: middle;\n",
              "    }\n",
              "\n",
              "    .dataframe tbody tr th {\n",
              "        vertical-align: top;\n",
              "    }\n",
              "\n",
              "    .dataframe thead th {\n",
              "        text-align: right;\n",
              "    }\n",
              "</style>\n",
              "<table border=\"1\" class=\"dataframe\">\n",
              "  <thead>\n",
              "    <tr style=\"text-align: right;\">\n",
              "      <th></th>\n",
              "      <th>content</th>\n",
              "      <th>pred_y</th>\n",
              "      <th>true_y</th>\n",
              "    </tr>\n",
              "  </thead>\n",
              "  <tbody>\n",
              "    <tr>\n",
              "      <th>0</th>\n",
              "      <td>壽山動物園為增進動物飼養福祉及保育工作，特設立「高雄市壽山動物園認養辦法」設立動物認養專戶，...</td>\n",
              "      <td>20</td>\n",
              "      <td>20</td>\n",
              "    </tr>\n",
              "    <tr>\n",
              "      <th>1</th>\n",
              "      <td>高雄翻轉須新政府全面力挺高雄市長陳菊日前在市議會做施政報告時指出，翻轉產業高雄的使命責任，面...</td>\n",
              "      <td>10</td>\n",
              "      <td>10</td>\n",
              "    </tr>\n",
              "    <tr>\n",
              "      <th>2</th>\n",
              "      <td>台塑企業回饋地方藝文活動，週六晚間在高雄市仁武區運動公園登場，明華園歌仔戲團演出逐鹿中原戲碼...</td>\n",
              "      <td>1</td>\n",
              "      <td>1</td>\n",
              "    </tr>\n",
              "  </tbody>\n",
              "</table>\n",
              "</div>\n",
              "      <button class=\"colab-df-convert\" onclick=\"convertToInteractive('df-3080c7cb-e414-4ff6-8a4c-ed079fad6d11')\"\n",
              "              title=\"Convert this dataframe to an interactive table.\"\n",
              "              style=\"display:none;\">\n",
              "        \n",
              "  <svg xmlns=\"http://www.w3.org/2000/svg\" height=\"24px\"viewBox=\"0 0 24 24\"\n",
              "       width=\"24px\">\n",
              "    <path d=\"M0 0h24v24H0V0z\" fill=\"none\"/>\n",
              "    <path d=\"M18.56 5.44l.94 2.06.94-2.06 2.06-.94-2.06-.94-.94-2.06-.94 2.06-2.06.94zm-11 1L8.5 8.5l.94-2.06 2.06-.94-2.06-.94L8.5 2.5l-.94 2.06-2.06.94zm10 10l.94 2.06.94-2.06 2.06-.94-2.06-.94-.94-2.06-.94 2.06-2.06.94z\"/><path d=\"M17.41 7.96l-1.37-1.37c-.4-.4-.92-.59-1.43-.59-.52 0-1.04.2-1.43.59L10.3 9.45l-7.72 7.72c-.78.78-.78 2.05 0 2.83L4 21.41c.39.39.9.59 1.41.59.51 0 1.02-.2 1.41-.59l7.78-7.78 2.81-2.81c.8-.78.8-2.07 0-2.86zM5.41 20L4 18.59l7.72-7.72 1.47 1.35L5.41 20z\"/>\n",
              "  </svg>\n",
              "      </button>\n",
              "      \n",
              "  <style>\n",
              "    .colab-df-container {\n",
              "      display:flex;\n",
              "      flex-wrap:wrap;\n",
              "      gap: 12px;\n",
              "    }\n",
              "\n",
              "    .colab-df-convert {\n",
              "      background-color: #E8F0FE;\n",
              "      border: none;\n",
              "      border-radius: 50%;\n",
              "      cursor: pointer;\n",
              "      display: none;\n",
              "      fill: #1967D2;\n",
              "      height: 32px;\n",
              "      padding: 0 0 0 0;\n",
              "      width: 32px;\n",
              "    }\n",
              "\n",
              "    .colab-df-convert:hover {\n",
              "      background-color: #E2EBFA;\n",
              "      box-shadow: 0px 1px 2px rgba(60, 64, 67, 0.3), 0px 1px 3px 1px rgba(60, 64, 67, 0.15);\n",
              "      fill: #174EA6;\n",
              "    }\n",
              "\n",
              "    [theme=dark] .colab-df-convert {\n",
              "      background-color: #3B4455;\n",
              "      fill: #D2E3FC;\n",
              "    }\n",
              "\n",
              "    [theme=dark] .colab-df-convert:hover {\n",
              "      background-color: #434B5C;\n",
              "      box-shadow: 0px 1px 3px 1px rgba(0, 0, 0, 0.15);\n",
              "      filter: drop-shadow(0px 1px 2px rgba(0, 0, 0, 0.3));\n",
              "      fill: #FFFFFF;\n",
              "    }\n",
              "  </style>\n",
              "\n",
              "      <script>\n",
              "        const buttonEl =\n",
              "          document.querySelector('#df-3080c7cb-e414-4ff6-8a4c-ed079fad6d11 button.colab-df-convert');\n",
              "        buttonEl.style.display =\n",
              "          google.colab.kernel.accessAllowed ? 'block' : 'none';\n",
              "\n",
              "        async function convertToInteractive(key) {\n",
              "          const element = document.querySelector('#df-3080c7cb-e414-4ff6-8a4c-ed079fad6d11');\n",
              "          const dataTable =\n",
              "            await google.colab.kernel.invokeFunction('convertToInteractive',\n",
              "                                                     [key], {});\n",
              "          if (!dataTable) return;\n",
              "\n",
              "          const docLinkHtml = 'Like what you see? Visit the ' +\n",
              "            '<a target=\"_blank\" href=https://colab.research.google.com/notebooks/data_table.ipynb>data table notebook</a>'\n",
              "            + ' to learn more about interactive tables.';\n",
              "          element.innerHTML = '';\n",
              "          dataTable['output_type'] = 'display_data';\n",
              "          await google.colab.output.renderOutput(dataTable, element);\n",
              "          const docLink = document.createElement('div');\n",
              "          docLink.innerHTML = docLinkHtml;\n",
              "          element.appendChild(docLink);\n",
              "        }\n",
              "      </script>\n",
              "    </div>\n",
              "  </div>\n",
              "  "
            ]
          },
          "metadata": {},
          "execution_count": 62
        }
      ]
    },
    {
      "cell_type": "code",
      "source": [
        "# from sklearn.metrics import accuracy_score\n",
        "# accuracy_score(y_true, y_pred)\n",
        "acc_score =  accuracy_score(df_all_acc['true_y'], df_all_acc['pred_y'])\n",
        "acc_score"
      ],
      "metadata": {
        "colab": {
          "base_uri": "https://localhost:8080/"
        },
        "id": "7ICsoVd9YFmo",
        "outputId": "d3710f2d-0d82-486f-8c51-a92f2c8458cb"
      },
      "execution_count": null,
      "outputs": [
        {
          "output_type": "execute_result",
          "data": {
            "text/plain": [
              "0.9240628445424476"
            ]
          },
          "metadata": {},
          "execution_count": 63
        }
      ]
    },
    {
      "cell_type": "code",
      "source": [
        "path_test = 'tmp/test_2022071301.csv'\n",
        "df_test_acc = pd.read_csv(path_test)"
      ],
      "metadata": {
        "id": "IRTzpeUMZmFT"
      },
      "execution_count": null,
      "outputs": []
    },
    {
      "cell_type": "code",
      "source": [
        "#df_test_acc.reset_index(inplace = True)\n",
        "len(df_test_acc),df_test_acc.head()"
      ],
      "metadata": {
        "colab": {
          "base_uri": "https://localhost:8080/"
        },
        "id": "Q21ncvlcZvxp",
        "outputId": "4f9a02e6-298c-4cae-ba59-2882cb847d76"
      },
      "execution_count": null,
      "outputs": [
        {
          "output_type": "execute_result",
          "data": {
            "text/plain": [
              "(725,    Unnamed: 0    編號  類別  分類  \\\n",
              " 0        3736  3737  新聞  29   \n",
              " 1        3440  3441  新聞   0   \n",
              " 2         693   694  新聞  29   \n",
              " 3         575   576  新聞   4   \n",
              " 4        5655  5656  市總   0   \n",
              " \n",
              "                                                   內容  舊分類  freq  \n",
              " 0  各說各話被點名跑票的民進黨台南市議員陳朝來昨率十多位支持者舉行記者會，宣布退出民進黨，他除重...   28   632  \n",
              " 1  市長宣布投入一億餘元施作明年完工林園區為海洋濕地公園催生，市長陳菊昨天宣示投入一億餘元啟動該...   14   472  \n",
              " 2  國民黨徵召高雄市第二選區立委參選人黃韻涵，走訪彌陀基層，她主打在地牌爭取支持。國民黨高雄市黨...    6   632  \n",
              " 3  鵝鑾鼻保安宮福德正神前晚舉辦晚會，鎮長盧玉棟奉獻六百粒紅蛋、信徒捐獻六百粒壽桃慶生，主委葉啟...   52   337  \n",
              " 4  接下來是鳳山水庫旁的道路，本來是規劃25米寬的道路，本席建議只要規劃12米就好了。因為25米...   14   472  )"
            ]
          },
          "metadata": {},
          "execution_count": 81
        }
      ]
    },
    {
      "cell_type": "code",
      "source": [
        "x = df_test_acc['內容']\n",
        "y = df_test_acc['分類']"
      ],
      "metadata": {
        "id": "y7dKGuZVZRaI"
      },
      "execution_count": null,
      "outputs": []
    },
    {
      "cell_type": "code",
      "source": [
        "list_pred_y = []\n",
        "start = time.time()\n",
        "\n",
        "for i in range(len(x)):\n",
        "  inputs = tokenizer(x[i], max_length=512, return_tensors='pt')\n",
        "  logits = model(inputs['input_ids'], inputs['attention_mask'])\n",
        "  predition_Y = torch.argmax(logits.logits[0].cpu()).tolist()\n",
        "  list_pred_y.append(predition_Y)\n",
        "  if len(list_pred_y) % 300 == 0:\n",
        "    print(len(list_pred_y))\n",
        "    print(f\"實際標籤: {y[i]}\")\n",
        "    print(f\"預測標籤: {predition_Y}\")\n",
        "\n",
        "end = time.time()\n",
        "cost_time = end - start\n",
        "print('predicting time', cost_time)"
      ],
      "metadata": {
        "colab": {
          "base_uri": "https://localhost:8080/"
        },
        "id": "8miTnDX0Yt8T",
        "outputId": "09894e66-c8b2-47fd-b976-238b3a203816"
      },
      "execution_count": null,
      "outputs": [
        {
          "output_type": "stream",
          "name": "stdout",
          "text": [
            "300\n",
            "實際標籤: 29\n",
            "預測標籤: 29\n",
            "600\n",
            "實際標籤: 10\n",
            "預測標籤: 19\n",
            "predicting time 765.2642993927002\n"
          ]
        }
      ]
    },
    {
      "cell_type": "code",
      "source": [
        "result = pd.DataFrame({'content': x, 'pred_y':list_pred_y, 'true_y':y})\n",
        "result.columns,result.head(3)"
      ],
      "metadata": {
        "colab": {
          "base_uri": "https://localhost:8080/"
        },
        "id": "TSwOeeNbbiZZ",
        "outputId": "e14f583a-669e-4dce-bce0-908c975525e2"
      },
      "execution_count": null,
      "outputs": [
        {
          "output_type": "execute_result",
          "data": {
            "text/plain": [
              "(Index(['content', 'pred_y', 'true_y'], dtype='object'),\n",
              "                                              content  pred_y  true_y\n",
              " 0  各說各話被點名跑票的民進黨台南市議員陳朝來昨率十多位支持者舉行記者會，宣布退出民進黨，他除重...      29      29\n",
              " 1  市長宣布投入一億餘元施作明年完工林園區為海洋濕地公園催生，市長陳菊昨天宣示投入一億餘元啟動該...      12       0\n",
              " 2  國民黨徵召高雄市第二選區立委參選人黃韻涵，走訪彌陀基層，她主打在地牌爭取支持。國民黨高雄市黨...      29      29)"
            ]
          },
          "metadata": {},
          "execution_count": 83
        }
      ]
    },
    {
      "cell_type": "code",
      "source": [
        "acc_score_test_set =  accuracy_score(result['true_y'], result['pred_y'])\n",
        "acc_score_test_set"
      ],
      "metadata": {
        "colab": {
          "base_uri": "https://localhost:8080/"
        },
        "id": "pqObXx6RbMcK",
        "outputId": "8d7dea65-c2be-4981-dc6b-b75d9422a288"
      },
      "execution_count": null,
      "outputs": [
        {
          "output_type": "execute_result",
          "data": {
            "text/plain": [
              "0.7613793103448275"
            ]
          },
          "metadata": {},
          "execution_count": 85
        }
      ]
    },
    {
      "cell_type": "code",
      "source": [
        "#labels = list(test_df['classes'].unique()) \n",
        "labels = list(y.unique())\n",
        "print(classification_report(y, list_pred_y, zero_division = 0)) #classification report from sklearn\n",
        "#cnf_matrix = confusion_matrix(y, list_pred_y, labels=labels)"
      ],
      "metadata": {
        "colab": {
          "base_uri": "https://localhost:8080/"
        },
        "id": "gM8Btzbmbpj4",
        "outputId": "d5b727ef-6880-4804-b25d-b65569a6143e"
      },
      "execution_count": null,
      "outputs": [
        {
          "output_type": "stream",
          "name": "stdout",
          "text": [
            "              precision    recall  f1-score   support\n",
            "\n",
            "           0       0.88      0.57      0.69        63\n",
            "           1       0.75      0.82      0.78        11\n",
            "           2       0.82      0.93      0.87        30\n",
            "           3       0.40      1.00      0.57         2\n",
            "           4       0.82      0.59      0.69        39\n",
            "           5       0.86      0.84      0.85       123\n",
            "           6       0.65      0.52      0.58        33\n",
            "           8       0.00      0.00      0.00         1\n",
            "           9       0.00      0.00      0.00         1\n",
            "          10       0.38      0.17      0.23        18\n",
            "          11       0.33      1.00      0.50         1\n",
            "          12       0.56      1.00      0.71         5\n",
            "          13       0.40      1.00      0.57         2\n",
            "          14       0.90      0.79      0.84        34\n",
            "          15       0.00      0.00      0.00         0\n",
            "          16       0.76      0.93      0.83        40\n",
            "          17       0.56      0.74      0.64        42\n",
            "          18       0.20      1.00      0.33         1\n",
            "          19       0.82      0.69      0.75        61\n",
            "          20       0.36      0.50      0.42         8\n",
            "          22       0.63      0.77      0.69        22\n",
            "          23       0.69      0.89      0.77        27\n",
            "          24       0.77      1.00      0.87        10\n",
            "          25       0.50      0.75      0.60         4\n",
            "          26       0.69      0.82      0.75        33\n",
            "          27       0.60      0.75      0.67         4\n",
            "          28       0.00      0.00      0.00         0\n",
            "          29       0.97      0.91      0.94       105\n",
            "          30       1.00      1.00      1.00         1\n",
            "          31       0.00      0.00      0.00         4\n",
            "\n",
            "    accuracy                           0.76       725\n",
            "   macro avg       0.54      0.67      0.57       725\n",
            "weighted avg       0.78      0.76      0.76       725\n",
            "\n"
          ]
        }
      ]
    },
    {
      "cell_type": "markdown",
      "source": [
        "# classification_report 可轉成DataFrame方便輸出"
      ],
      "metadata": {
        "id": "9nn_vqECrL2h"
      }
    },
    {
      "cell_type": "code",
      "source": [
        "report = classification_report(y, list_pred_y, output_dict= True, zero_division = 0)\n",
        "df_class_report = pd.DataFrame(report).transpose()\n",
        "np.round(df_class_report, 2)"
      ],
      "metadata": {
        "id": "g20BIfSmi0zY"
      },
      "execution_count": null,
      "outputs": []
    }
  ]
}