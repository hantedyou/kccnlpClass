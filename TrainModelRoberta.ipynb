{
  "nbformat": 4,
  "nbformat_minor": 0,
  "metadata": {
    "colab": {
      "provenance": [],
      "collapsed_sections": [],
      "machine_shape": "hm",
      "include_colab_link": true
    },
    "kernelspec": {
      "name": "python3",
      "display_name": "Python 3"
    },
    "language_info": {
      "name": "python"
    },
    "accelerator": "GPU",
    "gpuClass": "standard",
    "widgets": {
      "application/vnd.jupyter.widget-state+json": {
        "3b96218abf9442438901dcafcc67eb53": {
          "model_module": "@jupyter-widgets/controls",
          "model_name": "HBoxModel",
          "model_module_version": "1.5.0",
          "state": {
            "_dom_classes": [],
            "_model_module": "@jupyter-widgets/controls",
            "_model_module_version": "1.5.0",
            "_model_name": "HBoxModel",
            "_view_count": null,
            "_view_module": "@jupyter-widgets/controls",
            "_view_module_version": "1.5.0",
            "_view_name": "HBoxView",
            "box_style": "",
            "children": [
              "IPY_MODEL_f3502f4239354f70b0fefe2326eef69f",
              "IPY_MODEL_7bb34f619a51489995d787dbaa55daa1",
              "IPY_MODEL_0feabd2d38af4ce4b3e586901b9f632f"
            ],
            "layout": "IPY_MODEL_7657faea6341406e949e44e11bed24c2"
          }
        },
        "f3502f4239354f70b0fefe2326eef69f": {
          "model_module": "@jupyter-widgets/controls",
          "model_name": "HTMLModel",
          "model_module_version": "1.5.0",
          "state": {
            "_dom_classes": [],
            "_model_module": "@jupyter-widgets/controls",
            "_model_module_version": "1.5.0",
            "_model_name": "HTMLModel",
            "_view_count": null,
            "_view_module": "@jupyter-widgets/controls",
            "_view_module_version": "1.5.0",
            "_view_name": "HTMLView",
            "description": "",
            "description_tooltip": null,
            "layout": "IPY_MODEL_0b030e3d8b3348b4b3db009276a2788a",
            "placeholder": "​",
            "style": "IPY_MODEL_844d58d278b04f0daba8b758dbcf05f6",
            "value": "Downloading: 100%"
          }
        },
        "7bb34f619a51489995d787dbaa55daa1": {
          "model_module": "@jupyter-widgets/controls",
          "model_name": "FloatProgressModel",
          "model_module_version": "1.5.0",
          "state": {
            "_dom_classes": [],
            "_model_module": "@jupyter-widgets/controls",
            "_model_module_version": "1.5.0",
            "_model_name": "FloatProgressModel",
            "_view_count": null,
            "_view_module": "@jupyter-widgets/controls",
            "_view_module_version": "1.5.0",
            "_view_name": "ProgressView",
            "bar_style": "success",
            "description": "",
            "description_tooltip": null,
            "layout": "IPY_MODEL_e30e7c9a9c0e4866a022ba14dd264b76",
            "max": 642,
            "min": 0,
            "orientation": "horizontal",
            "style": "IPY_MODEL_f3e7044ab9144abe8cd2f7bf093f5011",
            "value": 642
          }
        },
        "0feabd2d38af4ce4b3e586901b9f632f": {
          "model_module": "@jupyter-widgets/controls",
          "model_name": "HTMLModel",
          "model_module_version": "1.5.0",
          "state": {
            "_dom_classes": [],
            "_model_module": "@jupyter-widgets/controls",
            "_model_module_version": "1.5.0",
            "_model_name": "HTMLModel",
            "_view_count": null,
            "_view_module": "@jupyter-widgets/controls",
            "_view_module_version": "1.5.0",
            "_view_name": "HTMLView",
            "description": "",
            "description_tooltip": null,
            "layout": "IPY_MODEL_26d8a2f8e2db4917a16cc9b0073a2594",
            "placeholder": "​",
            "style": "IPY_MODEL_d857a111045e4a72b6cb2afc386d3157",
            "value": " 642/642 [00:00&lt;00:00, 18.8kB/s]"
          }
        },
        "7657faea6341406e949e44e11bed24c2": {
          "model_module": "@jupyter-widgets/base",
          "model_name": "LayoutModel",
          "model_module_version": "1.2.0",
          "state": {
            "_model_module": "@jupyter-widgets/base",
            "_model_module_version": "1.2.0",
            "_model_name": "LayoutModel",
            "_view_count": null,
            "_view_module": "@jupyter-widgets/base",
            "_view_module_version": "1.2.0",
            "_view_name": "LayoutView",
            "align_content": null,
            "align_items": null,
            "align_self": null,
            "border": null,
            "bottom": null,
            "display": null,
            "flex": null,
            "flex_flow": null,
            "grid_area": null,
            "grid_auto_columns": null,
            "grid_auto_flow": null,
            "grid_auto_rows": null,
            "grid_column": null,
            "grid_gap": null,
            "grid_row": null,
            "grid_template_areas": null,
            "grid_template_columns": null,
            "grid_template_rows": null,
            "height": null,
            "justify_content": null,
            "justify_items": null,
            "left": null,
            "margin": null,
            "max_height": null,
            "max_width": null,
            "min_height": null,
            "min_width": null,
            "object_fit": null,
            "object_position": null,
            "order": null,
            "overflow": null,
            "overflow_x": null,
            "overflow_y": null,
            "padding": null,
            "right": null,
            "top": null,
            "visibility": null,
            "width": null
          }
        },
        "0b030e3d8b3348b4b3db009276a2788a": {
          "model_module": "@jupyter-widgets/base",
          "model_name": "LayoutModel",
          "model_module_version": "1.2.0",
          "state": {
            "_model_module": "@jupyter-widgets/base",
            "_model_module_version": "1.2.0",
            "_model_name": "LayoutModel",
            "_view_count": null,
            "_view_module": "@jupyter-widgets/base",
            "_view_module_version": "1.2.0",
            "_view_name": "LayoutView",
            "align_content": null,
            "align_items": null,
            "align_self": null,
            "border": null,
            "bottom": null,
            "display": null,
            "flex": null,
            "flex_flow": null,
            "grid_area": null,
            "grid_auto_columns": null,
            "grid_auto_flow": null,
            "grid_auto_rows": null,
            "grid_column": null,
            "grid_gap": null,
            "grid_row": null,
            "grid_template_areas": null,
            "grid_template_columns": null,
            "grid_template_rows": null,
            "height": null,
            "justify_content": null,
            "justify_items": null,
            "left": null,
            "margin": null,
            "max_height": null,
            "max_width": null,
            "min_height": null,
            "min_width": null,
            "object_fit": null,
            "object_position": null,
            "order": null,
            "overflow": null,
            "overflow_x": null,
            "overflow_y": null,
            "padding": null,
            "right": null,
            "top": null,
            "visibility": null,
            "width": null
          }
        },
        "844d58d278b04f0daba8b758dbcf05f6": {
          "model_module": "@jupyter-widgets/controls",
          "model_name": "DescriptionStyleModel",
          "model_module_version": "1.5.0",
          "state": {
            "_model_module": "@jupyter-widgets/controls",
            "_model_module_version": "1.5.0",
            "_model_name": "DescriptionStyleModel",
            "_view_count": null,
            "_view_module": "@jupyter-widgets/base",
            "_view_module_version": "1.2.0",
            "_view_name": "StyleView",
            "description_width": ""
          }
        },
        "e30e7c9a9c0e4866a022ba14dd264b76": {
          "model_module": "@jupyter-widgets/base",
          "model_name": "LayoutModel",
          "model_module_version": "1.2.0",
          "state": {
            "_model_module": "@jupyter-widgets/base",
            "_model_module_version": "1.2.0",
            "_model_name": "LayoutModel",
            "_view_count": null,
            "_view_module": "@jupyter-widgets/base",
            "_view_module_version": "1.2.0",
            "_view_name": "LayoutView",
            "align_content": null,
            "align_items": null,
            "align_self": null,
            "border": null,
            "bottom": null,
            "display": null,
            "flex": null,
            "flex_flow": null,
            "grid_area": null,
            "grid_auto_columns": null,
            "grid_auto_flow": null,
            "grid_auto_rows": null,
            "grid_column": null,
            "grid_gap": null,
            "grid_row": null,
            "grid_template_areas": null,
            "grid_template_columns": null,
            "grid_template_rows": null,
            "height": null,
            "justify_content": null,
            "justify_items": null,
            "left": null,
            "margin": null,
            "max_height": null,
            "max_width": null,
            "min_height": null,
            "min_width": null,
            "object_fit": null,
            "object_position": null,
            "order": null,
            "overflow": null,
            "overflow_x": null,
            "overflow_y": null,
            "padding": null,
            "right": null,
            "top": null,
            "visibility": null,
            "width": null
          }
        },
        "f3e7044ab9144abe8cd2f7bf093f5011": {
          "model_module": "@jupyter-widgets/controls",
          "model_name": "ProgressStyleModel",
          "model_module_version": "1.5.0",
          "state": {
            "_model_module": "@jupyter-widgets/controls",
            "_model_module_version": "1.5.0",
            "_model_name": "ProgressStyleModel",
            "_view_count": null,
            "_view_module": "@jupyter-widgets/base",
            "_view_module_version": "1.2.0",
            "_view_name": "StyleView",
            "bar_color": null,
            "description_width": ""
          }
        },
        "26d8a2f8e2db4917a16cc9b0073a2594": {
          "model_module": "@jupyter-widgets/base",
          "model_name": "LayoutModel",
          "model_module_version": "1.2.0",
          "state": {
            "_model_module": "@jupyter-widgets/base",
            "_model_module_version": "1.2.0",
            "_model_name": "LayoutModel",
            "_view_count": null,
            "_view_module": "@jupyter-widgets/base",
            "_view_module_version": "1.2.0",
            "_view_name": "LayoutView",
            "align_content": null,
            "align_items": null,
            "align_self": null,
            "border": null,
            "bottom": null,
            "display": null,
            "flex": null,
            "flex_flow": null,
            "grid_area": null,
            "grid_auto_columns": null,
            "grid_auto_flow": null,
            "grid_auto_rows": null,
            "grid_column": null,
            "grid_gap": null,
            "grid_row": null,
            "grid_template_areas": null,
            "grid_template_columns": null,
            "grid_template_rows": null,
            "height": null,
            "justify_content": null,
            "justify_items": null,
            "left": null,
            "margin": null,
            "max_height": null,
            "max_width": null,
            "min_height": null,
            "min_width": null,
            "object_fit": null,
            "object_position": null,
            "order": null,
            "overflow": null,
            "overflow_x": null,
            "overflow_y": null,
            "padding": null,
            "right": null,
            "top": null,
            "visibility": null,
            "width": null
          }
        },
        "d857a111045e4a72b6cb2afc386d3157": {
          "model_module": "@jupyter-widgets/controls",
          "model_name": "DescriptionStyleModel",
          "model_module_version": "1.5.0",
          "state": {
            "_model_module": "@jupyter-widgets/controls",
            "_model_module_version": "1.5.0",
            "_model_name": "DescriptionStyleModel",
            "_view_count": null,
            "_view_module": "@jupyter-widgets/base",
            "_view_module_version": "1.2.0",
            "_view_name": "StyleView",
            "description_width": ""
          }
        },
        "475aa5b193384aba917260b10e9ba1cc": {
          "model_module": "@jupyter-widgets/controls",
          "model_name": "HBoxModel",
          "model_module_version": "1.5.0",
          "state": {
            "_dom_classes": [],
            "_model_module": "@jupyter-widgets/controls",
            "_model_module_version": "1.5.0",
            "_model_name": "HBoxModel",
            "_view_count": null,
            "_view_module": "@jupyter-widgets/controls",
            "_view_module_version": "1.5.0",
            "_view_name": "HBoxView",
            "box_style": "",
            "children": [
              "IPY_MODEL_9c2495df71474bcba0b4fb714b9f99a7",
              "IPY_MODEL_46473f8c2a09481691aa6d4889c59aa1",
              "IPY_MODEL_e94b6028974e4ddc9efbe6c4cf0fdbec"
            ],
            "layout": "IPY_MODEL_31dea94808604e5784e41c0b43a78324"
          }
        },
        "9c2495df71474bcba0b4fb714b9f99a7": {
          "model_module": "@jupyter-widgets/controls",
          "model_name": "HTMLModel",
          "model_module_version": "1.5.0",
          "state": {
            "_dom_classes": [],
            "_model_module": "@jupyter-widgets/controls",
            "_model_module_version": "1.5.0",
            "_model_name": "HTMLModel",
            "_view_count": null,
            "_view_module": "@jupyter-widgets/controls",
            "_view_module_version": "1.5.0",
            "_view_name": "HTMLView",
            "description": "",
            "description_tooltip": null,
            "layout": "IPY_MODEL_c61b20b092ea4a389e8027b74f7173c2",
            "placeholder": "​",
            "style": "IPY_MODEL_f46ac49616ce4503b51eb2cbea21f44a",
            "value": "Downloading: 100%"
          }
        },
        "46473f8c2a09481691aa6d4889c59aa1": {
          "model_module": "@jupyter-widgets/controls",
          "model_name": "FloatProgressModel",
          "model_module_version": "1.5.0",
          "state": {
            "_dom_classes": [],
            "_model_module": "@jupyter-widgets/controls",
            "_model_module_version": "1.5.0",
            "_model_name": "FloatProgressModel",
            "_view_count": null,
            "_view_module": "@jupyter-widgets/controls",
            "_view_module_version": "1.5.0",
            "_view_name": "ProgressView",
            "bar_style": "success",
            "description": "",
            "description_tooltip": null,
            "layout": "IPY_MODEL_62104b69ba1645419eb8f408fa66ad66",
            "max": 409172095,
            "min": 0,
            "orientation": "horizontal",
            "style": "IPY_MODEL_ea3879109acc4e79b8fe28bedbb362bd",
            "value": 409172095
          }
        },
        "e94b6028974e4ddc9efbe6c4cf0fdbec": {
          "model_module": "@jupyter-widgets/controls",
          "model_name": "HTMLModel",
          "model_module_version": "1.5.0",
          "state": {
            "_dom_classes": [],
            "_model_module": "@jupyter-widgets/controls",
            "_model_module_version": "1.5.0",
            "_model_name": "HTMLModel",
            "_view_count": null,
            "_view_module": "@jupyter-widgets/controls",
            "_view_module_version": "1.5.0",
            "_view_name": "HTMLView",
            "description": "",
            "description_tooltip": null,
            "layout": "IPY_MODEL_c56303a62f08437b9c9d288965a8ee60",
            "placeholder": "​",
            "style": "IPY_MODEL_77181d3f68c242a0aa622abda868bfb9",
            "value": " 390M/390M [01:04&lt;00:00, 10.5MB/s]"
          }
        },
        "31dea94808604e5784e41c0b43a78324": {
          "model_module": "@jupyter-widgets/base",
          "model_name": "LayoutModel",
          "model_module_version": "1.2.0",
          "state": {
            "_model_module": "@jupyter-widgets/base",
            "_model_module_version": "1.2.0",
            "_model_name": "LayoutModel",
            "_view_count": null,
            "_view_module": "@jupyter-widgets/base",
            "_view_module_version": "1.2.0",
            "_view_name": "LayoutView",
            "align_content": null,
            "align_items": null,
            "align_self": null,
            "border": null,
            "bottom": null,
            "display": null,
            "flex": null,
            "flex_flow": null,
            "grid_area": null,
            "grid_auto_columns": null,
            "grid_auto_flow": null,
            "grid_auto_rows": null,
            "grid_column": null,
            "grid_gap": null,
            "grid_row": null,
            "grid_template_areas": null,
            "grid_template_columns": null,
            "grid_template_rows": null,
            "height": null,
            "justify_content": null,
            "justify_items": null,
            "left": null,
            "margin": null,
            "max_height": null,
            "max_width": null,
            "min_height": null,
            "min_width": null,
            "object_fit": null,
            "object_position": null,
            "order": null,
            "overflow": null,
            "overflow_x": null,
            "overflow_y": null,
            "padding": null,
            "right": null,
            "top": null,
            "visibility": null,
            "width": null
          }
        },
        "c61b20b092ea4a389e8027b74f7173c2": {
          "model_module": "@jupyter-widgets/base",
          "model_name": "LayoutModel",
          "model_module_version": "1.2.0",
          "state": {
            "_model_module": "@jupyter-widgets/base",
            "_model_module_version": "1.2.0",
            "_model_name": "LayoutModel",
            "_view_count": null,
            "_view_module": "@jupyter-widgets/base",
            "_view_module_version": "1.2.0",
            "_view_name": "LayoutView",
            "align_content": null,
            "align_items": null,
            "align_self": null,
            "border": null,
            "bottom": null,
            "display": null,
            "flex": null,
            "flex_flow": null,
            "grid_area": null,
            "grid_auto_columns": null,
            "grid_auto_flow": null,
            "grid_auto_rows": null,
            "grid_column": null,
            "grid_gap": null,
            "grid_row": null,
            "grid_template_areas": null,
            "grid_template_columns": null,
            "grid_template_rows": null,
            "height": null,
            "justify_content": null,
            "justify_items": null,
            "left": null,
            "margin": null,
            "max_height": null,
            "max_width": null,
            "min_height": null,
            "min_width": null,
            "object_fit": null,
            "object_position": null,
            "order": null,
            "overflow": null,
            "overflow_x": null,
            "overflow_y": null,
            "padding": null,
            "right": null,
            "top": null,
            "visibility": null,
            "width": null
          }
        },
        "f46ac49616ce4503b51eb2cbea21f44a": {
          "model_module": "@jupyter-widgets/controls",
          "model_name": "DescriptionStyleModel",
          "model_module_version": "1.5.0",
          "state": {
            "_model_module": "@jupyter-widgets/controls",
            "_model_module_version": "1.5.0",
            "_model_name": "DescriptionStyleModel",
            "_view_count": null,
            "_view_module": "@jupyter-widgets/base",
            "_view_module_version": "1.2.0",
            "_view_name": "StyleView",
            "description_width": ""
          }
        },
        "62104b69ba1645419eb8f408fa66ad66": {
          "model_module": "@jupyter-widgets/base",
          "model_name": "LayoutModel",
          "model_module_version": "1.2.0",
          "state": {
            "_model_module": "@jupyter-widgets/base",
            "_model_module_version": "1.2.0",
            "_model_name": "LayoutModel",
            "_view_count": null,
            "_view_module": "@jupyter-widgets/base",
            "_view_module_version": "1.2.0",
            "_view_name": "LayoutView",
            "align_content": null,
            "align_items": null,
            "align_self": null,
            "border": null,
            "bottom": null,
            "display": null,
            "flex": null,
            "flex_flow": null,
            "grid_area": null,
            "grid_auto_columns": null,
            "grid_auto_flow": null,
            "grid_auto_rows": null,
            "grid_column": null,
            "grid_gap": null,
            "grid_row": null,
            "grid_template_areas": null,
            "grid_template_columns": null,
            "grid_template_rows": null,
            "height": null,
            "justify_content": null,
            "justify_items": null,
            "left": null,
            "margin": null,
            "max_height": null,
            "max_width": null,
            "min_height": null,
            "min_width": null,
            "object_fit": null,
            "object_position": null,
            "order": null,
            "overflow": null,
            "overflow_x": null,
            "overflow_y": null,
            "padding": null,
            "right": null,
            "top": null,
            "visibility": null,
            "width": null
          }
        },
        "ea3879109acc4e79b8fe28bedbb362bd": {
          "model_module": "@jupyter-widgets/controls",
          "model_name": "ProgressStyleModel",
          "model_module_version": "1.5.0",
          "state": {
            "_model_module": "@jupyter-widgets/controls",
            "_model_module_version": "1.5.0",
            "_model_name": "ProgressStyleModel",
            "_view_count": null,
            "_view_module": "@jupyter-widgets/base",
            "_view_module_version": "1.2.0",
            "_view_name": "StyleView",
            "bar_color": null,
            "description_width": ""
          }
        },
        "c56303a62f08437b9c9d288965a8ee60": {
          "model_module": "@jupyter-widgets/base",
          "model_name": "LayoutModel",
          "model_module_version": "1.2.0",
          "state": {
            "_model_module": "@jupyter-widgets/base",
            "_model_module_version": "1.2.0",
            "_model_name": "LayoutModel",
            "_view_count": null,
            "_view_module": "@jupyter-widgets/base",
            "_view_module_version": "1.2.0",
            "_view_name": "LayoutView",
            "align_content": null,
            "align_items": null,
            "align_self": null,
            "border": null,
            "bottom": null,
            "display": null,
            "flex": null,
            "flex_flow": null,
            "grid_area": null,
            "grid_auto_columns": null,
            "grid_auto_flow": null,
            "grid_auto_rows": null,
            "grid_column": null,
            "grid_gap": null,
            "grid_row": null,
            "grid_template_areas": null,
            "grid_template_columns": null,
            "grid_template_rows": null,
            "height": null,
            "justify_content": null,
            "justify_items": null,
            "left": null,
            "margin": null,
            "max_height": null,
            "max_width": null,
            "min_height": null,
            "min_width": null,
            "object_fit": null,
            "object_position": null,
            "order": null,
            "overflow": null,
            "overflow_x": null,
            "overflow_y": null,
            "padding": null,
            "right": null,
            "top": null,
            "visibility": null,
            "width": null
          }
        },
        "77181d3f68c242a0aa622abda868bfb9": {
          "model_module": "@jupyter-widgets/controls",
          "model_name": "DescriptionStyleModel",
          "model_module_version": "1.5.0",
          "state": {
            "_model_module": "@jupyter-widgets/controls",
            "_model_module_version": "1.5.0",
            "_model_name": "DescriptionStyleModel",
            "_view_count": null,
            "_view_module": "@jupyter-widgets/base",
            "_view_module_version": "1.2.0",
            "_view_name": "StyleView",
            "description_width": ""
          }
        },
        "d37f701bc1d04511a158ec4802367fdf": {
          "model_module": "@jupyter-widgets/controls",
          "model_name": "HBoxModel",
          "model_module_version": "1.5.0",
          "state": {
            "_dom_classes": [],
            "_model_module": "@jupyter-widgets/controls",
            "_model_module_version": "1.5.0",
            "_model_name": "HBoxModel",
            "_view_count": null,
            "_view_module": "@jupyter-widgets/controls",
            "_view_module_version": "1.5.0",
            "_view_name": "HBoxView",
            "box_style": "",
            "children": [
              "IPY_MODEL_a83f6a811d9d424088d7657415b5ea67",
              "IPY_MODEL_eb6c541edfeb42a5b70f2e746ba0eda1",
              "IPY_MODEL_af5ce1840d764f048ec53edc8f6c9b7e"
            ],
            "layout": "IPY_MODEL_efef91e6354345f7bed02e68a78d786f"
          }
        },
        "a83f6a811d9d424088d7657415b5ea67": {
          "model_module": "@jupyter-widgets/controls",
          "model_name": "HTMLModel",
          "model_module_version": "1.5.0",
          "state": {
            "_dom_classes": [],
            "_model_module": "@jupyter-widgets/controls",
            "_model_module_version": "1.5.0",
            "_model_name": "HTMLModel",
            "_view_count": null,
            "_view_module": "@jupyter-widgets/controls",
            "_view_module_version": "1.5.0",
            "_view_name": "HTMLView",
            "description": "",
            "description_tooltip": null,
            "layout": "IPY_MODEL_8afbc1553ccd4cc4ab76fb269eea007c",
            "placeholder": "​",
            "style": "IPY_MODEL_1b4c7fdcc4464e84937ba34025c306de",
            "value": "Downloading: 100%"
          }
        },
        "eb6c541edfeb42a5b70f2e746ba0eda1": {
          "model_module": "@jupyter-widgets/controls",
          "model_name": "FloatProgressModel",
          "model_module_version": "1.5.0",
          "state": {
            "_dom_classes": [],
            "_model_module": "@jupyter-widgets/controls",
            "_model_module_version": "1.5.0",
            "_model_name": "FloatProgressModel",
            "_view_count": null,
            "_view_module": "@jupyter-widgets/controls",
            "_view_module_version": "1.5.0",
            "_view_name": "ProgressView",
            "bar_style": "success",
            "description": "",
            "description_tooltip": null,
            "layout": "IPY_MODEL_275e4672e9ce4adbad667be7931c355d",
            "max": 295,
            "min": 0,
            "orientation": "horizontal",
            "style": "IPY_MODEL_75eb052e87fb4d8799cfafbdedadbb42",
            "value": 295
          }
        },
        "af5ce1840d764f048ec53edc8f6c9b7e": {
          "model_module": "@jupyter-widgets/controls",
          "model_name": "HTMLModel",
          "model_module_version": "1.5.0",
          "state": {
            "_dom_classes": [],
            "_model_module": "@jupyter-widgets/controls",
            "_model_module_version": "1.5.0",
            "_model_name": "HTMLModel",
            "_view_count": null,
            "_view_module": "@jupyter-widgets/controls",
            "_view_module_version": "1.5.0",
            "_view_name": "HTMLView",
            "description": "",
            "description_tooltip": null,
            "layout": "IPY_MODEL_d959d46ed2a24575b6c4ba47148b347a",
            "placeholder": "​",
            "style": "IPY_MODEL_47ad2403ae99430cb41e0d8355b425db",
            "value": " 295/295 [00:00&lt;00:00, 6.21kB/s]"
          }
        },
        "efef91e6354345f7bed02e68a78d786f": {
          "model_module": "@jupyter-widgets/base",
          "model_name": "LayoutModel",
          "model_module_version": "1.2.0",
          "state": {
            "_model_module": "@jupyter-widgets/base",
            "_model_module_version": "1.2.0",
            "_model_name": "LayoutModel",
            "_view_count": null,
            "_view_module": "@jupyter-widgets/base",
            "_view_module_version": "1.2.0",
            "_view_name": "LayoutView",
            "align_content": null,
            "align_items": null,
            "align_self": null,
            "border": null,
            "bottom": null,
            "display": null,
            "flex": null,
            "flex_flow": null,
            "grid_area": null,
            "grid_auto_columns": null,
            "grid_auto_flow": null,
            "grid_auto_rows": null,
            "grid_column": null,
            "grid_gap": null,
            "grid_row": null,
            "grid_template_areas": null,
            "grid_template_columns": null,
            "grid_template_rows": null,
            "height": null,
            "justify_content": null,
            "justify_items": null,
            "left": null,
            "margin": null,
            "max_height": null,
            "max_width": null,
            "min_height": null,
            "min_width": null,
            "object_fit": null,
            "object_position": null,
            "order": null,
            "overflow": null,
            "overflow_x": null,
            "overflow_y": null,
            "padding": null,
            "right": null,
            "top": null,
            "visibility": null,
            "width": null
          }
        },
        "8afbc1553ccd4cc4ab76fb269eea007c": {
          "model_module": "@jupyter-widgets/base",
          "model_name": "LayoutModel",
          "model_module_version": "1.2.0",
          "state": {
            "_model_module": "@jupyter-widgets/base",
            "_model_module_version": "1.2.0",
            "_model_name": "LayoutModel",
            "_view_count": null,
            "_view_module": "@jupyter-widgets/base",
            "_view_module_version": "1.2.0",
            "_view_name": "LayoutView",
            "align_content": null,
            "align_items": null,
            "align_self": null,
            "border": null,
            "bottom": null,
            "display": null,
            "flex": null,
            "flex_flow": null,
            "grid_area": null,
            "grid_auto_columns": null,
            "grid_auto_flow": null,
            "grid_auto_rows": null,
            "grid_column": null,
            "grid_gap": null,
            "grid_row": null,
            "grid_template_areas": null,
            "grid_template_columns": null,
            "grid_template_rows": null,
            "height": null,
            "justify_content": null,
            "justify_items": null,
            "left": null,
            "margin": null,
            "max_height": null,
            "max_width": null,
            "min_height": null,
            "min_width": null,
            "object_fit": null,
            "object_position": null,
            "order": null,
            "overflow": null,
            "overflow_x": null,
            "overflow_y": null,
            "padding": null,
            "right": null,
            "top": null,
            "visibility": null,
            "width": null
          }
        },
        "1b4c7fdcc4464e84937ba34025c306de": {
          "model_module": "@jupyter-widgets/controls",
          "model_name": "DescriptionStyleModel",
          "model_module_version": "1.5.0",
          "state": {
            "_model_module": "@jupyter-widgets/controls",
            "_model_module_version": "1.5.0",
            "_model_name": "DescriptionStyleModel",
            "_view_count": null,
            "_view_module": "@jupyter-widgets/base",
            "_view_module_version": "1.2.0",
            "_view_name": "StyleView",
            "description_width": ""
          }
        },
        "275e4672e9ce4adbad667be7931c355d": {
          "model_module": "@jupyter-widgets/base",
          "model_name": "LayoutModel",
          "model_module_version": "1.2.0",
          "state": {
            "_model_module": "@jupyter-widgets/base",
            "_model_module_version": "1.2.0",
            "_model_name": "LayoutModel",
            "_view_count": null,
            "_view_module": "@jupyter-widgets/base",
            "_view_module_version": "1.2.0",
            "_view_name": "LayoutView",
            "align_content": null,
            "align_items": null,
            "align_self": null,
            "border": null,
            "bottom": null,
            "display": null,
            "flex": null,
            "flex_flow": null,
            "grid_area": null,
            "grid_auto_columns": null,
            "grid_auto_flow": null,
            "grid_auto_rows": null,
            "grid_column": null,
            "grid_gap": null,
            "grid_row": null,
            "grid_template_areas": null,
            "grid_template_columns": null,
            "grid_template_rows": null,
            "height": null,
            "justify_content": null,
            "justify_items": null,
            "left": null,
            "margin": null,
            "max_height": null,
            "max_width": null,
            "min_height": null,
            "min_width": null,
            "object_fit": null,
            "object_position": null,
            "order": null,
            "overflow": null,
            "overflow_x": null,
            "overflow_y": null,
            "padding": null,
            "right": null,
            "top": null,
            "visibility": null,
            "width": null
          }
        },
        "75eb052e87fb4d8799cfafbdedadbb42": {
          "model_module": "@jupyter-widgets/controls",
          "model_name": "ProgressStyleModel",
          "model_module_version": "1.5.0",
          "state": {
            "_model_module": "@jupyter-widgets/controls",
            "_model_module_version": "1.5.0",
            "_model_name": "ProgressStyleModel",
            "_view_count": null,
            "_view_module": "@jupyter-widgets/base",
            "_view_module_version": "1.2.0",
            "_view_name": "StyleView",
            "bar_color": null,
            "description_width": ""
          }
        },
        "d959d46ed2a24575b6c4ba47148b347a": {
          "model_module": "@jupyter-widgets/base",
          "model_name": "LayoutModel",
          "model_module_version": "1.2.0",
          "state": {
            "_model_module": "@jupyter-widgets/base",
            "_model_module_version": "1.2.0",
            "_model_name": "LayoutModel",
            "_view_count": null,
            "_view_module": "@jupyter-widgets/base",
            "_view_module_version": "1.2.0",
            "_view_name": "LayoutView",
            "align_content": null,
            "align_items": null,
            "align_self": null,
            "border": null,
            "bottom": null,
            "display": null,
            "flex": null,
            "flex_flow": null,
            "grid_area": null,
            "grid_auto_columns": null,
            "grid_auto_flow": null,
            "grid_auto_rows": null,
            "grid_column": null,
            "grid_gap": null,
            "grid_row": null,
            "grid_template_areas": null,
            "grid_template_columns": null,
            "grid_template_rows": null,
            "height": null,
            "justify_content": null,
            "justify_items": null,
            "left": null,
            "margin": null,
            "max_height": null,
            "max_width": null,
            "min_height": null,
            "min_width": null,
            "object_fit": null,
            "object_position": null,
            "order": null,
            "overflow": null,
            "overflow_x": null,
            "overflow_y": null,
            "padding": null,
            "right": null,
            "top": null,
            "visibility": null,
            "width": null
          }
        },
        "47ad2403ae99430cb41e0d8355b425db": {
          "model_module": "@jupyter-widgets/controls",
          "model_name": "DescriptionStyleModel",
          "model_module_version": "1.5.0",
          "state": {
            "_model_module": "@jupyter-widgets/controls",
            "_model_module_version": "1.5.0",
            "_model_name": "DescriptionStyleModel",
            "_view_count": null,
            "_view_module": "@jupyter-widgets/base",
            "_view_module_version": "1.2.0",
            "_view_name": "StyleView",
            "description_width": ""
          }
        },
        "3b277a7cc69d42638c50521302d94402": {
          "model_module": "@jupyter-widgets/controls",
          "model_name": "HBoxModel",
          "model_module_version": "1.5.0",
          "state": {
            "_dom_classes": [],
            "_model_module": "@jupyter-widgets/controls",
            "_model_module_version": "1.5.0",
            "_model_name": "HBoxModel",
            "_view_count": null,
            "_view_module": "@jupyter-widgets/controls",
            "_view_module_version": "1.5.0",
            "_view_name": "HBoxView",
            "box_style": "",
            "children": [
              "IPY_MODEL_c1b2f2748aeb4e398bb5dba2228427b6",
              "IPY_MODEL_980cfefedab0427f8654da0ee7f5575f",
              "IPY_MODEL_41c175a9dad84cecb5eeff231f36b408"
            ],
            "layout": "IPY_MODEL_22385f81aa0947d3bc418ede088d3c4f"
          }
        },
        "c1b2f2748aeb4e398bb5dba2228427b6": {
          "model_module": "@jupyter-widgets/controls",
          "model_name": "HTMLModel",
          "model_module_version": "1.5.0",
          "state": {
            "_dom_classes": [],
            "_model_module": "@jupyter-widgets/controls",
            "_model_module_version": "1.5.0",
            "_model_name": "HTMLModel",
            "_view_count": null,
            "_view_module": "@jupyter-widgets/controls",
            "_view_module_version": "1.5.0",
            "_view_name": "HTMLView",
            "description": "",
            "description_tooltip": null,
            "layout": "IPY_MODEL_18fec5207779448e87b821e48ad975f6",
            "placeholder": "​",
            "style": "IPY_MODEL_6c499f4ffa424686a647aeb27427957c",
            "value": "Downloading: 100%"
          }
        },
        "980cfefedab0427f8654da0ee7f5575f": {
          "model_module": "@jupyter-widgets/controls",
          "model_name": "FloatProgressModel",
          "model_module_version": "1.5.0",
          "state": {
            "_dom_classes": [],
            "_model_module": "@jupyter-widgets/controls",
            "_model_module_version": "1.5.0",
            "_model_name": "FloatProgressModel",
            "_view_count": null,
            "_view_module": "@jupyter-widgets/controls",
            "_view_module_version": "1.5.0",
            "_view_name": "ProgressView",
            "bar_style": "success",
            "description": "",
            "description_tooltip": null,
            "layout": "IPY_MODEL_178c9dc9ffaf4d0aa17beb3e7a16843a",
            "max": 109540,
            "min": 0,
            "orientation": "horizontal",
            "style": "IPY_MODEL_0ddf8bdf34df4924b16aa009fff03e41",
            "value": 109540
          }
        },
        "41c175a9dad84cecb5eeff231f36b408": {
          "model_module": "@jupyter-widgets/controls",
          "model_name": "HTMLModel",
          "model_module_version": "1.5.0",
          "state": {
            "_dom_classes": [],
            "_model_module": "@jupyter-widgets/controls",
            "_model_module_version": "1.5.0",
            "_model_name": "HTMLModel",
            "_view_count": null,
            "_view_module": "@jupyter-widgets/controls",
            "_view_module_version": "1.5.0",
            "_view_name": "HTMLView",
            "description": "",
            "description_tooltip": null,
            "layout": "IPY_MODEL_270573066bcd4b83b4675dc911b6947d",
            "placeholder": "​",
            "style": "IPY_MODEL_1fde047215dc4a24a9c8eaf315c1abf1",
            "value": " 107k/107k [00:00&lt;00:00, 308kB/s]"
          }
        },
        "22385f81aa0947d3bc418ede088d3c4f": {
          "model_module": "@jupyter-widgets/base",
          "model_name": "LayoutModel",
          "model_module_version": "1.2.0",
          "state": {
            "_model_module": "@jupyter-widgets/base",
            "_model_module_version": "1.2.0",
            "_model_name": "LayoutModel",
            "_view_count": null,
            "_view_module": "@jupyter-widgets/base",
            "_view_module_version": "1.2.0",
            "_view_name": "LayoutView",
            "align_content": null,
            "align_items": null,
            "align_self": null,
            "border": null,
            "bottom": null,
            "display": null,
            "flex": null,
            "flex_flow": null,
            "grid_area": null,
            "grid_auto_columns": null,
            "grid_auto_flow": null,
            "grid_auto_rows": null,
            "grid_column": null,
            "grid_gap": null,
            "grid_row": null,
            "grid_template_areas": null,
            "grid_template_columns": null,
            "grid_template_rows": null,
            "height": null,
            "justify_content": null,
            "justify_items": null,
            "left": null,
            "margin": null,
            "max_height": null,
            "max_width": null,
            "min_height": null,
            "min_width": null,
            "object_fit": null,
            "object_position": null,
            "order": null,
            "overflow": null,
            "overflow_x": null,
            "overflow_y": null,
            "padding": null,
            "right": null,
            "top": null,
            "visibility": null,
            "width": null
          }
        },
        "18fec5207779448e87b821e48ad975f6": {
          "model_module": "@jupyter-widgets/base",
          "model_name": "LayoutModel",
          "model_module_version": "1.2.0",
          "state": {
            "_model_module": "@jupyter-widgets/base",
            "_model_module_version": "1.2.0",
            "_model_name": "LayoutModel",
            "_view_count": null,
            "_view_module": "@jupyter-widgets/base",
            "_view_module_version": "1.2.0",
            "_view_name": "LayoutView",
            "align_content": null,
            "align_items": null,
            "align_self": null,
            "border": null,
            "bottom": null,
            "display": null,
            "flex": null,
            "flex_flow": null,
            "grid_area": null,
            "grid_auto_columns": null,
            "grid_auto_flow": null,
            "grid_auto_rows": null,
            "grid_column": null,
            "grid_gap": null,
            "grid_row": null,
            "grid_template_areas": null,
            "grid_template_columns": null,
            "grid_template_rows": null,
            "height": null,
            "justify_content": null,
            "justify_items": null,
            "left": null,
            "margin": null,
            "max_height": null,
            "max_width": null,
            "min_height": null,
            "min_width": null,
            "object_fit": null,
            "object_position": null,
            "order": null,
            "overflow": null,
            "overflow_x": null,
            "overflow_y": null,
            "padding": null,
            "right": null,
            "top": null,
            "visibility": null,
            "width": null
          }
        },
        "6c499f4ffa424686a647aeb27427957c": {
          "model_module": "@jupyter-widgets/controls",
          "model_name": "DescriptionStyleModel",
          "model_module_version": "1.5.0",
          "state": {
            "_model_module": "@jupyter-widgets/controls",
            "_model_module_version": "1.5.0",
            "_model_name": "DescriptionStyleModel",
            "_view_count": null,
            "_view_module": "@jupyter-widgets/base",
            "_view_module_version": "1.2.0",
            "_view_name": "StyleView",
            "description_width": ""
          }
        },
        "178c9dc9ffaf4d0aa17beb3e7a16843a": {
          "model_module": "@jupyter-widgets/base",
          "model_name": "LayoutModel",
          "model_module_version": "1.2.0",
          "state": {
            "_model_module": "@jupyter-widgets/base",
            "_model_module_version": "1.2.0",
            "_model_name": "LayoutModel",
            "_view_count": null,
            "_view_module": "@jupyter-widgets/base",
            "_view_module_version": "1.2.0",
            "_view_name": "LayoutView",
            "align_content": null,
            "align_items": null,
            "align_self": null,
            "border": null,
            "bottom": null,
            "display": null,
            "flex": null,
            "flex_flow": null,
            "grid_area": null,
            "grid_auto_columns": null,
            "grid_auto_flow": null,
            "grid_auto_rows": null,
            "grid_column": null,
            "grid_gap": null,
            "grid_row": null,
            "grid_template_areas": null,
            "grid_template_columns": null,
            "grid_template_rows": null,
            "height": null,
            "justify_content": null,
            "justify_items": null,
            "left": null,
            "margin": null,
            "max_height": null,
            "max_width": null,
            "min_height": null,
            "min_width": null,
            "object_fit": null,
            "object_position": null,
            "order": null,
            "overflow": null,
            "overflow_x": null,
            "overflow_y": null,
            "padding": null,
            "right": null,
            "top": null,
            "visibility": null,
            "width": null
          }
        },
        "0ddf8bdf34df4924b16aa009fff03e41": {
          "model_module": "@jupyter-widgets/controls",
          "model_name": "ProgressStyleModel",
          "model_module_version": "1.5.0",
          "state": {
            "_model_module": "@jupyter-widgets/controls",
            "_model_module_version": "1.5.0",
            "_model_name": "ProgressStyleModel",
            "_view_count": null,
            "_view_module": "@jupyter-widgets/base",
            "_view_module_version": "1.2.0",
            "_view_name": "StyleView",
            "bar_color": null,
            "description_width": ""
          }
        },
        "270573066bcd4b83b4675dc911b6947d": {
          "model_module": "@jupyter-widgets/base",
          "model_name": "LayoutModel",
          "model_module_version": "1.2.0",
          "state": {
            "_model_module": "@jupyter-widgets/base",
            "_model_module_version": "1.2.0",
            "_model_name": "LayoutModel",
            "_view_count": null,
            "_view_module": "@jupyter-widgets/base",
            "_view_module_version": "1.2.0",
            "_view_name": "LayoutView",
            "align_content": null,
            "align_items": null,
            "align_self": null,
            "border": null,
            "bottom": null,
            "display": null,
            "flex": null,
            "flex_flow": null,
            "grid_area": null,
            "grid_auto_columns": null,
            "grid_auto_flow": null,
            "grid_auto_rows": null,
            "grid_column": null,
            "grid_gap": null,
            "grid_row": null,
            "grid_template_areas": null,
            "grid_template_columns": null,
            "grid_template_rows": null,
            "height": null,
            "justify_content": null,
            "justify_items": null,
            "left": null,
            "margin": null,
            "max_height": null,
            "max_width": null,
            "min_height": null,
            "min_width": null,
            "object_fit": null,
            "object_position": null,
            "order": null,
            "overflow": null,
            "overflow_x": null,
            "overflow_y": null,
            "padding": null,
            "right": null,
            "top": null,
            "visibility": null,
            "width": null
          }
        },
        "1fde047215dc4a24a9c8eaf315c1abf1": {
          "model_module": "@jupyter-widgets/controls",
          "model_name": "DescriptionStyleModel",
          "model_module_version": "1.5.0",
          "state": {
            "_model_module": "@jupyter-widgets/controls",
            "_model_module_version": "1.5.0",
            "_model_name": "DescriptionStyleModel",
            "_view_count": null,
            "_view_module": "@jupyter-widgets/base",
            "_view_module_version": "1.2.0",
            "_view_name": "StyleView",
            "description_width": ""
          }
        },
        "66197795e6244778bfc613b39b951e89": {
          "model_module": "@jupyter-widgets/controls",
          "model_name": "HBoxModel",
          "model_module_version": "1.5.0",
          "state": {
            "_dom_classes": [],
            "_model_module": "@jupyter-widgets/controls",
            "_model_module_version": "1.5.0",
            "_model_name": "HBoxModel",
            "_view_count": null,
            "_view_module": "@jupyter-widgets/controls",
            "_view_module_version": "1.5.0",
            "_view_name": "HBoxView",
            "box_style": "",
            "children": [
              "IPY_MODEL_2994eb85b45b4c2fb1b8ef13a5da4b35",
              "IPY_MODEL_7191fe687ec64ade92094318d5a9b6b3",
              "IPY_MODEL_300caaf0f8934514b7d6b504fb09a5d4"
            ],
            "layout": "IPY_MODEL_80911f367af240ed81dce3c7d0c22a89"
          }
        },
        "2994eb85b45b4c2fb1b8ef13a5da4b35": {
          "model_module": "@jupyter-widgets/controls",
          "model_name": "HTMLModel",
          "model_module_version": "1.5.0",
          "state": {
            "_dom_classes": [],
            "_model_module": "@jupyter-widgets/controls",
            "_model_module_version": "1.5.0",
            "_model_name": "HTMLModel",
            "_view_count": null,
            "_view_module": "@jupyter-widgets/controls",
            "_view_module_version": "1.5.0",
            "_view_name": "HTMLView",
            "description": "",
            "description_tooltip": null,
            "layout": "IPY_MODEL_f3d9b438a7094d4ea807d67b30edd3d2",
            "placeholder": "​",
            "style": "IPY_MODEL_22db3b9adde94b21bd237510d9317343",
            "value": "Downloading: 100%"
          }
        },
        "7191fe687ec64ade92094318d5a9b6b3": {
          "model_module": "@jupyter-widgets/controls",
          "model_name": "FloatProgressModel",
          "model_module_version": "1.5.0",
          "state": {
            "_dom_classes": [],
            "_model_module": "@jupyter-widgets/controls",
            "_model_module_version": "1.5.0",
            "_model_name": "FloatProgressModel",
            "_view_count": null,
            "_view_module": "@jupyter-widgets/controls",
            "_view_module_version": "1.5.0",
            "_view_name": "ProgressView",
            "bar_style": "success",
            "description": "",
            "description_tooltip": null,
            "layout": "IPY_MODEL_d5bc3e07d1ae4c639ffbc686e0752482",
            "max": 112,
            "min": 0,
            "orientation": "horizontal",
            "style": "IPY_MODEL_a691e5d3028b4c7a8fea653f7a8da45c",
            "value": 112
          }
        },
        "300caaf0f8934514b7d6b504fb09a5d4": {
          "model_module": "@jupyter-widgets/controls",
          "model_name": "HTMLModel",
          "model_module_version": "1.5.0",
          "state": {
            "_dom_classes": [],
            "_model_module": "@jupyter-widgets/controls",
            "_model_module_version": "1.5.0",
            "_model_name": "HTMLModel",
            "_view_count": null,
            "_view_module": "@jupyter-widgets/controls",
            "_view_module_version": "1.5.0",
            "_view_name": "HTMLView",
            "description": "",
            "description_tooltip": null,
            "layout": "IPY_MODEL_712fc570dd01415c91c19bbc64e6b29d",
            "placeholder": "​",
            "style": "IPY_MODEL_f8d00c71108045dc9ea80ff716697d9f",
            "value": " 112/112 [00:00&lt;00:00, 3.50kB/s]"
          }
        },
        "80911f367af240ed81dce3c7d0c22a89": {
          "model_module": "@jupyter-widgets/base",
          "model_name": "LayoutModel",
          "model_module_version": "1.2.0",
          "state": {
            "_model_module": "@jupyter-widgets/base",
            "_model_module_version": "1.2.0",
            "_model_name": "LayoutModel",
            "_view_count": null,
            "_view_module": "@jupyter-widgets/base",
            "_view_module_version": "1.2.0",
            "_view_name": "LayoutView",
            "align_content": null,
            "align_items": null,
            "align_self": null,
            "border": null,
            "bottom": null,
            "display": null,
            "flex": null,
            "flex_flow": null,
            "grid_area": null,
            "grid_auto_columns": null,
            "grid_auto_flow": null,
            "grid_auto_rows": null,
            "grid_column": null,
            "grid_gap": null,
            "grid_row": null,
            "grid_template_areas": null,
            "grid_template_columns": null,
            "grid_template_rows": null,
            "height": null,
            "justify_content": null,
            "justify_items": null,
            "left": null,
            "margin": null,
            "max_height": null,
            "max_width": null,
            "min_height": null,
            "min_width": null,
            "object_fit": null,
            "object_position": null,
            "order": null,
            "overflow": null,
            "overflow_x": null,
            "overflow_y": null,
            "padding": null,
            "right": null,
            "top": null,
            "visibility": null,
            "width": null
          }
        },
        "f3d9b438a7094d4ea807d67b30edd3d2": {
          "model_module": "@jupyter-widgets/base",
          "model_name": "LayoutModel",
          "model_module_version": "1.2.0",
          "state": {
            "_model_module": "@jupyter-widgets/base",
            "_model_module_version": "1.2.0",
            "_model_name": "LayoutModel",
            "_view_count": null,
            "_view_module": "@jupyter-widgets/base",
            "_view_module_version": "1.2.0",
            "_view_name": "LayoutView",
            "align_content": null,
            "align_items": null,
            "align_self": null,
            "border": null,
            "bottom": null,
            "display": null,
            "flex": null,
            "flex_flow": null,
            "grid_area": null,
            "grid_auto_columns": null,
            "grid_auto_flow": null,
            "grid_auto_rows": null,
            "grid_column": null,
            "grid_gap": null,
            "grid_row": null,
            "grid_template_areas": null,
            "grid_template_columns": null,
            "grid_template_rows": null,
            "height": null,
            "justify_content": null,
            "justify_items": null,
            "left": null,
            "margin": null,
            "max_height": null,
            "max_width": null,
            "min_height": null,
            "min_width": null,
            "object_fit": null,
            "object_position": null,
            "order": null,
            "overflow": null,
            "overflow_x": null,
            "overflow_y": null,
            "padding": null,
            "right": null,
            "top": null,
            "visibility": null,
            "width": null
          }
        },
        "22db3b9adde94b21bd237510d9317343": {
          "model_module": "@jupyter-widgets/controls",
          "model_name": "DescriptionStyleModel",
          "model_module_version": "1.5.0",
          "state": {
            "_model_module": "@jupyter-widgets/controls",
            "_model_module_version": "1.5.0",
            "_model_name": "DescriptionStyleModel",
            "_view_count": null,
            "_view_module": "@jupyter-widgets/base",
            "_view_module_version": "1.2.0",
            "_view_name": "StyleView",
            "description_width": ""
          }
        },
        "d5bc3e07d1ae4c639ffbc686e0752482": {
          "model_module": "@jupyter-widgets/base",
          "model_name": "LayoutModel",
          "model_module_version": "1.2.0",
          "state": {
            "_model_module": "@jupyter-widgets/base",
            "_model_module_version": "1.2.0",
            "_model_name": "LayoutModel",
            "_view_count": null,
            "_view_module": "@jupyter-widgets/base",
            "_view_module_version": "1.2.0",
            "_view_name": "LayoutView",
            "align_content": null,
            "align_items": null,
            "align_self": null,
            "border": null,
            "bottom": null,
            "display": null,
            "flex": null,
            "flex_flow": null,
            "grid_area": null,
            "grid_auto_columns": null,
            "grid_auto_flow": null,
            "grid_auto_rows": null,
            "grid_column": null,
            "grid_gap": null,
            "grid_row": null,
            "grid_template_areas": null,
            "grid_template_columns": null,
            "grid_template_rows": null,
            "height": null,
            "justify_content": null,
            "justify_items": null,
            "left": null,
            "margin": null,
            "max_height": null,
            "max_width": null,
            "min_height": null,
            "min_width": null,
            "object_fit": null,
            "object_position": null,
            "order": null,
            "overflow": null,
            "overflow_x": null,
            "overflow_y": null,
            "padding": null,
            "right": null,
            "top": null,
            "visibility": null,
            "width": null
          }
        },
        "a691e5d3028b4c7a8fea653f7a8da45c": {
          "model_module": "@jupyter-widgets/controls",
          "model_name": "ProgressStyleModel",
          "model_module_version": "1.5.0",
          "state": {
            "_model_module": "@jupyter-widgets/controls",
            "_model_module_version": "1.5.0",
            "_model_name": "ProgressStyleModel",
            "_view_count": null,
            "_view_module": "@jupyter-widgets/base",
            "_view_module_version": "1.2.0",
            "_view_name": "StyleView",
            "bar_color": null,
            "description_width": ""
          }
        },
        "712fc570dd01415c91c19bbc64e6b29d": {
          "model_module": "@jupyter-widgets/base",
          "model_name": "LayoutModel",
          "model_module_version": "1.2.0",
          "state": {
            "_model_module": "@jupyter-widgets/base",
            "_model_module_version": "1.2.0",
            "_model_name": "LayoutModel",
            "_view_count": null,
            "_view_module": "@jupyter-widgets/base",
            "_view_module_version": "1.2.0",
            "_view_name": "LayoutView",
            "align_content": null,
            "align_items": null,
            "align_self": null,
            "border": null,
            "bottom": null,
            "display": null,
            "flex": null,
            "flex_flow": null,
            "grid_area": null,
            "grid_auto_columns": null,
            "grid_auto_flow": null,
            "grid_auto_rows": null,
            "grid_column": null,
            "grid_gap": null,
            "grid_row": null,
            "grid_template_areas": null,
            "grid_template_columns": null,
            "grid_template_rows": null,
            "height": null,
            "justify_content": null,
            "justify_items": null,
            "left": null,
            "margin": null,
            "max_height": null,
            "max_width": null,
            "min_height": null,
            "min_width": null,
            "object_fit": null,
            "object_position": null,
            "order": null,
            "overflow": null,
            "overflow_x": null,
            "overflow_y": null,
            "padding": null,
            "right": null,
            "top": null,
            "visibility": null,
            "width": null
          }
        },
        "f8d00c71108045dc9ea80ff716697d9f": {
          "model_module": "@jupyter-widgets/controls",
          "model_name": "DescriptionStyleModel",
          "model_module_version": "1.5.0",
          "state": {
            "_model_module": "@jupyter-widgets/controls",
            "_model_module_version": "1.5.0",
            "_model_name": "DescriptionStyleModel",
            "_view_count": null,
            "_view_module": "@jupyter-widgets/base",
            "_view_module_version": "1.2.0",
            "_view_name": "StyleView",
            "description_width": ""
          }
        }
      }
    }
  },
  "cells": [
    {
      "cell_type": "markdown",
      "metadata": {
        "id": "view-in-github",
        "colab_type": "text"
      },
      "source": [
        "<a href=\"https://colab.research.google.com/github/hantedyou/kccnlpClass/blob/main/TrainModelRoberta.ipynb\" target=\"_parent\"><img src=\"https://colab.research.google.com/assets/colab-badge.svg\" alt=\"Open In Colab\"/></a>"
      ]
    },
    {
      "cell_type": "code",
      "source": [
        "!pip install transformers\n",
        "!pip install seaborn"
      ],
      "metadata": {
        "id": "CN6XdeiVjpFt",
        "colab": {
          "base_uri": "https://localhost:8080/"
        },
        "outputId": "9be2adc0-ded9-4715-8385-8161dcbcb6a3"
      },
      "execution_count": null,
      "outputs": [
        {
          "output_type": "stream",
          "name": "stdout",
          "text": [
            "Looking in indexes: https://pypi.org/simple, https://us-python.pkg.dev/colab-wheels/public/simple/\n",
            "Collecting transformers\n",
            "  Downloading transformers-4.20.1-py3-none-any.whl (4.4 MB)\n",
            "\u001b[K     |████████████████████████████████| 4.4 MB 8.2 MB/s \n",
            "\u001b[?25hCollecting pyyaml>=5.1\n",
            "  Downloading PyYAML-6.0-cp37-cp37m-manylinux_2_5_x86_64.manylinux1_x86_64.manylinux_2_12_x86_64.manylinux2010_x86_64.whl (596 kB)\n",
            "\u001b[K     |████████████████████████████████| 596 kB 58.8 MB/s \n",
            "\u001b[?25hCollecting huggingface-hub<1.0,>=0.1.0\n",
            "  Downloading huggingface_hub-0.8.1-py3-none-any.whl (101 kB)\n",
            "\u001b[K     |████████████████████████████████| 101 kB 11.5 MB/s \n",
            "\u001b[?25hRequirement already satisfied: numpy>=1.17 in /usr/local/lib/python3.7/dist-packages (from transformers) (1.21.6)\n",
            "Collecting tokenizers!=0.11.3,<0.13,>=0.11.1\n",
            "  Downloading tokenizers-0.12.1-cp37-cp37m-manylinux_2_12_x86_64.manylinux2010_x86_64.whl (6.6 MB)\n",
            "\u001b[K     |████████████████████████████████| 6.6 MB 32.8 MB/s \n",
            "\u001b[?25hRequirement already satisfied: tqdm>=4.27 in /usr/local/lib/python3.7/dist-packages (from transformers) (4.64.0)\n",
            "Requirement already satisfied: packaging>=20.0 in /usr/local/lib/python3.7/dist-packages (from transformers) (21.3)\n",
            "Requirement already satisfied: regex!=2019.12.17 in /usr/local/lib/python3.7/dist-packages (from transformers) (2022.6.2)\n",
            "Requirement already satisfied: requests in /usr/local/lib/python3.7/dist-packages (from transformers) (2.23.0)\n",
            "Requirement already satisfied: importlib-metadata in /usr/local/lib/python3.7/dist-packages (from transformers) (4.12.0)\n",
            "Requirement already satisfied: filelock in /usr/local/lib/python3.7/dist-packages (from transformers) (3.7.1)\n",
            "Requirement already satisfied: typing-extensions>=3.7.4.3 in /usr/local/lib/python3.7/dist-packages (from huggingface-hub<1.0,>=0.1.0->transformers) (4.1.1)\n",
            "Requirement already satisfied: pyparsing!=3.0.5,>=2.0.2 in /usr/local/lib/python3.7/dist-packages (from packaging>=20.0->transformers) (3.0.9)\n",
            "Requirement already satisfied: zipp>=0.5 in /usr/local/lib/python3.7/dist-packages (from importlib-metadata->transformers) (3.8.0)\n",
            "Requirement already satisfied: idna<3,>=2.5 in /usr/local/lib/python3.7/dist-packages (from requests->transformers) (2.10)\n",
            "Requirement already satisfied: certifi>=2017.4.17 in /usr/local/lib/python3.7/dist-packages (from requests->transformers) (2022.6.15)\n",
            "Requirement already satisfied: urllib3!=1.25.0,!=1.25.1,<1.26,>=1.21.1 in /usr/local/lib/python3.7/dist-packages (from requests->transformers) (1.24.3)\n",
            "Requirement already satisfied: chardet<4,>=3.0.2 in /usr/local/lib/python3.7/dist-packages (from requests->transformers) (3.0.4)\n",
            "Installing collected packages: pyyaml, tokenizers, huggingface-hub, transformers\n",
            "  Attempting uninstall: pyyaml\n",
            "    Found existing installation: PyYAML 3.13\n",
            "    Uninstalling PyYAML-3.13:\n",
            "      Successfully uninstalled PyYAML-3.13\n",
            "Successfully installed huggingface-hub-0.8.1 pyyaml-6.0 tokenizers-0.12.1 transformers-4.20.1\n",
            "Looking in indexes: https://pypi.org/simple, https://us-python.pkg.dev/colab-wheels/public/simple/\n",
            "Requirement already satisfied: seaborn in /usr/local/lib/python3.7/dist-packages (0.11.2)\n",
            "Requirement already satisfied: scipy>=1.0 in /usr/local/lib/python3.7/dist-packages (from seaborn) (1.5.4)\n",
            "Requirement already satisfied: matplotlib>=2.2 in /usr/local/lib/python3.7/dist-packages (from seaborn) (3.2.2)\n",
            "Requirement already satisfied: numpy>=1.15 in /usr/local/lib/python3.7/dist-packages (from seaborn) (1.21.6)\n",
            "Requirement already satisfied: pandas>=0.23 in /usr/local/lib/python3.7/dist-packages (from seaborn) (1.3.5)\n",
            "Requirement already satisfied: cycler>=0.10 in /usr/local/lib/python3.7/dist-packages (from matplotlib>=2.2->seaborn) (0.11.0)\n",
            "Requirement already satisfied: kiwisolver>=1.0.1 in /usr/local/lib/python3.7/dist-packages (from matplotlib>=2.2->seaborn) (1.4.3)\n",
            "Requirement already satisfied: python-dateutil>=2.1 in /usr/local/lib/python3.7/dist-packages (from matplotlib>=2.2->seaborn) (2.8.2)\n",
            "Requirement already satisfied: pyparsing!=2.0.4,!=2.1.2,!=2.1.6,>=2.0.1 in /usr/local/lib/python3.7/dist-packages (from matplotlib>=2.2->seaborn) (3.0.9)\n",
            "Requirement already satisfied: typing-extensions in /usr/local/lib/python3.7/dist-packages (from kiwisolver>=1.0.1->matplotlib>=2.2->seaborn) (4.1.1)\n",
            "Requirement already satisfied: pytz>=2017.3 in /usr/local/lib/python3.7/dist-packages (from pandas>=0.23->seaborn) (2022.1)\n",
            "Requirement already satisfied: six>=1.5 in /usr/local/lib/python3.7/dist-packages (from python-dateutil>=2.1->matplotlib>=2.2->seaborn) (1.15.0)\n"
          ]
        }
      ]
    },
    {
      "cell_type": "code",
      "source": [
        "!nvidia-smi"
      ],
      "metadata": {
        "colab": {
          "base_uri": "https://localhost:8080/"
        },
        "id": "G9V5IV3xQh__",
        "outputId": "c5c8ef75-cbe3-49a8-ec4a-3b17c7fba0de"
      },
      "execution_count": null,
      "outputs": [
        {
          "output_type": "stream",
          "name": "stdout",
          "text": [
            "Wed Jul 13 06:31:48 2022       \n",
            "+-----------------------------------------------------------------------------+\n",
            "| NVIDIA-SMI 460.32.03    Driver Version: 460.32.03    CUDA Version: 11.2     |\n",
            "|-------------------------------+----------------------+----------------------+\n",
            "| GPU  Name        Persistence-M| Bus-Id        Disp.A | Volatile Uncorr. ECC |\n",
            "| Fan  Temp  Perf  Pwr:Usage/Cap|         Memory-Usage | GPU-Util  Compute M. |\n",
            "|                               |                      |               MIG M. |\n",
            "|===============================+======================+======================|\n",
            "|   0  Tesla P100-PCIE...  Off  | 00000000:00:04.0 Off |                    0 |\n",
            "| N/A   48C    P0    34W / 250W |  12771MiB / 16280MiB |      0%      Default |\n",
            "|                               |                      |                  N/A |\n",
            "+-------------------------------+----------------------+----------------------+\n",
            "                                                                               \n",
            "+-----------------------------------------------------------------------------+\n",
            "| Processes:                                                                  |\n",
            "|  GPU   GI   CI        PID   Type   Process name                  GPU Memory |\n",
            "|        ID   ID                                                   Usage      |\n",
            "|=============================================================================|\n",
            "+-----------------------------------------------------------------------------+\n"
          ]
        }
      ]
    },
    {
      "cell_type": "code",
      "source": [
        "import numpy as np \n",
        "import pandas as pd\n",
        "import matplotlib.pyplot as plt\n",
        "import seaborn as sns\n",
        "import os, sys\n",
        "from google.colab import drive"
      ],
      "metadata": {
        "id": "w_rhP2-ZMX4j"
      },
      "execution_count": null,
      "outputs": []
    },
    {
      "cell_type": "code",
      "source": [
        "ROOT = '/content/drive'     # default for the drive\n",
        "PROJ = 'My Drive/kcc/KCCNLP2022_shared'       # path to your project on Drive\n",
        "\n",
        "#drive.mount(ROOT)           \n",
        "PROJECT_PATH = os.path.join(ROOT, PROJ)  \n",
        "print(PROJECT_PATH)\n",
        "os.chdir(PROJECT_PATH)\n",
        "os.listdir()[:10]"
      ],
      "metadata": {
        "id": "llbNqX2vi1Bb",
        "colab": {
          "base_uri": "https://localhost:8080/"
        },
        "outputId": "48c1f617-8b75-42d5-f050-4ddcb62c0c4f"
      },
      "execution_count": null,
      "outputs": [
        {
          "output_type": "stream",
          "name": "stdout",
          "text": [
            "/content/drive/My Drive/kcc/KCCNLP2022_shared\n"
          ]
        },
        {
          "output_type": "execute_result",
          "data": {
            "text/plain": [
              "['model',\n",
              " 'data',\n",
              " 'result',\n",
              " 'predition_old_data.ipynb',\n",
              " 'predition.ipynb',\n",
              " 'ReadMe.gsheet',\n",
              " 'KCC NLP 20220712.gslides',\n",
              " '20220712_meeintg note.gdoc',\n",
              " 'DATA_EDA_2022',\n",
              " 'TrainModelRoberta.ipynb']"
            ]
          },
          "metadata": {},
          "execution_count": 5
        }
      ]
    },
    {
      "cell_type": "markdown",
      "source": [
        "# 讀取資料"
      ],
      "metadata": {
        "id": "Lk4ywjje1Rpd"
      }
    },
    {
      "cell_type": "markdown",
      "source": [
        "# 原始檔編號好像有重複"
      ],
      "metadata": {
        "id": "-oeUjaFw1Hcv"
      }
    },
    {
      "cell_type": "code",
      "source": [
        "path_data3k = r\"data/data_3000.csv\"\n",
        "df = pd.read_csv(path_data3k)\n",
        "df_n = set(df['編號'])\n",
        "len(df_n)"
      ],
      "metadata": {
        "id": "uCvxlqKGy8eb",
        "colab": {
          "base_uri": "https://localhost:8080/"
        },
        "outputId": "e8006ae6-bfc0-43f1-95ac-c8c7f35e5171"
      },
      "execution_count": null,
      "outputs": [
        {
          "output_type": "execute_result",
          "data": {
            "text/plain": [
              "2912"
            ]
          },
          "metadata": {},
          "execution_count": 11
        }
      ]
    },
    {
      "cell_type": "code",
      "source": [
        "#path_data3k = r\"data/data_3000.csv\"\n",
        "path_old_data = r\"data/2020CisDep-10501-類別轉換.csv\"\n",
        "df = pd.read_csv(path_old_data,index_col = 0)\n",
        "df.head()"
      ],
      "metadata": {
        "id": "Vm8lI8dFXgVw",
        "colab": {
          "base_uri": "https://localhost:8080/",
          "height": 206
        },
        "outputId": "8642c6ed-e79d-4b0f-f397-53ae8f8b14e8"
      },
      "execution_count": null,
      "outputs": [
        {
          "output_type": "execute_result",
          "data": {
            "text/plain": [
              "   編號  類別  分類                                                 內容  舊分類\n",
              "0   1  新聞  20  壽山動物園為增進動物飼養福祉及保育工作，特設立「高雄市壽山動物園認養辦法」設立動物認養專戶，...   26\n",
              "1   2  新聞  10  高雄翻轉須新政府全面力挺高雄市長陳菊日前在市議會做施政報告時指出，翻轉產業高雄的使命責任，面...   61\n",
              "2   3  新聞   1  台塑企業回饋地方藝文活動，週六晚間在高雄市仁武區運動公園登場，明華園歌仔戲團演出逐鹿中原戲碼...   18\n",
              "3   4  新聞   3  也談赦扁暗公鳥近來特赦阿扁呼聲不斷，台南與高雄市議會及醫界相繼呼籲馬英九特赦陳水扁。馬是繫鈴...   10\n",
              "4   5  新聞   4  高雄道德院在甲仙區有占地三十甲甲仙道場，每季高雄道德院住持三清太乙大宗師翁太明會率出家眾及信...   52"
            ],
            "text/html": [
              "\n",
              "  <div id=\"df-eadad4bc-1739-47d9-8067-7b53da86ef36\">\n",
              "    <div class=\"colab-df-container\">\n",
              "      <div>\n",
              "<style scoped>\n",
              "    .dataframe tbody tr th:only-of-type {\n",
              "        vertical-align: middle;\n",
              "    }\n",
              "\n",
              "    .dataframe tbody tr th {\n",
              "        vertical-align: top;\n",
              "    }\n",
              "\n",
              "    .dataframe thead th {\n",
              "        text-align: right;\n",
              "    }\n",
              "</style>\n",
              "<table border=\"1\" class=\"dataframe\">\n",
              "  <thead>\n",
              "    <tr style=\"text-align: right;\">\n",
              "      <th></th>\n",
              "      <th>編號</th>\n",
              "      <th>類別</th>\n",
              "      <th>分類</th>\n",
              "      <th>內容</th>\n",
              "      <th>舊分類</th>\n",
              "    </tr>\n",
              "  </thead>\n",
              "  <tbody>\n",
              "    <tr>\n",
              "      <th>0</th>\n",
              "      <td>1</td>\n",
              "      <td>新聞</td>\n",
              "      <td>20</td>\n",
              "      <td>壽山動物園為增進動物飼養福祉及保育工作，特設立「高雄市壽山動物園認養辦法」設立動物認養專戶，...</td>\n",
              "      <td>26</td>\n",
              "    </tr>\n",
              "    <tr>\n",
              "      <th>1</th>\n",
              "      <td>2</td>\n",
              "      <td>新聞</td>\n",
              "      <td>10</td>\n",
              "      <td>高雄翻轉須新政府全面力挺高雄市長陳菊日前在市議會做施政報告時指出，翻轉產業高雄的使命責任，面...</td>\n",
              "      <td>61</td>\n",
              "    </tr>\n",
              "    <tr>\n",
              "      <th>2</th>\n",
              "      <td>3</td>\n",
              "      <td>新聞</td>\n",
              "      <td>1</td>\n",
              "      <td>台塑企業回饋地方藝文活動，週六晚間在高雄市仁武區運動公園登場，明華園歌仔戲團演出逐鹿中原戲碼...</td>\n",
              "      <td>18</td>\n",
              "    </tr>\n",
              "    <tr>\n",
              "      <th>3</th>\n",
              "      <td>4</td>\n",
              "      <td>新聞</td>\n",
              "      <td>3</td>\n",
              "      <td>也談赦扁暗公鳥近來特赦阿扁呼聲不斷，台南與高雄市議會及醫界相繼呼籲馬英九特赦陳水扁。馬是繫鈴...</td>\n",
              "      <td>10</td>\n",
              "    </tr>\n",
              "    <tr>\n",
              "      <th>4</th>\n",
              "      <td>5</td>\n",
              "      <td>新聞</td>\n",
              "      <td>4</td>\n",
              "      <td>高雄道德院在甲仙區有占地三十甲甲仙道場，每季高雄道德院住持三清太乙大宗師翁太明會率出家眾及信...</td>\n",
              "      <td>52</td>\n",
              "    </tr>\n",
              "  </tbody>\n",
              "</table>\n",
              "</div>\n",
              "      <button class=\"colab-df-convert\" onclick=\"convertToInteractive('df-eadad4bc-1739-47d9-8067-7b53da86ef36')\"\n",
              "              title=\"Convert this dataframe to an interactive table.\"\n",
              "              style=\"display:none;\">\n",
              "        \n",
              "  <svg xmlns=\"http://www.w3.org/2000/svg\" height=\"24px\"viewBox=\"0 0 24 24\"\n",
              "       width=\"24px\">\n",
              "    <path d=\"M0 0h24v24H0V0z\" fill=\"none\"/>\n",
              "    <path d=\"M18.56 5.44l.94 2.06.94-2.06 2.06-.94-2.06-.94-.94-2.06-.94 2.06-2.06.94zm-11 1L8.5 8.5l.94-2.06 2.06-.94-2.06-.94L8.5 2.5l-.94 2.06-2.06.94zm10 10l.94 2.06.94-2.06 2.06-.94-2.06-.94-.94-2.06-.94 2.06-2.06.94z\"/><path d=\"M17.41 7.96l-1.37-1.37c-.4-.4-.92-.59-1.43-.59-.52 0-1.04.2-1.43.59L10.3 9.45l-7.72 7.72c-.78.78-.78 2.05 0 2.83L4 21.41c.39.39.9.59 1.41.59.51 0 1.02-.2 1.41-.59l7.78-7.78 2.81-2.81c.8-.78.8-2.07 0-2.86zM5.41 20L4 18.59l7.72-7.72 1.47 1.35L5.41 20z\"/>\n",
              "  </svg>\n",
              "      </button>\n",
              "      \n",
              "  <style>\n",
              "    .colab-df-container {\n",
              "      display:flex;\n",
              "      flex-wrap:wrap;\n",
              "      gap: 12px;\n",
              "    }\n",
              "\n",
              "    .colab-df-convert {\n",
              "      background-color: #E8F0FE;\n",
              "      border: none;\n",
              "      border-radius: 50%;\n",
              "      cursor: pointer;\n",
              "      display: none;\n",
              "      fill: #1967D2;\n",
              "      height: 32px;\n",
              "      padding: 0 0 0 0;\n",
              "      width: 32px;\n",
              "    }\n",
              "\n",
              "    .colab-df-convert:hover {\n",
              "      background-color: #E2EBFA;\n",
              "      box-shadow: 0px 1px 2px rgba(60, 64, 67, 0.3), 0px 1px 3px 1px rgba(60, 64, 67, 0.15);\n",
              "      fill: #174EA6;\n",
              "    }\n",
              "\n",
              "    [theme=dark] .colab-df-convert {\n",
              "      background-color: #3B4455;\n",
              "      fill: #D2E3FC;\n",
              "    }\n",
              "\n",
              "    [theme=dark] .colab-df-convert:hover {\n",
              "      background-color: #434B5C;\n",
              "      box-shadow: 0px 1px 3px 1px rgba(0, 0, 0, 0.15);\n",
              "      filter: drop-shadow(0px 1px 2px rgba(0, 0, 0, 0.3));\n",
              "      fill: #FFFFFF;\n",
              "    }\n",
              "  </style>\n",
              "\n",
              "      <script>\n",
              "        const buttonEl =\n",
              "          document.querySelector('#df-eadad4bc-1739-47d9-8067-7b53da86ef36 button.colab-df-convert');\n",
              "        buttonEl.style.display =\n",
              "          google.colab.kernel.accessAllowed ? 'block' : 'none';\n",
              "\n",
              "        async function convertToInteractive(key) {\n",
              "          const element = document.querySelector('#df-eadad4bc-1739-47d9-8067-7b53da86ef36');\n",
              "          const dataTable =\n",
              "            await google.colab.kernel.invokeFunction('convertToInteractive',\n",
              "                                                     [key], {});\n",
              "          if (!dataTable) return;\n",
              "\n",
              "          const docLinkHtml = 'Like what you see? Visit the ' +\n",
              "            '<a target=\"_blank\" href=https://colab.research.google.com/notebooks/data_table.ipynb>data table notebook</a>'\n",
              "            + ' to learn more about interactive tables.';\n",
              "          element.innerHTML = '';\n",
              "          dataTable['output_type'] = 'display_data';\n",
              "          await google.colab.output.renderOutput(dataTable, element);\n",
              "          const docLink = document.createElement('div');\n",
              "          docLink.innerHTML = docLinkHtml;\n",
              "          element.appendChild(docLink);\n",
              "        }\n",
              "      </script>\n",
              "    </div>\n",
              "  </div>\n",
              "  "
            ]
          },
          "metadata": {},
          "execution_count": 12
        }
      ]
    },
    {
      "cell_type": "code",
      "source": [
        "print(df.columns)\n",
        "len(df)"
      ],
      "metadata": {
        "id": "TImcU33IXjIu",
        "colab": {
          "base_uri": "https://localhost:8080/"
        },
        "outputId": "b88376ac-affa-46d8-8d54-e39a10f76bc3"
      },
      "execution_count": null,
      "outputs": [
        {
          "output_type": "stream",
          "name": "stdout",
          "text": [
            "Index(['編號', '類別', '分類', '內容', '舊分類'], dtype='object')\n"
          ]
        },
        {
          "output_type": "execute_result",
          "data": {
            "text/plain": [
              "10144"
            ]
          },
          "metadata": {},
          "execution_count": 13
        }
      ]
    },
    {
      "cell_type": "markdown",
      "source": [
        "## 移除跟data 3000重複的資料"
      ],
      "metadata": {
        "id": "8aAe5_7Ehiq7"
      }
    },
    {
      "cell_type": "code",
      "source": [
        "print(len(df))\n",
        "df = df[~df['編號'].isin(df_n)]\n",
        "len(df)"
      ],
      "metadata": {
        "colab": {
          "base_uri": "https://localhost:8080/"
        },
        "id": "vVm2alA1hhSG",
        "outputId": "019bf50a-e5ab-4f33-ff52-da4559d44147"
      },
      "execution_count": null,
      "outputs": [
        {
          "output_type": "stream",
          "name": "stdout",
          "text": [
            "10144\n"
          ]
        },
        {
          "output_type": "execute_result",
          "data": {
            "text/plain": [
              "7256"
            ]
          },
          "metadata": {},
          "execution_count": 15
        }
      ]
    },
    {
      "cell_type": "markdown",
      "source": [
        "# 定義欄位名稱，因為來源檔命名不同\n",
        "\n",
        "---\n",
        "\n"
      ],
      "metadata": {
        "id": "Lb5TLXcKaOb2"
      }
    },
    {
      "cell_type": "code",
      "source": [
        "# 類別欄位名稱:y\n",
        "label_col_name = '分類'\n",
        "\n",
        "# 文本欄位名稱:x\n",
        "text_col_name = '內容'"
      ],
      "metadata": {
        "id": "AN9cRm5KX-eR"
      },
      "execution_count": null,
      "outputs": []
    },
    {
      "cell_type": "markdown",
      "source": [
        "## 隨機抽取validation data(跟下方一母體抽樣互斥)"
      ],
      "metadata": {
        "id": "IjrBXoulnk28"
      }
    },
    {
      "cell_type": "code",
      "source": [
        "\n",
        "# val_df = pd.read_csv('data/test_070401.csv')\n",
        "val_size = int(0.2 * len(df))\n",
        "val_df = df.sample(val_size)\n",
        "#val_number_list = val_df['編號'].to_list()\n",
        "val_number = tuple(val_df['編號'])\n",
        "\n",
        "# 從母體中移除val set\n",
        "df = df[~df['編號'].isin(val_number)]\n",
        "\n",
        "print(df.columns)\n",
        "print(val_df.columns)\n",
        "print(\"len of df :{}\\nlen of val_df : {}\".format(len(df), len(val_df)))\n",
        "#val_df[['編號','content']][:5]\n",
        "#df.head()"
      ],
      "metadata": {
        "id": "ZEf5TVHYMorL"
      },
      "execution_count": null,
      "outputs": []
    },
    {
      "cell_type": "markdown",
      "source": [
        "# 依據母體分布抽取 test data"
      ],
      "metadata": {
        "id": "cPgqxEFgYojR"
      }
    },
    {
      "cell_type": "code",
      "source": [
        "# 建立freq欄位，作為抽樣比例的依據\n",
        "df['freq'] = df.groupby(label_col_name)[label_col_name].transform('count')\n",
        "\n",
        "test_size = int(0.1 * len(df))\n",
        "test_df = df.sample(test_size,weights = df.freq)\n",
        "test_df.to_csv(\"tmp/test_2022071301.csv\")\n",
        "\n",
        "test_number = test_df['編號']\n",
        "\n",
        "print(\"處理前 df 長度:{}\".format(len(df)))\n",
        "print(\"測試資料長度:{}\".format(len(test_df)))\n",
        "# 從母體中移除test set\n",
        "df = df[~df['編號'].isin(test_number)]\n",
        "print(\"處理後 df 長度:{}\".format(len(df)))"
      ],
      "metadata": {
        "id": "kiM9--7lYnxv",
        "colab": {
          "base_uri": "https://localhost:8080/"
        },
        "outputId": "2f9af24f-4b67-4edc-fe60-5233095bf0a4"
      },
      "execution_count": null,
      "outputs": [
        {
          "output_type": "stream",
          "name": "stdout",
          "text": [
            "處理前 df 長度:7256\n",
            "測試資料長度:725\n",
            "處理後 df 長度:6531\n"
          ]
        }
      ]
    },
    {
      "cell_type": "markdown",
      "source": [
        "# 依據母體分布抽取validation data"
      ],
      "metadata": {
        "id": "cLhePHiinrl0"
      }
    },
    {
      "cell_type": "code",
      "source": [
        "# 建立freq欄位，作為抽樣比例的依據\n",
        "# df['freq'] = df.groupby(label_col_name)[label_col_name].transform('count')\n",
        "\n",
        "val_size = int(0.15 * len(df))\n",
        "val_df = df.sample(val_size,weights = df.freq)\n",
        "val_df.to_csv(\"tmp/val_2022071301.csv\")\n",
        "\n",
        "val_number = val_df['編號']\n",
        "\n",
        "print(\"處理前 df 長度:{}\".format(len(df)))\n",
        "print(\"驗證資料長度:{}\".format(len(val_df)))\n",
        "# 從母體中移除val set\n",
        "df = df[~df['編號'].isin(val_number)]\n",
        "print(\"處理後 df 長度:{}\".format(len(df)))"
      ],
      "metadata": {
        "id": "BrWJYpIhn7Wf",
        "colab": {
          "base_uri": "https://localhost:8080/"
        },
        "outputId": "cf06f121-db56-4f5e-b485-8d6022cb1b3c"
      },
      "execution_count": null,
      "outputs": [
        {
          "output_type": "stream",
          "name": "stdout",
          "text": [
            "處理前 df 長度:6531\n",
            "驗證資料長度:979\n",
            "處理後 df 長度:5552\n"
          ]
        }
      ]
    },
    {
      "cell_type": "markdown",
      "source": [
        "# 取得類別總數"
      ],
      "metadata": {
        "id": "99B1fgFJ_CXW"
      }
    },
    {
      "cell_type": "code",
      "source": [
        "class_ = set(df[label_col_name])\n",
        "#class_ = set(df['classes'])\n",
        "print(f'類別:{class_}')\n",
        "print(f'共{len(class_)}類')"
      ],
      "metadata": {
        "id": "8rIxj5BWPV-P",
        "colab": {
          "base_uri": "https://localhost:8080/"
        },
        "outputId": "6d47e355-fb19-472b-959a-aca4a49abf83"
      },
      "execution_count": null,
      "outputs": [
        {
          "output_type": "stream",
          "name": "stdout",
          "text": [
            "類別:{0, 1, 2, 3, 4, 5, 6, 7, 8, 9, 10, 11, 12, 13, 14, 15, 16, 17, 18, 19, 20, 21, 22, 23, 24, 25, 26, 27, 28, 29, 30, 31}\n",
            "共32類\n"
          ]
        }
      ]
    },
    {
      "cell_type": "code",
      "source": [
        "import seaborn as sns\n",
        "df['content_len'] = df[text_col_name].apply(lambda x: len(x))\n",
        "sns.boxplot(y = df['content_len'])"
      ],
      "metadata": {
        "id": "uF2NCPvK6BRx",
        "colab": {
          "base_uri": "https://localhost:8080/",
          "height": 269
        },
        "outputId": "578d3cf8-2bca-4eaa-dd87-a973f11c7185"
      },
      "execution_count": null,
      "outputs": [
        {
          "output_type": "execute_result",
          "data": {
            "text/plain": [
              "<matplotlib.axes._subplots.AxesSubplot at 0x7f6e682e4490>"
            ]
          },
          "metadata": {},
          "execution_count": 23
        },
        {
          "output_type": "display_data",
          "data": {
            "text/plain": [
              "<Figure size 432x288 with 1 Axes>"
            ],
            "image/png": "[encoded data removed]"
          },
          "metadata": {
            "needs_background": "light"
          }
        }
      ]
    },
    {
      "cell_type": "code",
      "source": [
        "from torch.utils.data import Dataset"
      ],
      "metadata": {
        "id": "CrqL-kw_30H1"
      },
      "execution_count": null,
      "outputs": []
    },
    {
      "cell_type": "code",
      "source": [
        "class MainData(Dataset):\n",
        "  def __init__(self, df, tokenizer) -> None:\n",
        "    super().__init__()\n",
        "    self.tokenizer = tokenizer\n",
        "    self.df = df\n",
        "  \n",
        "  def __getitem__(self, index):\n",
        "    text = self.df.iloc[index][text_col_name]\n",
        "    label = self.df.iloc[index][label_col_name]\n",
        "\n",
        "    token = self.tokenizer(text, padding=True, truncation=True, max_length=512)\n",
        "\n",
        "    input_ids = token['input_ids']\n",
        "    token_ids = token['token_type_ids']\n",
        "    attention_mask = token['attention_mask']\n",
        "    label = torch.tensor(label)\n",
        "\n",
        "    return (input_ids, token_ids, attention_mask, label)\n",
        "  \n",
        "  def __len__(self):\n",
        "    return len(self.df)\n",
        "    "
      ],
      "metadata": {
        "id": "jhRccJv04C-L"
      },
      "execution_count": null,
      "outputs": []
    },
    {
      "cell_type": "code",
      "source": [
        "from torch.nn.utils.rnn import pad_sequence\n",
        "\n",
        "def create_batch(datas):\n",
        "    input_ids = [torch.Tensor(i[0]) for i in datas]\n",
        "    token_type_ids = [torch.Tensor(i[1])for i in datas]\n",
        "    attention_mask = [torch.Tensor(i[2]) for i in datas]\n",
        "    \n",
        "    if datas[0][3] is not None:\n",
        "        labels = torch.stack([i[3] for i in datas])\n",
        "    else:\n",
        "        labels = None\n",
        "\n",
        "    input_ids_tensors = pad_sequence(input_ids, batch_first=True)\n",
        "    token_type_ids_tensors = pad_sequence(token_type_ids, batch_first=True)\n",
        "    masks_tensors = pad_sequence(attention_mask, batch_first=True)\n",
        "\n",
        "    input_ids_tensors      = input_ids_tensors.to(torch.long)\n",
        "    token_type_ids_tensors = token_type_ids_tensors.to(torch.long)\n",
        "    masks_tensors          = masks_tensors.to(torch.long)\n",
        "    \n",
        "    return input_ids_tensors, token_type_ids_tensors, masks_tensors, labels"
      ],
      "metadata": {
        "id": "KTL_0doT_LFG"
      },
      "execution_count": null,
      "outputs": []
    },
    {
      "cell_type": "code",
      "source": [
        "from torch import nn\n",
        "from transformers.modeling_outputs import TokenClassifierOutput\n",
        "\n",
        "class OurModel(nn.Module):\n",
        "  def __init__(self, ori_model, num_labels):\n",
        "    super(OurModel, self).__init__()\n",
        "    self.num_labels = num_labels\n",
        "\n",
        "    self.model = model = ori_model\n",
        "    self.dropout = nn.Dropout(0.1)\n",
        "    self.classifier = nn.Linear(768, num_labels)\n",
        "\n",
        "  def forward(self, input_ids=None, attention_mask=None, labels=None):\n",
        "    outputs = self.model(input_ids=input_ids, attention_mask=attention_mask)\n",
        "    layers = self.dropout(outputs[0])\n",
        "    logits = self.classifier(layers[:, 0, :].view(-1, 768))\n",
        "\n",
        "    loss = None\n",
        "    if labels is not None:\n",
        "      loss_fct = nn.CrossEntropyLoss()\n",
        "      loss = loss_fct(logits.view(-1, self.num_labels), labels.view(-1))\n",
        "    return TokenClassifierOutput(loss=loss, logits=logits, hidden_states=outputs.hidden_states,attentions=outputs.attentions)"
      ],
      "metadata": {
        "id": "uBGt34GOL3yN"
      },
      "execution_count": null,
      "outputs": []
    },
    {
      "cell_type": "code",
      "execution_count": null,
      "metadata": {
        "id": "fkLYBv80ioea"
      },
      "outputs": [],
      "source": [
        "from transformers import AutoModelForSequenceClassification, AutoTokenizer, AutoModel\n",
        "import torch"
      ]
    },
    {
      "cell_type": "code",
      "source": [
        "NAME = \"uer/roberta-base-finetuned-jd-full-chinese\"\n",
        "cls_model = AutoModelForSequenceClassification.from_pretrained(NAME)\n",
        "model = OurModel(AutoModel.from_pretrained(NAME), 32)\n",
        "\n",
        "tokenizer = AutoTokenizer.from_pretrained(NAME)"
      ],
      "metadata": {
        "id": "atwq7ki1j1eQ",
        "colab": {
          "base_uri": "https://localhost:8080/",
          "height": 249,
          "referenced_widgets": [
            "3b96218abf9442438901dcafcc67eb53",
            "f3502f4239354f70b0fefe2326eef69f",
            "7bb34f619a51489995d787dbaa55daa1",
            "0feabd2d38af4ce4b3e586901b9f632f",
            "7657faea6341406e949e44e11bed24c2",
            "0b030e3d8b3348b4b3db009276a2788a",
            "844d58d278b04f0daba8b758dbcf05f6",
            "e30e7c9a9c0e4866a022ba14dd264b76",
            "f3e7044ab9144abe8cd2f7bf093f5011",
            "26d8a2f8e2db4917a16cc9b0073a2594",
            "d857a111045e4a72b6cb2afc386d3157",
            "475aa5b193384aba917260b10e9ba1cc",
            "9c2495df71474bcba0b4fb714b9f99a7",
            "46473f8c2a09481691aa6d4889c59aa1",
            "e94b6028974e4ddc9efbe6c4cf0fdbec",
            "31dea94808604e5784e41c0b43a78324",
            "c61b20b092ea4a389e8027b74f7173c2",
            "f46ac49616ce4503b51eb2cbea21f44a",
            "62104b69ba1645419eb8f408fa66ad66",
            "ea3879109acc4e79b8fe28bedbb362bd",
            "c56303a62f08437b9c9d288965a8ee60",
            "77181d3f68c242a0aa622abda868bfb9",
            "d37f701bc1d04511a158ec4802367fdf",
            "a83f6a811d9d424088d7657415b5ea67",
            "eb6c541edfeb42a5b70f2e746ba0eda1",
            "af5ce1840d764f048ec53edc8f6c9b7e",
            "efef91e6354345f7bed02e68a78d786f",
            "8afbc1553ccd4cc4ab76fb269eea007c",
            "1b4c7fdcc4464e84937ba34025c306de",
            "275e4672e9ce4adbad667be7931c355d",
            "75eb052e87fb4d8799cfafbdedadbb42",
            "d959d46ed2a24575b6c4ba47148b347a",
            "47ad2403ae99430cb41e0d8355b425db",
            "3b277a7cc69d42638c50521302d94402",
            "c1b2f2748aeb4e398bb5dba2228427b6",
            "980cfefedab0427f8654da0ee7f5575f",
            "41c175a9dad84cecb5eeff231f36b408",
            "22385f81aa0947d3bc418ede088d3c4f",
            "18fec5207779448e87b821e48ad975f6",
            "6c499f4ffa424686a647aeb27427957c",
            "178c9dc9ffaf4d0aa17beb3e7a16843a",
            "0ddf8bdf34df4924b16aa009fff03e41",
            "270573066bcd4b83b4675dc911b6947d",
            "1fde047215dc4a24a9c8eaf315c1abf1",
            "66197795e6244778bfc613b39b951e89",
            "2994eb85b45b4c2fb1b8ef13a5da4b35",
            "7191fe687ec64ade92094318d5a9b6b3",
            "300caaf0f8934514b7d6b504fb09a5d4",
            "80911f367af240ed81dce3c7d0c22a89",
            "f3d9b438a7094d4ea807d67b30edd3d2",
            "22db3b9adde94b21bd237510d9317343",
            "d5bc3e07d1ae4c639ffbc686e0752482",
            "a691e5d3028b4c7a8fea653f7a8da45c",
            "712fc570dd01415c91c19bbc64e6b29d",
            "f8d00c71108045dc9ea80ff716697d9f"
          ]
        },
        "outputId": "a57d9320-941e-4898-a534-445b46816a2f"
      },
      "execution_count": null,
      "outputs": [
        {
          "output_type": "display_data",
          "data": {
            "text/plain": [
              "Downloading:   0%|          | 0.00/642 [00:00<?, ?B/s]"
            ],
            "application/vnd.jupyter.widget-view+json": {
              "version_major": 2,
              "version_minor": 0,
              "model_id": "3b96218abf9442438901dcafcc67eb53"
            }
          },
          "metadata": {}
        },
        {
          "output_type": "display_data",
          "data": {
            "text/plain": [
              "Downloading:   0%|          | 0.00/390M [00:00<?, ?B/s]"
            ],
            "application/vnd.jupyter.widget-view+json": {
              "version_major": 2,
              "version_minor": 0,
              "model_id": "475aa5b193384aba917260b10e9ba1cc"
            }
          },
          "metadata": {}
        },
        {
          "output_type": "stream",
          "name": "stderr",
          "text": [
            "Some weights of the model checkpoint at uer/roberta-base-finetuned-jd-full-chinese were not used when initializing BertModel: ['classifier.bias', 'classifier.weight']\n",
            "- This IS expected if you are initializing BertModel from the checkpoint of a model trained on another task or with another architecture (e.g. initializing a BertForSequenceClassification model from a BertForPreTraining model).\n",
            "- This IS NOT expected if you are initializing BertModel from the checkpoint of a model that you expect to be exactly identical (initializing a BertForSequenceClassification model from a BertForSequenceClassification model).\n"
          ]
        },
        {
          "output_type": "display_data",
          "data": {
            "text/plain": [
              "Downloading:   0%|          | 0.00/295 [00:00<?, ?B/s]"
            ],
            "application/vnd.jupyter.widget-view+json": {
              "version_major": 2,
              "version_minor": 0,
              "model_id": "d37f701bc1d04511a158ec4802367fdf"
            }
          },
          "metadata": {}
        },
        {
          "output_type": "display_data",
          "data": {
            "text/plain": [
              "Downloading:   0%|          | 0.00/107k [00:00<?, ?B/s]"
            ],
            "application/vnd.jupyter.widget-view+json": {
              "version_major": 2,
              "version_minor": 0,
              "model_id": "3b277a7cc69d42638c50521302d94402"
            }
          },
          "metadata": {}
        },
        {
          "output_type": "display_data",
          "data": {
            "text/plain": [
              "Downloading:   0%|          | 0.00/112 [00:00<?, ?B/s]"
            ],
            "application/vnd.jupyter.widget-view+json": {
              "version_major": 2,
              "version_minor": 0,
              "model_id": "66197795e6244778bfc613b39b951e89"
            }
          },
          "metadata": {}
        }
      ]
    },
    {
      "cell_type": "code",
      "source": [
        "from torch.utils.data import DataLoader\n",
        "\n",
        "train_set = MainData(df, tokenizer)\n",
        "train_loader = DataLoader(train_set, shuffle=False, batch_size=16, collate_fn=create_batch)\n",
        "\n",
        "val_set = MainData(val_df, tokenizer)\n",
        "val_loader = DataLoader(val_set, shuffle=False, batch_size=8, collate_fn=create_batch)"
      ],
      "metadata": {
        "id": "CBjO_cY6-X3s"
      },
      "execution_count": null,
      "outputs": []
    },
    {
      "cell_type": "code",
      "source": [
        "test_set = MainData(test_df, tokenizer)\n",
        "test_loader = DataLoader(test_set, shuffle=False, batch_size=8, collate_fn=create_batch)"
      ],
      "metadata": {
        "id": "TyfbofBWJc75"
      },
      "execution_count": null,
      "outputs": []
    },
    {
      "cell_type": "code",
      "source": [
        "from sklearn.metrics import accuracy_score\n",
        "\n",
        "def eval(model, data_loader):\n",
        "  loss=0\n",
        "  model.eval()\n",
        "  prediction = None\n",
        "  true = None\n",
        "\n",
        "  # label_pred = []\n",
        "  # label_true = []\n",
        "  with torch.no_grad():\n",
        "    for index, data in enumerate(data_loader):\n",
        "      input_id, mark, sgement_id, label = [t.to(\"cuda\") for t in data]\n",
        "      \n",
        "      #算Val_loss\n",
        "      output_loss = model(input_id, mark, label)\n",
        "      loss+=output_loss[0].item()\n",
        "      #================================================\n",
        "\n",
        "      output = model(input_id, mark)\n",
        "\n",
        "      logits = output[0]\n",
        "      _, pred = torch.max(logits.data, 1)\n",
        "\n",
        "      # label_pred.extend(pred.tolist())\n",
        "      # label_true.extend(label.tolist())\n",
        "      # print(type(label))\n",
        "      pred = pred.cpu()\n",
        "      label = label.cpu()\n",
        "\n",
        "\n",
        "      # print(f\"True label: {label}\")\n",
        "      # print(f\"Pred label: {pred}\")\n",
        "      \n",
        "\n",
        "      if prediction is None:\n",
        "        prediction = pred\n",
        "        true = label\n",
        "      else:\n",
        "        prediction = torch.cat((prediction, pred))\n",
        "        true = torch.cat((true, label))\n",
        "\n",
        "  #=================\n",
        "  loss = loss/len(data_loader)\n",
        "  #=================\n",
        "\n",
        "  acc = accuracy_score(true, prediction)\n",
        "  # f1 = f1_score(true, prediction)\n",
        "  # prec = precision_score(true, prediction)\n",
        "  # recall = recall_score(true, prediction)\n",
        "\n",
        "  return acc,loss"
      ],
      "metadata": {
        "id": "NvhB9a2Cm5gK"
      },
      "execution_count": null,
      "outputs": []
    },
    {
      "cell_type": "code",
      "source": [
        "from torch.optim import Adam\n",
        "from torch.nn import BCELoss\n",
        "import time\n",
        "import sys\n",
        "\n",
        "device = 'cuda'\n",
        "model = model.to(device)\n",
        "model.train()\n",
        "\n",
        "optimizer = Adam(model.parameters(), lr=5e-5)\n",
        "Train_Loss = []\n",
        "Val_Loss = []\n",
        "Train_Acc = []\n",
        "Val_Acc = []\n",
        "EPOCH = 15\n",
        "start = time.time()\n",
        "for epoch in range(EPOCH):\n",
        "    # running_loss = 0.0\n",
        "    bts = 0\n",
        "    for index, data in enumerate(train_loader):\n",
        "      input_id, mark, sgement_id, label = [t.to(device) for t in data]\n",
        "      optimizer.zero_grad()\n",
        "\n",
        "      output = model(input_id, mark, label)\n",
        "      l = output[0]\n",
        "      l.backward()\n",
        "      optimizer.step()\n",
        "      # running_loss+=l.item()\n",
        "      bts+=1\n",
        "      stats = 'Epoch [%d/%d], Step [%d/%d], Batch-Loss: %.4f' % (epoch+1, EPOCH, bts, len(train_loader), l.item())\n",
        "      print('\\r' + stats, end=\"\")\n",
        "      sys.stdout.flush()\n",
        "\n",
        "    # avg_loss = running_loss/bts\n",
        "    \n",
        "    # loss_list.append(avg_loss)\n",
        "    train_acc,train_loss = eval(model, train_loader)\n",
        "    val_acc,val_loss = eval(model, val_loader)\n",
        "    Train_Loss.append(train_loss)\n",
        "    Val_Loss.append(val_loss)\n",
        "    Train_Acc.append(train_acc)\n",
        "    Val_Acc.append(val_acc)\n",
        "    # print(f'val_acc: {val_acc}')\n",
        "    stats = 'Epoch [%d/%d], Step [%d/%d], Train-Loss: %.4f, Val-Loss: %.4f, Train-Acc: %.4f, Val-Acc: %.4f' % (epoch+1, EPOCH, bts, len(train_loader), train_loss, val_loss, train_acc, val_acc)\n",
        "    print('\\r' + stats)\n",
        "    \n",
        "    # loss_list = np.array(loss_list)\n",
        "    \n",
        "\n",
        "end = time.time()\n",
        "cost_time = end - start\n",
        "print('training time', cost_time)\n",
        "\n",
        "\n",
        "# model.save_pretrained(\"suicide_predtion_model\")\n",
        "# tokenizer.save_pretrained(\"suicide_predtion_token\")"
      ],
      "metadata": {
        "id": "I02M_PnDBOFz",
        "colab": {
          "base_uri": "https://localhost:8080/"
        },
        "outputId": "ae212bf4-8b31-4bb8-98f0-77654abc74c3"
      },
      "execution_count": null,
      "outputs": [
        {
          "output_type": "stream",
          "name": "stdout",
          "text": [
            "Epoch [1/15], Step [347/347], Train-Loss: 1.3436, Val-Loss: 1.2748, Train-Acc: 0.6704, Val-Acc: 0.6834\n",
            "Epoch [2/15], Step [347/347], Train-Loss: 0.9152, Val-Loss: 1.1109, Train-Acc: 0.7567, Val-Acc: 0.7283\n",
            "Epoch [3/15], Step [347/347], Train-Loss: 0.6194, Val-Loss: 1.2753, Train-Acc: 0.8338, Val-Acc: 0.7068\n",
            "Epoch [4/15], Step [347/347], Train-Loss: 0.4392, Val-Loss: 1.2004, Train-Acc: 0.8802, Val-Acc: 0.7293\n",
            "Epoch [5/15], Step [347/347], Train-Loss: 0.3600, Val-Loss: 1.2956, Train-Acc: 0.8977, Val-Acc: 0.7130\n",
            "Epoch [6/15], Step [347/347], Train-Loss: 0.2266, Val-Loss: 1.3628, Train-Acc: 0.9398, Val-Acc: 0.7334\n",
            "Epoch [7/15], Step [347/347], Train-Loss: 0.1714, Val-Loss: 1.3917, Train-Acc: 0.9541, Val-Acc: 0.7406\n",
            "Epoch [8/15], Step [347/347], Train-Loss: 0.1897, Val-Loss: 1.4121, Train-Acc: 0.9499, Val-Acc: 0.7436\n",
            "Epoch [9/15], Step [347/347], Train-Loss: 0.1402, Val-Loss: 1.4741, Train-Acc: 0.9620, Val-Acc: 0.7477\n",
            "Epoch [10/15], Step [347/347], Train-Loss: 0.1211, Val-Loss: 1.4694, Train-Acc: 0.9692, Val-Acc: 0.7497\n",
            "Epoch [11/15], Step [347/347], Train-Loss: 0.0689, Val-Loss: 1.4557, Train-Acc: 0.9804, Val-Acc: 0.7589\n",
            "Epoch [12/15], Step [347/347], Train-Loss: 0.0746, Val-Loss: 1.3809, Train-Acc: 0.9777, Val-Acc: 0.7528\n",
            "Epoch [13/15], Step [347/347], Train-Loss: 0.0694, Val-Loss: 1.3257, Train-Acc: 0.9820, Val-Acc: 0.7579\n",
            "Epoch [14/15], Step [347/347], Train-Loss: 0.0875, Val-Loss: 1.5187, Train-Acc: 0.9764, Val-Acc: 0.7559\n",
            "Epoch [15/15], Step [347/347], Train-Loss: 0.0954, Val-Loss: 1.4198, Train-Acc: 0.9755, Val-Acc: 0.7589\n",
            "training time 8185.585426807404\n"
          ]
        }
      ]
    },
    {
      "cell_type": "code",
      "source": [
        "import matplotlib.pyplot as plt\n",
        "\n",
        "plt.figure(figsize=(10,5),dpi=100,linewidth = 2)\n",
        "plt.plot(Train_Loss, 's-', color='r', label=\"Train-Loss\")   \n",
        "plt.plot(Val_Loss, 'o-', color='g', label=\"Val-Loss\")    \n",
        "plt.xlabel(\"epoch\", fontsize=15, labelpad = 15)\n",
        "plt.ylabel(\"loss\", fontsize=15, labelpad = 20)\n",
        "plt.legend(loc = \"best\", fontsize=10)\n",
        "plt.show()"
      ],
      "metadata": {
        "id": "6tazP5fCFc2S",
        "colab": {
          "base_uri": "https://localhost:8080/",
          "height": 479
        },
        "outputId": "ffd44fa8-aa85-45bf-ecb8-116da2b0ade3"
      },
      "execution_count": null,
      "outputs": [
        {
          "output_type": "display_data",
          "data": {
            "text/plain": [
              "<Figure size 1000x500 with 1 Axes>"
            ],
            "image/png": "[encoded data removed]"
          },
          "metadata": {
            "needs_background": "light"
          }
        }
      ]
    },
    {
      "cell_type": "code",
      "source": [
        "import matplotlib.pyplot as plt\n",
        "\n",
        "plt.figure(figsize=(10,5),dpi=100,linewidth = 2)\n",
        "plt.plot(Train_Acc, 's-', color='r', label=\"Train-Acc\")   \n",
        "plt.plot(Val_Acc, 'o-', color='g', label=\"Val-Acc\")    \n",
        "plt.xlabel(\"epoch\", fontsize=15, labelpad = 15)\n",
        "plt.ylabel(\"Acc\", fontsize=15, labelpad = 20)\n",
        "plt.legend(loc = \"best\", fontsize=10)\n",
        "plt.show()"
      ],
      "metadata": {
        "id": "A2XGBZ3YeKQn",
        "colab": {
          "base_uri": "https://localhost:8080/",
          "height": 479
        },
        "outputId": "c8234109-0e86-4655-9f60-404224c11db7"
      },
      "execution_count": null,
      "outputs": [
        {
          "output_type": "display_data",
          "data": {
            "text/plain": [
              "<Figure size 1000x500 with 1 Axes>"
            ],
            "image/png": "[encoded data removed]"
          },
          "metadata": {
            "needs_background": "light"
          }
        }
      ]
    },
    {
      "cell_type": "code",
      "source": [
        "def save(model, optimizer, path):\n",
        "  torch.save({\n",
        "      'model_state_dict': model.state_dict(),\n",
        "      'optimizer_state_dict': optimizer.state_dict()\n",
        "  }, path)"
      ],
      "metadata": {
        "id": "ZGZq5Dfu5NvZ"
      },
      "execution_count": null,
      "outputs": []
    },
    {
      "cell_type": "code",
      "source": [
        "model_save_to = 'model/roberta-base-2020CisDep-10501-20220713.zip'"
      ],
      "metadata": {
        "id": "ctHDRs0844MT"
      },
      "execution_count": null,
      "outputs": []
    },
    {
      "cell_type": "code",
      "source": [
        "save(model, optimizer, model_save_to)"
      ],
      "metadata": {
        "id": "U3NVuJHXCPI9"
      },
      "execution_count": null,
      "outputs": []
    },
    {
      "cell_type": "code",
      "source": [
        "eval(model, train_loader)"
      ],
      "metadata": {
        "id": "IEsItfULJZZw",
        "colab": {
          "base_uri": "https://localhost:8080/"
        },
        "outputId": "a0725f96-5d24-40af-a345-92ec419434e4"
      },
      "execution_count": null,
      "outputs": [
        {
          "output_type": "execute_result",
          "data": {
            "text/plain": [
              "(0.9755043227665706, 0.09543801589918616)"
            ]
          },
          "metadata": {},
          "execution_count": 39
        }
      ]
    },
    {
      "cell_type": "code",
      "source": [
        "eval(model, val_loader)"
      ],
      "metadata": {
        "id": "SUab2QWQ7JrJ",
        "colab": {
          "base_uri": "https://localhost:8080/"
        },
        "outputId": "b468ec51-9a45-48c1-aad4-7482e42bb059"
      },
      "execution_count": null,
      "outputs": [
        {
          "output_type": "execute_result",
          "data": {
            "text/plain": [
              "(0.7589376915219612, 1.4198055732578827)"
            ]
          },
          "metadata": {},
          "execution_count": 40
        }
      ]
    },
    {
      "cell_type": "code",
      "source": [
        "eval(model, test_loader)"
      ],
      "metadata": {
        "colab": {
          "base_uri": "https://localhost:8080/"
        },
        "id": "Gywl3pz5JlCS",
        "outputId": "f65e8a74-61c3-4e11-edd8-0ff4c1906c7a"
      },
      "execution_count": null,
      "outputs": [
        {
          "output_type": "execute_result",
          "data": {
            "text/plain": [
              "(0.7586206896551724, 1.3484467524001478)"
            ]
          },
          "metadata": {},
          "execution_count": 38
        }
      ]
    },
    {
      "cell_type": "code",
      "source": [
        "!"
      ],
      "metadata": {
        "id": "mAUiaeQYJlHu"
      },
      "execution_count": null,
      "outputs": []
    }
  ]
}